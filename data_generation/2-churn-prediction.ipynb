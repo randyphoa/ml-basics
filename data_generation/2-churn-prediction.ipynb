{
 "cells": [
  {
   "cell_type": "code",
   "execution_count": 1,
   "metadata": {},
   "outputs": [],
   "source": [
    "import importlib\n",
    "import pandas as pd\n",
    "import utils"
   ]
  },
  {
   "cell_type": "code",
   "execution_count": 2,
   "metadata": {},
   "outputs": [
    {
     "data": {
      "text/plain": [
       "<module 'utils' from '/Users/nicolearitranair/ml-basics/notebook/utils.py'>"
      ]
     },
     "execution_count": 2,
     "metadata": {},
     "output_type": "execute_result"
    }
   ],
   "source": [
    "importlib.reload(utils)"
   ]
  },
  {
   "cell_type": "code",
   "execution_count": 3,
   "metadata": {},
   "outputs": [
    {
     "data": {
      "text/html": [
       "<div>\n",
       "<style scoped>\n",
       "    .dataframe tbody tr th:only-of-type {\n",
       "        vertical-align: middle;\n",
       "    }\n",
       "\n",
       "    .dataframe tbody tr th {\n",
       "        vertical-align: top;\n",
       "    }\n",
       "\n",
       "    .dataframe thead th {\n",
       "        text-align: right;\n",
       "    }\n",
       "</style>\n",
       "<table border=\"1\" class=\"dataframe\">\n",
       "  <thead>\n",
       "    <tr style=\"text-align: right;\">\n",
       "      <th></th>\n",
       "      <th>Customer_ID</th>\n",
       "      <th>Age</th>\n",
       "      <th>Gender</th>\n",
       "      <th>CreditScore</th>\n",
       "      <th>Tenure</th>\n",
       "      <th>Balance</th>\n",
       "      <th>NumOfProducts</th>\n",
       "      <th>HasCrCard</th>\n",
       "      <th>EstimatedSalary</th>\n",
       "      <th>Churn</th>\n",
       "    </tr>\n",
       "  </thead>\n",
       "  <tbody>\n",
       "    <tr>\n",
       "      <th>0</th>\n",
       "      <td>1</td>\n",
       "      <td>52</td>\n",
       "      <td>F</td>\n",
       "      <td>531</td>\n",
       "      <td>8</td>\n",
       "      <td>62134.163446</td>\n",
       "      <td>5</td>\n",
       "      <td>1</td>\n",
       "      <td>88756.684984</td>\n",
       "      <td>1</td>\n",
       "    </tr>\n",
       "    <tr>\n",
       "      <th>1</th>\n",
       "      <td>2</td>\n",
       "      <td>55</td>\n",
       "      <td>M</td>\n",
       "      <td>644</td>\n",
       "      <td>9</td>\n",
       "      <td>17925.150632</td>\n",
       "      <td>6</td>\n",
       "      <td>1</td>\n",
       "      <td>106327.534688</td>\n",
       "      <td>0</td>\n",
       "    </tr>\n",
       "    <tr>\n",
       "      <th>2</th>\n",
       "      <td>3</td>\n",
       "      <td>47</td>\n",
       "      <td>F</td>\n",
       "      <td>400</td>\n",
       "      <td>1</td>\n",
       "      <td>85553.044049</td>\n",
       "      <td>2</td>\n",
       "      <td>1</td>\n",
       "      <td>137419.725214</td>\n",
       "      <td>0</td>\n",
       "    </tr>\n",
       "    <tr>\n",
       "      <th>3</th>\n",
       "      <td>4</td>\n",
       "      <td>19</td>\n",
       "      <td>F</td>\n",
       "      <td>512</td>\n",
       "      <td>7</td>\n",
       "      <td>138441.597429</td>\n",
       "      <td>4</td>\n",
       "      <td>0</td>\n",
       "      <td>88276.246240</td>\n",
       "      <td>0</td>\n",
       "    </tr>\n",
       "    <tr>\n",
       "      <th>4</th>\n",
       "      <td>5</td>\n",
       "      <td>54</td>\n",
       "      <td>M</td>\n",
       "      <td>330</td>\n",
       "      <td>5</td>\n",
       "      <td>90300.966334</td>\n",
       "      <td>6</td>\n",
       "      <td>0</td>\n",
       "      <td>118284.398374</td>\n",
       "      <td>1</td>\n",
       "    </tr>\n",
       "    <tr>\n",
       "      <th>...</th>\n",
       "      <td>...</td>\n",
       "      <td>...</td>\n",
       "      <td>...</td>\n",
       "      <td>...</td>\n",
       "      <td>...</td>\n",
       "      <td>...</td>\n",
       "      <td>...</td>\n",
       "      <td>...</td>\n",
       "      <td>...</td>\n",
       "      <td>...</td>\n",
       "    </tr>\n",
       "    <tr>\n",
       "      <th>995</th>\n",
       "      <td>996</td>\n",
       "      <td>50</td>\n",
       "      <td>M</td>\n",
       "      <td>448</td>\n",
       "      <td>6</td>\n",
       "      <td>5351.933304</td>\n",
       "      <td>3</td>\n",
       "      <td>0</td>\n",
       "      <td>30447.817428</td>\n",
       "      <td>1</td>\n",
       "    </tr>\n",
       "    <tr>\n",
       "      <th>996</th>\n",
       "      <td>997</td>\n",
       "      <td>28</td>\n",
       "      <td>M</td>\n",
       "      <td>848</td>\n",
       "      <td>4</td>\n",
       "      <td>189521.155117</td>\n",
       "      <td>6</td>\n",
       "      <td>1</td>\n",
       "      <td>67337.651707</td>\n",
       "      <td>1</td>\n",
       "    </tr>\n",
       "    <tr>\n",
       "      <th>997</th>\n",
       "      <td>998</td>\n",
       "      <td>53</td>\n",
       "      <td>F</td>\n",
       "      <td>734</td>\n",
       "      <td>5</td>\n",
       "      <td>25197.526474</td>\n",
       "      <td>3</td>\n",
       "      <td>0</td>\n",
       "      <td>102913.476700</td>\n",
       "      <td>1</td>\n",
       "    </tr>\n",
       "    <tr>\n",
       "      <th>998</th>\n",
       "      <td>999</td>\n",
       "      <td>44</td>\n",
       "      <td>F</td>\n",
       "      <td>582</td>\n",
       "      <td>7</td>\n",
       "      <td>65463.573579</td>\n",
       "      <td>3</td>\n",
       "      <td>1</td>\n",
       "      <td>25680.517834</td>\n",
       "      <td>0</td>\n",
       "    </tr>\n",
       "    <tr>\n",
       "      <th>999</th>\n",
       "      <td>1000</td>\n",
       "      <td>44</td>\n",
       "      <td>F</td>\n",
       "      <td>577</td>\n",
       "      <td>7</td>\n",
       "      <td>33279.349959</td>\n",
       "      <td>6</td>\n",
       "      <td>1</td>\n",
       "      <td>26436.274723</td>\n",
       "      <td>0</td>\n",
       "    </tr>\n",
       "  </tbody>\n",
       "</table>\n",
       "<p>1000 rows × 10 columns</p>\n",
       "</div>"
      ],
      "text/plain": [
       "     Customer_ID  Age Gender  CreditScore  Tenure        Balance  \\\n",
       "0              1   52      F          531       8   62134.163446   \n",
       "1              2   55      M          644       9   17925.150632   \n",
       "2              3   47      F          400       1   85553.044049   \n",
       "3              4   19      F          512       7  138441.597429   \n",
       "4              5   54      M          330       5   90300.966334   \n",
       "..           ...  ...    ...          ...     ...            ...   \n",
       "995          996   50      M          448       6    5351.933304   \n",
       "996          997   28      M          848       4  189521.155117   \n",
       "997          998   53      F          734       5   25197.526474   \n",
       "998          999   44      F          582       7   65463.573579   \n",
       "999         1000   44      F          577       7   33279.349959   \n",
       "\n",
       "     NumOfProducts  HasCrCard  EstimatedSalary  Churn  \n",
       "0                5          1     88756.684984      1  \n",
       "1                6          1    106327.534688      0  \n",
       "2                2          1    137419.725214      0  \n",
       "3                4          0     88276.246240      0  \n",
       "4                6          0    118284.398374      1  \n",
       "..             ...        ...              ...    ...  \n",
       "995              3          0     30447.817428      1  \n",
       "996              6          1     67337.651707      1  \n",
       "997              3          0    102913.476700      1  \n",
       "998              3          1     25680.517834      0  \n",
       "999              6          1     26436.274723      0  \n",
       "\n",
       "[1000 rows x 10 columns]"
      ]
     },
     "execution_count": 3,
     "metadata": {},
     "output_type": "execute_result"
    }
   ],
   "source": [
    "df = utils.get_churn_prediction_data()\n",
    "\n",
    "df"
   ]
  },
  {
   "cell_type": "code",
   "execution_count": 4,
   "metadata": {},
   "outputs": [],
   "source": [
    "df.iloc[:,1:].to_csv(\"output_data/churn-prediction.csv\", index=False)"
   ]
  },
  {
   "cell_type": "code",
   "execution_count": 5,
   "metadata": {},
   "outputs": [
    {
     "data": {
      "text/plain": [
       "np.int64(454)"
      ]
     },
     "execution_count": 5,
     "metadata": {},
     "output_type": "execute_result"
    }
   ],
   "source": [
    "df[\"Churn\"].sum()"
   ]
  },
  {
   "cell_type": "code",
   "execution_count": 6,
   "metadata": {},
   "outputs": [
    {
     "data": {
      "text/plain": [
       "0      1\n",
       "1      0\n",
       "2      0\n",
       "3      0\n",
       "4      1\n",
       "      ..\n",
       "995    1\n",
       "996    1\n",
       "997    1\n",
       "998    0\n",
       "999    0\n",
       "Name: Churn, Length: 1000, dtype: int64"
      ]
     },
     "execution_count": 6,
     "metadata": {},
     "output_type": "execute_result"
    }
   ],
   "source": [
    "df[\"Churn\"]"
   ]
  },
  {
   "cell_type": "code",
   "execution_count": null,
   "metadata": {},
   "outputs": [],
   "source": []
  }
 ],
 "metadata": {
  "kernelspec": {
   "display_name": "env",
   "language": "python",
   "name": "python3"
  },
  "language_info": {
   "codemirror_mode": {
    "name": "ipython",
    "version": 3
   },
   "file_extension": ".py",
   "mimetype": "text/x-python",
   "name": "python",
   "nbconvert_exporter": "python",
   "pygments_lexer": "ipython3",
   "version": "3.10.13"
  }
 },
 "nbformat": 4,
 "nbformat_minor": 2
}
