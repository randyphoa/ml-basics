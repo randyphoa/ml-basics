{
 "cells": [
  {
   "cell_type": "markdown",
   "metadata": {},
   "source": [
    "# Call Deployed Models\n",
    "\n",
    "We will use this notebook to call the 5 models that we deployed into the watsonx API."
   ]
  },
  {
   "cell_type": "code",
   "execution_count": 1,
   "metadata": {},
   "outputs": [],
   "source": [
    "import requests\n",
    "import json\n",
    "import os\n",
    "from dotenv import load_dotenv\n",
    "load_dotenv()\n",
    "\n",
    "def call_watsonx_model(endpoint_name, input_json_path):\n",
    "    API_KEY = os.getenv(\"API_KEY\")\n",
    "    token_response = requests.post('https://iam.cloud.ibm.com/identity/token', data={\"apikey\":\n",
    "    API_KEY, \"grant_type\": 'urn:ibm:params:oauth:grant-type:apikey'})\n",
    "    mltoken = token_response.json()[\"access_token\"]\n",
    "    header = {'Content-Type': 'application/json', 'Authorization': 'Bearer ' + mltoken}\n",
    "\n",
    "    # NOTE: manually define and pass the array(s) of values to be scored in the next line\n",
    "    with open(input_json_path, \"r\") as f:\n",
    "        payload_scoring = json.load(f)\n",
    "\n",
    "    print(\"This is the payload that we are sending to the API: \", payload_scoring)\n",
    "\n",
    "    response_scoring = requests.post(f'https://us-south.ml.cloud.ibm.com/ml/v4/deployments/{endpoint_name}/predictions?version=2021-05-01', json=payload_scoring,\n",
    "    headers={'Authorization': 'Bearer ' + mltoken})\n",
    "    print(\"Scoring response\")\n",
    "    print(response_scoring.json())\n"
   ]
  },
  {
   "cell_type": "markdown",
   "metadata": {},
   "source": [
    "# Call Product Propensity Model"
   ]
  },
  {
   "cell_type": "code",
   "execution_count": 2,
   "metadata": {},
   "outputs": [
    {
     "name": "stdout",
     "output_type": "stream",
     "text": [
      "This is the payload that we are sending to the API:  {'input_data': [{'fields': ['Age', 'Gender', 'Credit_Limit', 'Transaction_Source_M_Count', 'Transaction_Source_A_Count', 'Transaction_Source_D_Count', 'Transaction_Source_V_Count', 'Transaction_Source_P_Count', 'Transaction_Source_U_Count', 'Avg_Transaction_Value', 'Customer_Segment'], 'values': [[40, 'F', 70000, 1, 1, 1, 1, 1, 1, 300, 1]]}]}\n",
      "Scoring response\n",
      "{'predictions': [{'fields': ['prediction', 'probability'], 'values': [[1.0, [0.3948508351932674, 0.6051491648067325]]]}]}\n"
     ]
    }
   ],
   "source": [
    "call_watsonx_model(\"product_propensity\", \"api_sample_data/test-product-propensity.json\")"
   ]
  },
  {
   "cell_type": "markdown",
   "metadata": {},
   "source": [
    "# Call Churn Prediction Model"
   ]
  },
  {
   "cell_type": "code",
   "execution_count": 3,
   "metadata": {},
   "outputs": [
    {
     "name": "stdout",
     "output_type": "stream",
     "text": [
      "This is the payload that we are sending to the API:  {'input_data': [{'fields': ['Age', 'Gender', 'CreditScore', 'Tenure', 'Balance', 'NumOfProducts', 'HasCrCard', 'EstimatedSalary'], 'values': [[18, 'M', 390, 2, 40000, 2, 1, 30000]]}]}\n",
      "Scoring response\n",
      "{'predictions': [{'fields': ['prediction', 'probability'], 'values': [[1.0, [0.3046363336532828, 0.6953636663467173]]]}]}\n"
     ]
    }
   ],
   "source": [
    "call_watsonx_model(\"churn_prediction\", \"api_sample_data/test-churn-prediction.json\")"
   ]
  },
  {
   "cell_type": "markdown",
   "metadata": {},
   "source": [
    "# Call Customer Lifetime Value Model"
   ]
  },
  {
   "cell_type": "code",
   "execution_count": 4,
   "metadata": {},
   "outputs": [
    {
     "name": "stdout",
     "output_type": "stream",
     "text": [
      "This is the payload that we are sending to the API:  {'input_data': [{'fields': ['Age', 'Gender', 'CreditScore', 'Tenure', 'Balance', 'NumOfProducts', 'Country', 'HasCrCard', 'Transaction_Source_M_Count', 'Transaction_Source_A_Count', 'Transaction_Source_D_Count', 'Transaction_Source_V_Count', 'Transaction_Source_P_Count', 'Transaction_Source_U_Count', 'Avg_Transaction_Value', 'EstimatedSalary'], 'values': [[34, 'F', 300, 2, 20000, 2, 'THA', 1, 2, 1, 1, 1, 1, 1, 30, 20000]]}]}\n",
      "Scoring response\n",
      "{'predictions': [{'fields': ['prediction'], 'values': [[427.4146423339844]]}]}\n"
     ]
    }
   ],
   "source": [
    "call_watsonx_model(\"cltv_prediction\", \"api_sample_data/test-customer-lifetime-value.json\")"
   ]
  },
  {
   "cell_type": "markdown",
   "metadata": {},
   "source": [
    "# Call Product Recommendation Model"
   ]
  },
  {
   "cell_type": "code",
   "execution_count": null,
   "metadata": {},
   "outputs": [],
   "source": []
  },
  {
   "cell_type": "markdown",
   "metadata": {},
   "source": [
    "# Call Customer Segmentation Model"
   ]
  },
  {
   "cell_type": "code",
   "execution_count": null,
   "metadata": {},
   "outputs": [],
   "source": []
  }
 ],
 "metadata": {
  "kernelspec": {
   "display_name": "env",
   "language": "python",
   "name": "python3"
  },
  "language_info": {
   "codemirror_mode": {
    "name": "ipython",
    "version": 3
   },
   "file_extension": ".py",
   "mimetype": "text/x-python",
   "name": "python",
   "nbconvert_exporter": "python",
   "pygments_lexer": "ipython3",
   "version": "3.10.13"
  }
 },
 "nbformat": 4,
 "nbformat_minor": 2
}
