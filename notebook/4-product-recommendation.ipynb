{
 "cells": [
  {
   "cell_type": "code",
   "execution_count": 30,
   "metadata": {},
   "outputs": [],
   "source": [
    "import importlib\n",
    "import pandas as pd\n",
    "import utils"
   ]
  },
  {
   "cell_type": "code",
   "execution_count": 31,
   "metadata": {},
   "outputs": [
    {
     "data": {
      "text/plain": [
       "<module 'utils' from '/Users/nicolearitranair/ml-basics/notebook/utils.py'>"
      ]
     },
     "execution_count": 31,
     "metadata": {},
     "output_type": "execute_result"
    }
   ],
   "source": [
    "importlib.reload(utils)"
   ]
  },
  {
   "cell_type": "code",
   "execution_count": 95,
   "metadata": {},
   "outputs": [
    {
     "data": {
      "text/html": [
       "<div>\n",
       "<style scoped>\n",
       "    .dataframe tbody tr th:only-of-type {\n",
       "        vertical-align: middle;\n",
       "    }\n",
       "\n",
       "    .dataframe tbody tr th {\n",
       "        vertical-align: top;\n",
       "    }\n",
       "\n",
       "    .dataframe thead th {\n",
       "        text-align: right;\n",
       "    }\n",
       "</style>\n",
       "<table border=\"1\" class=\"dataframe\">\n",
       "  <thead>\n",
       "    <tr style=\"text-align: right;\">\n",
       "      <th></th>\n",
       "      <th>user</th>\n",
       "      <th>item</th>\n",
       "      <th>rating</th>\n",
       "    </tr>\n",
       "  </thead>\n",
       "  <tbody>\n",
       "    <tr>\n",
       "      <th>0</th>\n",
       "      <td>1</td>\n",
       "      <td>MSPP02</td>\n",
       "      <td>3</td>\n",
       "    </tr>\n",
       "    <tr>\n",
       "      <th>4</th>\n",
       "      <td>1</td>\n",
       "      <td>UPPP01</td>\n",
       "      <td>3</td>\n",
       "    </tr>\n",
       "    <tr>\n",
       "      <th>5</th>\n",
       "      <td>1</td>\n",
       "      <td>VSPP25</td>\n",
       "      <td>2</td>\n",
       "    </tr>\n",
       "    <tr>\n",
       "      <th>6</th>\n",
       "      <td>1</td>\n",
       "      <td>MSGT91</td>\n",
       "      <td>1</td>\n",
       "    </tr>\n",
       "    <tr>\n",
       "      <th>7</th>\n",
       "      <td>1</td>\n",
       "      <td>VSPP33</td>\n",
       "      <td>2</td>\n",
       "    </tr>\n",
       "    <tr>\n",
       "      <th>...</th>\n",
       "      <td>...</td>\n",
       "      <td>...</td>\n",
       "      <td>...</td>\n",
       "    </tr>\n",
       "    <tr>\n",
       "      <th>123989</th>\n",
       "      <td>1000</td>\n",
       "      <td>MSGT31</td>\n",
       "      <td>2</td>\n",
       "    </tr>\n",
       "    <tr>\n",
       "      <th>123991</th>\n",
       "      <td>1000</td>\n",
       "      <td>MSGT32</td>\n",
       "      <td>2</td>\n",
       "    </tr>\n",
       "    <tr>\n",
       "      <th>123994</th>\n",
       "      <td>1000</td>\n",
       "      <td>MSGT47</td>\n",
       "      <td>3</td>\n",
       "    </tr>\n",
       "    <tr>\n",
       "      <th>123997</th>\n",
       "      <td>1000</td>\n",
       "      <td>MSGT19</td>\n",
       "      <td>1</td>\n",
       "    </tr>\n",
       "    <tr>\n",
       "      <th>123998</th>\n",
       "      <td>1000</td>\n",
       "      <td>VACM13</td>\n",
       "      <td>2</td>\n",
       "    </tr>\n",
       "  </tbody>\n",
       "</table>\n",
       "<p>62000 rows × 3 columns</p>\n",
       "</div>"
      ],
      "text/plain": [
       "        user    item  rating\n",
       "0          1  MSPP02       3\n",
       "4          1  UPPP01       3\n",
       "5          1  VSPP25       2\n",
       "6          1  MSGT91       1\n",
       "7          1  VSPP33       2\n",
       "...      ...     ...     ...\n",
       "123989  1000  MSGT31       2\n",
       "123991  1000  MSGT32       2\n",
       "123994  1000  MSGT47       3\n",
       "123997  1000  MSGT19       1\n",
       "123998  1000  VACM13       2\n",
       "\n",
       "[62000 rows x 3 columns]"
      ]
     },
     "execution_count": 95,
     "metadata": {},
     "output_type": "execute_result"
    }
   ],
   "source": [
    "import numpy as np\n",
    "\n",
    "df = utils.get_product_recommendation_data()\n",
    "df"
   ]
  },
  {
   "cell_type": "code",
   "execution_count": 96,
   "metadata": {},
   "outputs": [],
   "source": [
    "df.to_csv(\"output_data/product-recommendation.csv\")"
   ]
  },
  {
   "cell_type": "markdown",
   "metadata": {},
   "source": [
    "# Split into train and test"
   ]
  },
  {
   "cell_type": "code",
   "execution_count": 97,
   "metadata": {},
   "outputs": [],
   "source": [
    "idx = df.sample(frac=0.5, random_state=12345).index\n",
    "train_df = df.drop(idx, inplace=False)\n",
    "test_df = df.loc[idx]"
   ]
  },
  {
   "cell_type": "code",
   "execution_count": 98,
   "metadata": {},
   "outputs": [
    {
     "data": {
      "text/html": [
       "<div>\n",
       "<style scoped>\n",
       "    .dataframe tbody tr th:only-of-type {\n",
       "        vertical-align: middle;\n",
       "    }\n",
       "\n",
       "    .dataframe tbody tr th {\n",
       "        vertical-align: top;\n",
       "    }\n",
       "\n",
       "    .dataframe thead th {\n",
       "        text-align: right;\n",
       "    }\n",
       "</style>\n",
       "<table border=\"1\" class=\"dataframe\">\n",
       "  <thead>\n",
       "    <tr style=\"text-align: right;\">\n",
       "      <th></th>\n",
       "      <th>user</th>\n",
       "      <th>item</th>\n",
       "      <th>rating</th>\n",
       "    </tr>\n",
       "  </thead>\n",
       "  <tbody>\n",
       "    <tr>\n",
       "      <th>6</th>\n",
       "      <td>1</td>\n",
       "      <td>MSGT91</td>\n",
       "      <td>1</td>\n",
       "    </tr>\n",
       "    <tr>\n",
       "      <th>7</th>\n",
       "      <td>1</td>\n",
       "      <td>VSPP33</td>\n",
       "      <td>2</td>\n",
       "    </tr>\n",
       "    <tr>\n",
       "      <th>11</th>\n",
       "      <td>1</td>\n",
       "      <td>VSSS09</td>\n",
       "      <td>2</td>\n",
       "    </tr>\n",
       "    <tr>\n",
       "      <th>13</th>\n",
       "      <td>1</td>\n",
       "      <td>VSSS01</td>\n",
       "      <td>3</td>\n",
       "    </tr>\n",
       "    <tr>\n",
       "      <th>16</th>\n",
       "      <td>1</td>\n",
       "      <td>MSGT66</td>\n",
       "      <td>2</td>\n",
       "    </tr>\n",
       "    <tr>\n",
       "      <th>...</th>\n",
       "      <td>...</td>\n",
       "      <td>...</td>\n",
       "      <td>...</td>\n",
       "    </tr>\n",
       "    <tr>\n",
       "      <th>123975</th>\n",
       "      <td>1000</td>\n",
       "      <td>MSGT44</td>\n",
       "      <td>2</td>\n",
       "    </tr>\n",
       "    <tr>\n",
       "      <th>123987</th>\n",
       "      <td>1000</td>\n",
       "      <td>MSGT15</td>\n",
       "      <td>2</td>\n",
       "    </tr>\n",
       "    <tr>\n",
       "      <th>123989</th>\n",
       "      <td>1000</td>\n",
       "      <td>MSGT31</td>\n",
       "      <td>2</td>\n",
       "    </tr>\n",
       "    <tr>\n",
       "      <th>123994</th>\n",
       "      <td>1000</td>\n",
       "      <td>MSGT47</td>\n",
       "      <td>3</td>\n",
       "    </tr>\n",
       "    <tr>\n",
       "      <th>123998</th>\n",
       "      <td>1000</td>\n",
       "      <td>VACM13</td>\n",
       "      <td>2</td>\n",
       "    </tr>\n",
       "  </tbody>\n",
       "</table>\n",
       "<p>31000 rows × 3 columns</p>\n",
       "</div>"
      ],
      "text/plain": [
       "        user    item  rating\n",
       "6          1  MSGT91       1\n",
       "7          1  VSPP33       2\n",
       "11         1  VSSS09       2\n",
       "13         1  VSSS01       3\n",
       "16         1  MSGT66       2\n",
       "...      ...     ...     ...\n",
       "123975  1000  MSGT44       2\n",
       "123987  1000  MSGT15       2\n",
       "123989  1000  MSGT31       2\n",
       "123994  1000  MSGT47       3\n",
       "123998  1000  VACM13       2\n",
       "\n",
       "[31000 rows x 3 columns]"
      ]
     },
     "execution_count": 98,
     "metadata": {},
     "output_type": "execute_result"
    }
   ],
   "source": [
    "train_df"
   ]
  },
  {
   "cell_type": "code",
   "execution_count": 99,
   "metadata": {},
   "outputs": [
    {
     "data": {
      "text/html": [
       "<table border=\"1\" class=\"dataframe\">\n",
       "  <thead>\n",
       "    <tr style=\"text-align: right;\">\n",
       "      <th></th>\n",
       "      <th>user</th>\n",
       "      <th>item</th>\n",
       "      <th>rating</th>\n",
       "    </tr>\n",
       "  </thead>\n",
       "  <tbody>\n",
       "    <tr>\n",
       "      <th>0</th>\n",
       "      <td>388</td>\n",
       "      <td>MSCA47</td>\n",
       "      <td>3</td>\n",
       "    </tr>\n",
       "    <tr>\n",
       "      <th>1</th>\n",
       "      <td>781</td>\n",
       "      <td>MSGT12</td>\n",
       "      <td>1</td>\n",
       "    </tr>\n",
       "    <tr>\n",
       "      <th>2</th>\n",
       "      <td>847</td>\n",
       "      <td>MSPP02</td>\n",
       "      <td>3</td>\n",
       "    </tr>\n",
       "    <tr>\n",
       "      <th>3</th>\n",
       "      <td>979</td>\n",
       "      <td>VSPP05</td>\n",
       "      <td>2</td>\n",
       "    </tr>\n",
       "    <tr>\n",
       "      <th>4</th>\n",
       "      <td>901</td>\n",
       "      <td>MSGT30</td>\n",
       "      <td>2</td>\n",
       "    </tr>\n",
       "    <tr>\n",
       "      <th>5</th>\n",
       "      <td>16</td>\n",
       "      <td>JCGA75</td>\n",
       "      <td>1</td>\n",
       "    </tr>\n",
       "    <tr>\n",
       "      <th>6</th>\n",
       "      <td>902</td>\n",
       "      <td>VCBGSC</td>\n",
       "      <td>2</td>\n",
       "    </tr>\n",
       "    <tr>\n",
       "      <th>7</th>\n",
       "      <td>438</td>\n",
       "      <td>VSPP29</td>\n",
       "      <td>1</td>\n",
       "    </tr>\n",
       "    <tr>\n",
       "      <th>8</th>\n",
       "      <td>844</td>\n",
       "      <td>MSGT43</td>\n",
       "      <td>2</td>\n",
       "    </tr>\n",
       "    <tr>\n",
       "      <th>9</th>\n",
       "      <td>530</td>\n",
       "      <td>MSGT28</td>\n",
       "      <td>2</td>\n",
       "    </tr>\n",
       "  </tbody>\n",
       "</table>"
      ],
      "text/plain": [
       "<IPython.core.display.HTML object>"
      ]
     },
     "metadata": {},
     "output_type": "display_data"
    },
    {
     "data": {
      "text/html": [
       "\n",
       "<style>\n",
       "    /* Turns off some styling */\n",
       "    progress {\n",
       "        /* gets rid of default border in Firefox and Opera. */\n",
       "        border: none;\n",
       "        /* Needs to be in here for Safari polyfill so background images work as expected. */\n",
       "        background-size: auto;\n",
       "    }\n",
       "    progress:not([value]), progress:not([value])::-webkit-progress-bar {\n",
       "        background: repeating-linear-gradient(45deg, #7e7e7e, #7e7e7e 10px, #5c5c5c 10px, #5c5c5c 20px);\n",
       "    }\n",
       "    .progress-bar-interrupted, .progress-bar-interrupted::-webkit-progress-bar {\n",
       "        background: #F44336;\n",
       "    }\n",
       "</style>\n"
      ],
      "text/plain": [
       "<IPython.core.display.HTML object>"
      ]
     },
     "metadata": {},
     "output_type": "display_data"
    },
    {
     "data": {
      "text/html": [
       "<table border=\"1\" class=\"dataframe\">\n",
       "  <thead>\n",
       "    <tr style=\"text-align: left;\">\n",
       "      <th>epoch</th>\n",
       "      <th>train_loss</th>\n",
       "      <th>valid_loss</th>\n",
       "      <th>time</th>\n",
       "    </tr>\n",
       "  </thead>\n",
       "  <tbody>\n",
       "    <tr>\n",
       "      <td>0</td>\n",
       "      <td>0.265915</td>\n",
       "      <td>0.204619</td>\n",
       "      <td>00:02</td>\n",
       "    </tr>\n",
       "    <tr>\n",
       "      <td>1</td>\n",
       "      <td>0.125706</td>\n",
       "      <td>0.151516</td>\n",
       "      <td>00:02</td>\n",
       "    </tr>\n",
       "    <tr>\n",
       "      <td>2</td>\n",
       "      <td>0.072529</td>\n",
       "      <td>0.133052</td>\n",
       "      <td>00:02</td>\n",
       "    </tr>\n",
       "    <tr>\n",
       "      <td>3</td>\n",
       "      <td>0.050426</td>\n",
       "      <td>0.120607</td>\n",
       "      <td>00:02</td>\n",
       "    </tr>\n",
       "    <tr>\n",
       "      <td>4</td>\n",
       "      <td>0.045228</td>\n",
       "      <td>0.117521</td>\n",
       "      <td>00:02</td>\n",
       "    </tr>\n",
       "  </tbody>\n",
       "</table>"
      ],
      "text/plain": [
       "<IPython.core.display.HTML object>"
      ]
     },
     "metadata": {},
     "output_type": "display_data"
    }
   ],
   "source": [
    "from fastai.tabular.all import *\n",
    "from fastai.collab import *\n",
    "\n",
    "dls = CollabDataLoaders.from_df(train_df,  bs=64)\n",
    "\n",
    "dls.show_batch()\n",
    "\n",
    "learn = collab_learner(dls, n_factors=50, y_range=(0, 5.5))\n",
    "\n",
    "learn.fit_one_cycle(5, 5e-3, wd=0.1)\n",
    "\n",
    "g = train_df.groupby('item')['rating'].count()"
   ]
  },
  {
   "cell_type": "code",
   "execution_count": 100,
   "metadata": {},
   "outputs": [],
   "source": [
    "items = train_df[\"item\"].unique()\n",
    "\n",
    "item_bias = learn.model.bias(items, is_item=True)\n",
    "item_bias.shape\n",
    "\n",
    "mean_ratings = train_df.groupby('item')['rating'].mean()\n",
    "item_ratings = [(b, i, mean_ratings.loc[i]) for i,b in zip(items,item_bias)]"
   ]
  },
  {
   "cell_type": "markdown",
   "metadata": {},
   "source": [
    "Check movies with the worst ratings."
   ]
  },
  {
   "cell_type": "code",
   "execution_count": 101,
   "metadata": {},
   "outputs": [
    {
     "data": {
      "text/plain": [
       "[(tensor(-0.7456), 'VSPP37', np.float64(1.004)),\n",
       " (tensor(-0.7148), 'VSPP17', np.float64(1.0114503816793894)),\n",
       " (tensor(-0.7085), 'MRLP02', np.float64(1.0111524163568772)),\n",
       " (tensor(-0.5236), 'JCGA70', np.float64(1.1428571428571428)),\n",
       " (tensor(-0.5179), 'CIS02', np.float64(1.1946902654867257)),\n",
       " (tensor(-0.4906), 'MSGT65', np.float64(1.1647058823529413)),\n",
       " (tensor(-0.4755), 'MSGT52', np.float64(1.2307692307692308)),\n",
       " (tensor(-0.4740), 'VSPP33', np.float64(1.2419354838709677)),\n",
       " (tensor(-0.4739), 'VSPP29', np.float64(1.20817843866171)),\n",
       " (tensor(-0.4536), 'MSGT91', np.float64(1.2530120481927711)),\n",
       " (tensor(-0.4517), 'MSGT02', np.float64(1.2608695652173914)),\n",
       " (tensor(-0.4393), 'VSCA25', np.float64(1.3389830508474576)),\n",
       " (tensor(-0.4359), 'MSGT62', np.float64(1.2657657657657657)),\n",
       " (tensor(-0.4143), 'MSGT55', np.float64(1.3378995433789955)),\n",
       " (tensor(-0.4039), 'MRLP07', np.float64(1.3412698412698412))]"
      ]
     },
     "execution_count": 101,
     "metadata": {},
     "output_type": "execute_result"
    }
   ],
   "source": [
    "item0 = lambda o:o[0]\n",
    "sorted(item_ratings, key=item0)[:15]"
   ]
  },
  {
   "cell_type": "code",
   "execution_count": 102,
   "metadata": {},
   "outputs": [
    {
     "data": {
      "text/plain": [
       "[(tensor(0.2443), 'VSSS06', np.float64(2.748987854251012)),\n",
       " (tensor(0.1773), 'MRLP01', np.float64(2.623481781376518)),\n",
       " (tensor(0.1324), 'VSSS04', np.float64(2.561181434599156)),\n",
       " (tensor(0.1283), 'MSGT07', np.float64(2.5019607843137255)),\n",
       " (tensor(0.0815), 'MSGT33', np.float64(2.432)),\n",
       " (tensor(0.0604), 'MSWR07', np.float64(2.413793103448276)),\n",
       " (tensor(0.0591), 'VCGA63', np.float64(2.4273858921161824)),\n",
       " (tensor(0.0416), 'MSGT21', np.float64(2.376)),\n",
       " (tensor(0.0413), 'VSPP23', np.float64(2.456896551724138)),\n",
       " (tensor(0.0329), 'MSWW04', np.float64(2.3492063492063493)),\n",
       " (tensor(0.0295), 'MSWR01', np.float64(2.416)),\n",
       " (tensor(0.0288), 'MSCA47', np.float64(2.3254901960784315)),\n",
       " (tensor(0.0227), 'MSWR05', np.float64(2.254612546125461)),\n",
       " (tensor(0.0203), 'CIS04', np.float64(2.2283464566929134)),\n",
       " (tensor(0.0200), 'MSGT04', np.float64(2.393162393162393))]"
      ]
     },
     "execution_count": 102,
     "metadata": {},
     "output_type": "execute_result"
    }
   ],
   "source": [
    "sorted(item_ratings, key=lambda o: o[0], reverse=True)[:15]"
   ]
  },
  {
   "cell_type": "markdown",
   "metadata": {},
   "source": [
    "Analyzing the latent factors that our model has learned"
   ]
  },
  {
   "cell_type": "code",
   "execution_count": 103,
   "metadata": {},
   "outputs": [
    {
     "data": {
      "text/plain": [
       "torch.Size([124, 50])"
      ]
     },
     "execution_count": 103,
     "metadata": {},
     "output_type": "execute_result"
    }
   ],
   "source": [
    "item_w = learn.model.weight(items, is_item=True)\n",
    "item_w.shape"
   ]
  },
  {
   "cell_type": "markdown",
   "metadata": {},
   "source": [
    "PCA for visualization"
   ]
  },
  {
   "cell_type": "code",
   "execution_count": 104,
   "metadata": {},
   "outputs": [
    {
     "data": {
      "text/plain": [
       "torch.Size([124, 3])"
      ]
     },
     "execution_count": 104,
     "metadata": {},
     "output_type": "execute_result"
    }
   ],
   "source": [
    "item_pca = item_w.pca(3)\n",
    "item_pca.shape"
   ]
  },
  {
   "cell_type": "code",
   "execution_count": 105,
   "metadata": {},
   "outputs": [],
   "source": [
    "fac0,fac1,fac2 = item_pca.t()\n",
    "item_comp = [(f, i) for f,i in zip(fac0, items)]"
   ]
  },
  {
   "cell_type": "code",
   "execution_count": 106,
   "metadata": {},
   "outputs": [
    {
     "data": {
      "text/plain": [
       "[(tensor(1.3753), 'MRLP02'),\n",
       " (tensor(1.3196), 'VSPP37'),\n",
       " (tensor(1.3043), 'VSPP17'),\n",
       " (tensor(1.0127), 'JCGA70'),\n",
       " (tensor(0.8937), 'CIS02'),\n",
       " (tensor(0.8510), 'MSGT65'),\n",
       " (tensor(0.7238), 'MSGT19'),\n",
       " (tensor(0.6394), 'MSGT55'),\n",
       " (tensor(0.6192), 'VIGI01'),\n",
       " (tensor(0.6131), 'MSGT91')]"
      ]
     },
     "execution_count": 106,
     "metadata": {},
     "output_type": "execute_result"
    }
   ],
   "source": [
    "sorted(item_comp, key=itemgetter(0), reverse=True)[:10]"
   ]
  },
  {
   "cell_type": "code",
   "execution_count": 107,
   "metadata": {},
   "outputs": [
    {
     "data": {
      "text/plain": [
       "[(tensor(-0.8973), 'VSSS06'),\n",
       " (tensor(-0.8364), 'MSWR01'),\n",
       " (tensor(-0.7525), 'CIS04'),\n",
       " (tensor(-0.7503), 'VSSS04'),\n",
       " (tensor(-0.7430), 'MRLP01'),\n",
       " (tensor(-0.7218), 'MSGT04'),\n",
       " (tensor(-0.7105), 'MSGT33'),\n",
       " (tensor(-0.7073), 'MSWR07'),\n",
       " (tensor(-0.7031), 'MSCA47'),\n",
       " (tensor(-0.6681), 'UPPP01')]"
      ]
     },
     "execution_count": 107,
     "metadata": {},
     "output_type": "execute_result"
    }
   ],
   "source": [
    "sorted(item_comp, key=itemgetter(0))[:10]"
   ]
  },
  {
   "cell_type": "code",
   "execution_count": 108,
   "metadata": {},
   "outputs": [
    {
     "data": {
      "text/plain": [
       "[(tensor(0.9984), 'VIGI01'),\n",
       " (tensor(0.8950), 'VSPP09'),\n",
       " (tensor(0.7916), 'MSGT43'),\n",
       " (tensor(0.7829), 'MSGT14'),\n",
       " (tensor(0.7651), 'VSPP15'),\n",
       " (tensor(0.6788), 'VSPP20'),\n",
       " (tensor(0.6749), 'MSPP03'),\n",
       " (tensor(0.6068), 'MSGT05'),\n",
       " (tensor(0.5461), 'MSGT10'),\n",
       " (tensor(0.5261), 'VSPP03')]"
      ]
     },
     "execution_count": 108,
     "metadata": {},
     "output_type": "execute_result"
    }
   ],
   "source": [
    "item_comp = [(f, i) for f,i in zip(fac1, items)]\n",
    "sorted(item_comp, key=itemgetter(0), reverse=True)[:10]"
   ]
  },
  {
   "cell_type": "code",
   "execution_count": 109,
   "metadata": {},
   "outputs": [
    {
     "data": {
      "text/plain": [
       "[(tensor(-0.6691), 'MSGT25'),\n",
       " (tensor(-0.6145), 'MSGT90'),\n",
       " (tensor(-0.5883), 'MSGT28'),\n",
       " (tensor(-0.5652), 'VSPP02'),\n",
       " (tensor(-0.5530), 'MSPP10'),\n",
       " (tensor(-0.5272), 'MSGT68'),\n",
       " (tensor(-0.5268), 'MSGT52'),\n",
       " (tensor(-0.5180), 'URLP07'),\n",
       " (tensor(-0.5155), 'MSGT31'),\n",
       " (tensor(-0.5054), 'MSGT20')]"
      ]
     },
     "execution_count": 109,
     "metadata": {},
     "output_type": "execute_result"
    }
   ],
   "source": [
    "sorted(item_comp, key=itemgetter(0))[:10]"
   ]
  },
  {
   "cell_type": "code",
   "execution_count": 110,
   "metadata": {},
   "outputs": [
    {
     "data": {
      "image/png": "[encoded data removed]",
      "text/plain": [
       "<Figure size 1500x1500 with 1 Axes>"
      ]
     },
     "metadata": {},
     "output_type": "display_data"
    }
   ],
   "source": [
    "import matplotlib.pyplot as plt\n",
    "\n",
    "idxs = np.random.choice(len(items), 50, replace=False)\n",
    "idxs = list(range(50))\n",
    "X = fac0[idxs]\n",
    "Y = fac2[idxs]\n",
    "plt.figure(figsize=(15,15))\n",
    "plt.scatter(X, Y)\n",
    "for i, x, y in zip(items[idxs], X, Y):\n",
    "    plt.text(x,y,i, color=np.random.rand(3)*0.7, fontsize=11)\n",
    "plt.show()"
   ]
  },
  {
   "cell_type": "markdown",
   "metadata": {},
   "source": [
    "# Demonstrate selecting products to recommend for a single user\n",
    "\n",
    "We select the top 5 recommended items for the user 1"
   ]
  },
  {
   "cell_type": "code",
   "execution_count": 166,
   "metadata": {},
   "outputs": [],
   "source": [
    "unknown_ratings_for_user_1 = test_df.iloc[:,:-1][test_df[\"user\"] == 1]"
   ]
  },
  {
   "cell_type": "code",
   "execution_count": 174,
   "metadata": {},
   "outputs": [
    {
     "data": {
      "text/html": [
       "\n",
       "<style>\n",
       "    /* Turns off some styling */\n",
       "    progress {\n",
       "        /* gets rid of default border in Firefox and Opera. */\n",
       "        border: none;\n",
       "        /* Needs to be in here for Safari polyfill so background images work as expected. */\n",
       "        background-size: auto;\n",
       "    }\n",
       "    progress:not([value]), progress:not([value])::-webkit-progress-bar {\n",
       "        background: repeating-linear-gradient(45deg, #7e7e7e, #7e7e7e 10px, #5c5c5c 10px, #5c5c5c 20px);\n",
       "    }\n",
       "    .progress-bar-interrupted, .progress-bar-interrupted::-webkit-progress-bar {\n",
       "        background: #F44336;\n",
       "    }\n",
       "</style>\n"
      ],
      "text/plain": [
       "<IPython.core.display.HTML object>"
      ]
     },
     "metadata": {},
     "output_type": "display_data"
    },
    {
     "data": {
      "text/html": [],
      "text/plain": [
       "<IPython.core.display.HTML object>"
      ]
     },
     "metadata": {},
     "output_type": "display_data"
    },
    {
     "name": "stdout",
     "output_type": "stream",
     "text": [
      "Top 5 recommended products for user 1: \n",
      "82     MSGT24\n",
      "90     MSGT54\n",
      "106    MSWW04\n",
      "0      MSPP02\n",
      "60     VSPP11\n",
      "Name: item, dtype: object\n"
     ]
    }
   ],
   "source": [
    "row = learn.dls.test_dl(unknown_ratings_for_user_1)\n",
    "\n",
    "top_k_indices = learn.get_preds(dl=row)[0].topk(5).indices.numpy()\n",
    "\n",
    "print(\"Top 5 recommended products for user 1: \")\n",
    "print(unknown_ratings_for_user_1[\"item\"].iloc[top_k_indices])\n"
   ]
  },
  {
   "cell_type": "markdown",
   "metadata": {},
   "source": [
    "# Test rating prediction RMSE on test data (i.e. for items that have not yet been used by the users)"
   ]
  },
  {
   "cell_type": "code",
   "execution_count": 146,
   "metadata": {},
   "outputs": [
    {
     "data": {
      "text/html": [
       "\n",
       "<style>\n",
       "    /* Turns off some styling */\n",
       "    progress {\n",
       "        /* gets rid of default border in Firefox and Opera. */\n",
       "        border: none;\n",
       "        /* Needs to be in here for Safari polyfill so background images work as expected. */\n",
       "        background-size: auto;\n",
       "    }\n",
       "    progress:not([value]), progress:not([value])::-webkit-progress-bar {\n",
       "        background: repeating-linear-gradient(45deg, #7e7e7e, #7e7e7e 10px, #5c5c5c 10px, #5c5c5c 20px);\n",
       "    }\n",
       "    .progress-bar-interrupted, .progress-bar-interrupted::-webkit-progress-bar {\n",
       "        background: #F44336;\n",
       "    }\n",
       "</style>\n"
      ],
      "text/plain": [
       "<IPython.core.display.HTML object>"
      ]
     },
     "metadata": {},
     "output_type": "display_data"
    },
    {
     "data": {
      "text/html": [
       "\n",
       "    <div>\n",
       "      <progress value='2' class='' max='485' style='width:300px; height:20px; vertical-align: middle;'></progress>\n",
       "      0.41% [2/485 00:00&lt;00:02 0.0452]\n",
       "    </div>\n",
       "    "
      ],
      "text/plain": [
       "<IPython.core.display.HTML object>"
      ]
     },
     "metadata": {},
     "output_type": "display_data"
    }
   ],
   "source": [
    "row = learn.dls.test_dl(test_df.iloc[:,:-1])\n",
    "\n",
    "pred = learn.get_preds(dl=row)[0].numpy()"
   ]
  },
  {
   "cell_type": "markdown",
   "metadata": {},
   "source": [
    "# Calculate RMSE"
   ]
  },
  {
   "cell_type": "code",
   "execution_count": 150,
   "metadata": {},
   "outputs": [
    {
     "data": {
      "text/plain": [
       "np.float64(0.3465933684593938)"
      ]
     },
     "execution_count": 150,
     "metadata": {},
     "output_type": "execute_result"
    }
   ],
   "source": [
    "np.sqrt(np.mean((test_df[\"rating\"] - pred)**2))"
   ]
  }
 ],
 "metadata": {
  "kernelspec": {
   "display_name": "env",
   "language": "python",
   "name": "python3"
  },
  "language_info": {
   "codemirror_mode": {
    "name": "ipython",
    "version": 3
   },
   "file_extension": ".py",
   "mimetype": "text/x-python",
   "name": "python",
   "nbconvert_exporter": "python",
   "pygments_lexer": "ipython3",
   "version": "3.10.13"
  }
 },
 "nbformat": 4,
 "nbformat_minor": 2
}
