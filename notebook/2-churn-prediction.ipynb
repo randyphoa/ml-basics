{
 "cells": [
  {
   "cell_type": "code",
   "execution_count": 63,
   "metadata": {},
   "outputs": [],
   "source": [
    "import importlib\n",
    "import pandas as pd\n",
    "import utils"
   ]
  },
  {
   "cell_type": "code",
   "execution_count": 64,
   "metadata": {},
   "outputs": [
    {
     "data": {
      "text/plain": [
       "<module 'utils' from '/Users/nicolearitranair/ml-basics/notebook/utils.py'>"
      ]
     },
     "execution_count": 64,
     "metadata": {},
     "output_type": "execute_result"
    }
   ],
   "source": [
    "importlib.reload(utils)"
   ]
  },
  {
   "cell_type": "code",
   "execution_count": 65,
   "metadata": {},
   "outputs": [
    {
     "data": {
      "text/html": [
       "<div>\n",
       "<style scoped>\n",
       "    .dataframe tbody tr th:only-of-type {\n",
       "        vertical-align: middle;\n",
       "    }\n",
       "\n",
       "    .dataframe tbody tr th {\n",
       "        vertical-align: top;\n",
       "    }\n",
       "\n",
       "    .dataframe thead th {\n",
       "        text-align: right;\n",
       "    }\n",
       "</style>\n",
       "<table border=\"1\" class=\"dataframe\">\n",
       "  <thead>\n",
       "    <tr style=\"text-align: right;\">\n",
       "      <th></th>\n",
       "      <th>Customer_ID</th>\n",
       "      <th>Age</th>\n",
       "      <th>Gender</th>\n",
       "      <th>CreditScore</th>\n",
       "      <th>Tenure</th>\n",
       "      <th>Balance</th>\n",
       "      <th>NumOfProducts</th>\n",
       "      <th>HasCrCard</th>\n",
       "      <th>EstimatedSalary</th>\n",
       "      <th>Churn</th>\n",
       "    </tr>\n",
       "  </thead>\n",
       "  <tbody>\n",
       "    <tr>\n",
       "      <th>0</th>\n",
       "      <td>1</td>\n",
       "      <td>41</td>\n",
       "      <td>M</td>\n",
       "      <td>740</td>\n",
       "      <td>3</td>\n",
       "      <td>78360.334366</td>\n",
       "      <td>2</td>\n",
       "      <td>0</td>\n",
       "      <td>63903.988688</td>\n",
       "      <td>1</td>\n",
       "    </tr>\n",
       "    <tr>\n",
       "      <th>1</th>\n",
       "      <td>2</td>\n",
       "      <td>63</td>\n",
       "      <td>M</td>\n",
       "      <td>434</td>\n",
       "      <td>4</td>\n",
       "      <td>139638.983096</td>\n",
       "      <td>5</td>\n",
       "      <td>0</td>\n",
       "      <td>78733.444171</td>\n",
       "      <td>0</td>\n",
       "    </tr>\n",
       "    <tr>\n",
       "      <th>2</th>\n",
       "      <td>3</td>\n",
       "      <td>23</td>\n",
       "      <td>F</td>\n",
       "      <td>395</td>\n",
       "      <td>3</td>\n",
       "      <td>164611.008691</td>\n",
       "      <td>6</td>\n",
       "      <td>1</td>\n",
       "      <td>27042.168557</td>\n",
       "      <td>1</td>\n",
       "    </tr>\n",
       "    <tr>\n",
       "      <th>3</th>\n",
       "      <td>4</td>\n",
       "      <td>46</td>\n",
       "      <td>F</td>\n",
       "      <td>445</td>\n",
       "      <td>3</td>\n",
       "      <td>47018.340912</td>\n",
       "      <td>1</td>\n",
       "      <td>0</td>\n",
       "      <td>64461.171738</td>\n",
       "      <td>1</td>\n",
       "    </tr>\n",
       "    <tr>\n",
       "      <th>4</th>\n",
       "      <td>5</td>\n",
       "      <td>42</td>\n",
       "      <td>F</td>\n",
       "      <td>453</td>\n",
       "      <td>5</td>\n",
       "      <td>135417.025106</td>\n",
       "      <td>3</td>\n",
       "      <td>0</td>\n",
       "      <td>67981.489792</td>\n",
       "      <td>1</td>\n",
       "    </tr>\n",
       "    <tr>\n",
       "      <th>...</th>\n",
       "      <td>...</td>\n",
       "      <td>...</td>\n",
       "      <td>...</td>\n",
       "      <td>...</td>\n",
       "      <td>...</td>\n",
       "      <td>...</td>\n",
       "      <td>...</td>\n",
       "      <td>...</td>\n",
       "      <td>...</td>\n",
       "      <td>...</td>\n",
       "    </tr>\n",
       "    <tr>\n",
       "      <th>995</th>\n",
       "      <td>996</td>\n",
       "      <td>39</td>\n",
       "      <td>F</td>\n",
       "      <td>445</td>\n",
       "      <td>5</td>\n",
       "      <td>107013.923323</td>\n",
       "      <td>3</td>\n",
       "      <td>1</td>\n",
       "      <td>79625.273318</td>\n",
       "      <td>0</td>\n",
       "    </tr>\n",
       "    <tr>\n",
       "      <th>996</th>\n",
       "      <td>997</td>\n",
       "      <td>39</td>\n",
       "      <td>M</td>\n",
       "      <td>486</td>\n",
       "      <td>9</td>\n",
       "      <td>151790.034398</td>\n",
       "      <td>2</td>\n",
       "      <td>1</td>\n",
       "      <td>82622.326262</td>\n",
       "      <td>1</td>\n",
       "    </tr>\n",
       "    <tr>\n",
       "      <th>997</th>\n",
       "      <td>998</td>\n",
       "      <td>49</td>\n",
       "      <td>F</td>\n",
       "      <td>590</td>\n",
       "      <td>7</td>\n",
       "      <td>188620.599665</td>\n",
       "      <td>6</td>\n",
       "      <td>0</td>\n",
       "      <td>23201.704969</td>\n",
       "      <td>1</td>\n",
       "    </tr>\n",
       "    <tr>\n",
       "      <th>998</th>\n",
       "      <td>999</td>\n",
       "      <td>42</td>\n",
       "      <td>F</td>\n",
       "      <td>478</td>\n",
       "      <td>0</td>\n",
       "      <td>140622.422201</td>\n",
       "      <td>1</td>\n",
       "      <td>0</td>\n",
       "      <td>107224.918045</td>\n",
       "      <td>0</td>\n",
       "    </tr>\n",
       "    <tr>\n",
       "      <th>999</th>\n",
       "      <td>1000</td>\n",
       "      <td>35</td>\n",
       "      <td>M</td>\n",
       "      <td>468</td>\n",
       "      <td>4</td>\n",
       "      <td>115334.459004</td>\n",
       "      <td>2</td>\n",
       "      <td>0</td>\n",
       "      <td>142226.078102</td>\n",
       "      <td>0</td>\n",
       "    </tr>\n",
       "  </tbody>\n",
       "</table>\n",
       "<p>1000 rows × 10 columns</p>\n",
       "</div>"
      ],
      "text/plain": [
       "     Customer_ID  Age Gender  CreditScore  Tenure        Balance  \\\n",
       "0              1   41      M          740       3   78360.334366   \n",
       "1              2   63      M          434       4  139638.983096   \n",
       "2              3   23      F          395       3  164611.008691   \n",
       "3              4   46      F          445       3   47018.340912   \n",
       "4              5   42      F          453       5  135417.025106   \n",
       "..           ...  ...    ...          ...     ...            ...   \n",
       "995          996   39      F          445       5  107013.923323   \n",
       "996          997   39      M          486       9  151790.034398   \n",
       "997          998   49      F          590       7  188620.599665   \n",
       "998          999   42      F          478       0  140622.422201   \n",
       "999         1000   35      M          468       4  115334.459004   \n",
       "\n",
       "     NumOfProducts  HasCrCard  EstimatedSalary  Churn  \n",
       "0                2          0     63903.988688      1  \n",
       "1                5          0     78733.444171      0  \n",
       "2                6          1     27042.168557      1  \n",
       "3                1          0     64461.171738      1  \n",
       "4                3          0     67981.489792      1  \n",
       "..             ...        ...              ...    ...  \n",
       "995              3          1     79625.273318      0  \n",
       "996              2          1     82622.326262      1  \n",
       "997              6          0     23201.704969      1  \n",
       "998              1          0    107224.918045      0  \n",
       "999              2          0    142226.078102      0  \n",
       "\n",
       "[1000 rows x 10 columns]"
      ]
     },
     "execution_count": 65,
     "metadata": {},
     "output_type": "execute_result"
    }
   ],
   "source": [
    "df = utils.get_churn_prediction_data()\n",
    "\n",
    "df"
   ]
  },
  {
   "cell_type": "code",
   "execution_count": 66,
   "metadata": {},
   "outputs": [],
   "source": [
    "df.iloc[:,1:].to_csv(\"output_data/churn-prediction.csv\", index=False)"
   ]
  },
  {
   "cell_type": "code",
   "execution_count": 67,
   "metadata": {},
   "outputs": [
    {
     "data": {
      "text/plain": [
       "np.int64(475)"
      ]
     },
     "execution_count": 67,
     "metadata": {},
     "output_type": "execute_result"
    }
   ],
   "source": [
    "df[\"Churn\"].sum()"
   ]
  },
  {
   "cell_type": "code",
   "execution_count": 68,
   "metadata": {},
   "outputs": [
    {
     "data": {
      "text/plain": [
       "0      1\n",
       "1      0\n",
       "2      1\n",
       "3      1\n",
       "4      1\n",
       "      ..\n",
       "995    0\n",
       "996    1\n",
       "997    1\n",
       "998    0\n",
       "999    0\n",
       "Name: Churn, Length: 1000, dtype: int64"
      ]
     },
     "execution_count": 68,
     "metadata": {},
     "output_type": "execute_result"
    }
   ],
   "source": [
    "df[\"Churn\"]"
   ]
  },
  {
   "cell_type": "code",
   "execution_count": null,
   "metadata": {},
   "outputs": [],
   "source": []
  }
 ],
 "metadata": {
  "kernelspec": {
   "display_name": "env",
   "language": "python",
   "name": "python3"
  },
  "language_info": {
   "codemirror_mode": {
    "name": "ipython",
    "version": 3
   },
   "file_extension": ".py",
   "mimetype": "text/x-python",
   "name": "python",
   "nbconvert_exporter": "python",
   "pygments_lexer": "ipython3",
   "version": "3.10.13"
  }
 },
 "nbformat": 4,
 "nbformat_minor": 2
}
