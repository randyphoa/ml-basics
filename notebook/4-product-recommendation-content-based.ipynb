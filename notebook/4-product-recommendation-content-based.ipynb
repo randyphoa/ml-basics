{
 "cells": [
  {
   "cell_type": "markdown",
   "metadata": {},
   "source": [
    "# Content-Based Filtering: Product Recommendation\n",
    "\n",
    "Note that this tutorial has been adapted from https://www.datacamp.com/tutorial/recommender-systems-python\n",
    "\n",
    "We are looking at a dataset of movies and their metadata attributes. \n",
    "\n",
    "Based on the movies that the user has chosen to watch in the past, we recommend new movies to them."
   ]
  },
  {
   "cell_type": "code",
   "execution_count": 4,
   "metadata": {},
   "outputs": [],
   "source": [
    "import utils\n",
    "import numpy as np\n",
    "import pandas as pd\n",
    "\n",
    "metadata = utils.get_product_recommendation_data_content()\n",
    "\n",
    "metadata.to_csv(\"output_data/product-recommendation.csv\", index=False)"
   ]
  },
  {
   "cell_type": "markdown",
   "metadata": {},
   "source": [
    "# Data Preprocessing\n",
    "\n",
    "In this cell, we preprocess the data to \n",
    "- filter out movies with lower watch counts and lower votes. In smaller datasets, we don't necessarily have to do this\n",
    "- preprocess relevant metadata from the table i.e. the director's name, cast name, and crew names"
   ]
  },
  {
   "cell_type": "code",
   "execution_count": 5,
   "metadata": {},
   "outputs": [
    {
     "data": {
      "text/html": [
       "<div>\n",
       "<style scoped>\n",
       "    .dataframe tbody tr th:only-of-type {\n",
       "        vertical-align: middle;\n",
       "    }\n",
       "\n",
       "    .dataframe tbody tr th {\n",
       "        vertical-align: top;\n",
       "    }\n",
       "\n",
       "    .dataframe thead th {\n",
       "        text-align: right;\n",
       "    }\n",
       "</style>\n",
       "<table border=\"1\" class=\"dataframe\">\n",
       "  <thead>\n",
       "    <tr style=\"text-align: right;\">\n",
       "      <th></th>\n",
       "      <th>adult</th>\n",
       "      <th>belongs_to_collection</th>\n",
       "      <th>budget</th>\n",
       "      <th>genres</th>\n",
       "      <th>homepage</th>\n",
       "      <th>id</th>\n",
       "      <th>imdb_id</th>\n",
       "      <th>original_language</th>\n",
       "      <th>original_title</th>\n",
       "      <th>overview</th>\n",
       "      <th>...</th>\n",
       "      <th>status</th>\n",
       "      <th>tagline</th>\n",
       "      <th>title</th>\n",
       "      <th>video</th>\n",
       "      <th>vote_average</th>\n",
       "      <th>vote_count</th>\n",
       "      <th>cast</th>\n",
       "      <th>crew</th>\n",
       "      <th>director</th>\n",
       "      <th>soup</th>\n",
       "    </tr>\n",
       "  </thead>\n",
       "  <tbody>\n",
       "    <tr>\n",
       "      <th>0</th>\n",
       "      <td>False</td>\n",
       "      <td>{'id': 10194, 'name': 'Toy Story Collection', ...</td>\n",
       "      <td>30000000</td>\n",
       "      <td>[animation, comedy, family]</td>\n",
       "      <td>http://toystory.disney.com/toy-story</td>\n",
       "      <td>862</td>\n",
       "      <td>tt0114709</td>\n",
       "      <td>en</td>\n",
       "      <td>Toy Story</td>\n",
       "      <td>Led by Woody, Andy's toys live happily in his ...</td>\n",
       "      <td>...</td>\n",
       "      <td>Released</td>\n",
       "      <td>NaN</td>\n",
       "      <td>Toy Story</td>\n",
       "      <td>False</td>\n",
       "      <td>7.7</td>\n",
       "      <td>5415.0</td>\n",
       "      <td>[tomhanks, timallen, donrickles]</td>\n",
       "      <td>[{'credit_id': '52fe4284c3a36847f8024f49', 'de...</td>\n",
       "      <td>johnlasseter</td>\n",
       "      <td>tomhanks timallen donrickles johnlasseter anim...</td>\n",
       "    </tr>\n",
       "    <tr>\n",
       "      <th>1</th>\n",
       "      <td>False</td>\n",
       "      <td>NaN</td>\n",
       "      <td>65000000</td>\n",
       "      <td>[adventure, fantasy, family]</td>\n",
       "      <td>NaN</td>\n",
       "      <td>8844</td>\n",
       "      <td>tt0113497</td>\n",
       "      <td>en</td>\n",
       "      <td>Jumanji</td>\n",
       "      <td>When siblings Judy and Peter discover an encha...</td>\n",
       "      <td>...</td>\n",
       "      <td>Released</td>\n",
       "      <td>Roll the dice and unleash the excitement!</td>\n",
       "      <td>Jumanji</td>\n",
       "      <td>False</td>\n",
       "      <td>6.9</td>\n",
       "      <td>2413.0</td>\n",
       "      <td>[robinwilliams, jonathanhyde, kirstendunst]</td>\n",
       "      <td>[{'credit_id': '52fe44bfc3a36847f80a7cd1', 'de...</td>\n",
       "      <td>joejohnston</td>\n",
       "      <td>robinwilliams jonathanhyde kirstendunst joejoh...</td>\n",
       "    </tr>\n",
       "    <tr>\n",
       "      <th>4</th>\n",
       "      <td>False</td>\n",
       "      <td>{'id': 96871, 'name': 'Father of the Bride Col...</td>\n",
       "      <td>0</td>\n",
       "      <td>[comedy]</td>\n",
       "      <td>NaN</td>\n",
       "      <td>11862</td>\n",
       "      <td>tt0113041</td>\n",
       "      <td>en</td>\n",
       "      <td>Father of the Bride Part II</td>\n",
       "      <td>Just when George Banks has recovered from his ...</td>\n",
       "      <td>...</td>\n",
       "      <td>Released</td>\n",
       "      <td>Just When His World Is Back To Normal... He's ...</td>\n",
       "      <td>Father of the Bride Part II</td>\n",
       "      <td>False</td>\n",
       "      <td>5.7</td>\n",
       "      <td>173.0</td>\n",
       "      <td>[stevemartin, dianekeaton, martinshort]</td>\n",
       "      <td>[{'credit_id': '52fe44959251416c75039ed7', 'de...</td>\n",
       "      <td>charlesshyer</td>\n",
       "      <td>stevemartin dianekeaton martinshort charlesshy...</td>\n",
       "    </tr>\n",
       "  </tbody>\n",
       "</table>\n",
       "<p>3 rows × 28 columns</p>\n",
       "</div>"
      ],
      "text/plain": [
       "   adult                              belongs_to_collection    budget  \\\n",
       "0  False  {'id': 10194, 'name': 'Toy Story Collection', ...  30000000   \n",
       "1  False                                                NaN  65000000   \n",
       "4  False  {'id': 96871, 'name': 'Father of the Bride Col...         0   \n",
       "\n",
       "                         genres                              homepage     id  \\\n",
       "0   [animation, comedy, family]  http://toystory.disney.com/toy-story    862   \n",
       "1  [adventure, fantasy, family]                                   NaN   8844   \n",
       "4                      [comedy]                                   NaN  11862   \n",
       "\n",
       "     imdb_id original_language               original_title  \\\n",
       "0  tt0114709                en                    Toy Story   \n",
       "1  tt0113497                en                      Jumanji   \n",
       "4  tt0113041                en  Father of the Bride Part II   \n",
       "\n",
       "                                            overview  ...    status  \\\n",
       "0  Led by Woody, Andy's toys live happily in his ...  ...  Released   \n",
       "1  When siblings Judy and Peter discover an encha...  ...  Released   \n",
       "4  Just when George Banks has recovered from his ...  ...  Released   \n",
       "\n",
       "                                             tagline  \\\n",
       "0                                                NaN   \n",
       "1          Roll the dice and unleash the excitement!   \n",
       "4  Just When His World Is Back To Normal... He's ...   \n",
       "\n",
       "                         title  video vote_average  vote_count  \\\n",
       "0                    Toy Story  False          7.7      5415.0   \n",
       "1                      Jumanji  False          6.9      2413.0   \n",
       "4  Father of the Bride Part II  False          5.7       173.0   \n",
       "\n",
       "                                          cast  \\\n",
       "0             [tomhanks, timallen, donrickles]   \n",
       "1  [robinwilliams, jonathanhyde, kirstendunst]   \n",
       "4      [stevemartin, dianekeaton, martinshort]   \n",
       "\n",
       "                                                crew      director  \\\n",
       "0  [{'credit_id': '52fe4284c3a36847f8024f49', 'de...  johnlasseter   \n",
       "1  [{'credit_id': '52fe44bfc3a36847f80a7cd1', 'de...   joejohnston   \n",
       "4  [{'credit_id': '52fe44959251416c75039ed7', 'de...  charlesshyer   \n",
       "\n",
       "                                                soup  \n",
       "0  tomhanks timallen donrickles johnlasseter anim...  \n",
       "1  robinwilliams jonathanhyde kirstendunst joejoh...  \n",
       "4  stevemartin dianekeaton martinshort charlesshy...  \n",
       "\n",
       "[3 rows x 28 columns]"
      ]
     },
     "execution_count": 5,
     "metadata": {},
     "output_type": "execute_result"
    }
   ],
   "source": [
    "m = metadata['vote_count'].quantile(0.90)\n",
    "C = metadata['vote_average'].mean()\n",
    "\n",
    "# Parse the stringified features into their corresponding python objects\n",
    "from ast import literal_eval\n",
    "\n",
    "features = ['cast', 'crew', 'genres']\n",
    "for feature in features:\n",
    "    metadata[feature] = metadata[feature].apply(literal_eval)\n",
    "\n",
    "def get_director(x):\n",
    "    for i in x:\n",
    "        if i['job'] == 'Director':\n",
    "            return i['name']\n",
    "    return np.nan\n",
    "\n",
    "def get_list(x):\n",
    "    if isinstance(x, list):\n",
    "        names = [i['name'] for i in x]\n",
    "        #Check if more than 3 elements exist. If yes, return only first three. If no, return entire list.\n",
    "        if len(names) > 3:\n",
    "            names = names[:3]\n",
    "        return names\n",
    "\n",
    "    #Return empty list in case of missing/malformed data\n",
    "    return []\n",
    "\n",
    "# Define new director, cast, genres and keywords features that are in a suitable form.\n",
    "metadata['director'] = metadata['crew'].apply(get_director)\n",
    "\n",
    "features = ['cast', 'genres']\n",
    "for feature in features:\n",
    "    metadata[feature] = metadata[feature].apply(get_list)\n",
    "\n",
    "# Print the new features of the first 3 films\n",
    "metadata[['title', 'cast', 'director',  'genres']].head(3)\n",
    "\n",
    "# Function to convert all strings to lower case and strip names of spaces\n",
    "def clean_data(x):\n",
    "    if isinstance(x, list):\n",
    "        return [str.lower(i.replace(\" \", \"\")) for i in x]\n",
    "    else:\n",
    "        #Check if director exists. If not, return empty string\n",
    "        if isinstance(x, str):\n",
    "            return str.lower(x.replace(\" \", \"\"))\n",
    "        else:\n",
    "            return ''\n",
    "\n",
    "# Apply clean_data function to your features.\n",
    "features = ['cast',  'director', 'genres']\n",
    "\n",
    "for feature in features:\n",
    "    metadata[feature] = metadata[feature].apply(clean_data)\n",
    "\n",
    "def create_soup(x):\n",
    "    return ' '.join(x['cast']) + ' ' + x['director'] + ' ' + ' '.join(x['genres'])\n",
    "\n",
    "# Create a new soup feature\n",
    "metadata['soup'] = metadata.apply(create_soup, axis=1)\n",
    "\n",
    "\n",
    "metadata = metadata[metadata[\"vote_average\"] > C]\n",
    "metadata = metadata[metadata[\"vote_count\"] > m]\n",
    "\n",
    "q_movies = metadata.iloc[:10000,:]\n",
    "\n",
    "# Print the first three rows\n",
    "metadata.head(3)"
   ]
  },
  {
   "cell_type": "markdown",
   "metadata": {},
   "source": [
    "We are going to use a combination of the following metadata attributes to recommend new movies to the user:\n",
    "- movie overview (text description)\n",
    "- director\n",
    "- cast members\n",
    "- crew members\n",
    "\n",
    "In the previous cell we generated a \"soup\" column which combines the names of the director, cast, crew into a \"soup\" column. We don't necessarily have to do this, and we can vectorize this information separately as well, but we do that for simplicity. "
   ]
  },
  {
   "cell_type": "code",
   "execution_count": 8,
   "metadata": {},
   "outputs": [
    {
     "name": "stdout",
     "output_type": "stream",
     "text": [
      "0    Led by Woody, Andy's toys live happily in his ...\n",
      "1    When siblings Judy and Peter discover an encha...\n",
      "4    Just when George Banks has recovered from his ...\n",
      "5    Obsessive master thief, Neil McCauley leads a ...\n",
      "9    James Bond must unmask the mysterious head of ...\n",
      "Name: overview, dtype: object\n",
      "0    tomhanks timallen donrickles johnlasseter anim...\n",
      "1    robinwilliams jonathanhyde kirstendunst joejoh...\n",
      "4    stevemartin dianekeaton martinshort charlesshy...\n",
      "5    alpacino robertdeniro valkilmer michaelmann ac...\n",
      "9    piercebrosnan seanbean izabellascorupco martin...\n",
      "Name: soup, dtype: object\n"
     ]
    }
   ],
   "source": [
    "print(metadata['overview'].head())\n",
    "\n",
    "print(metadata['soup'].head())"
   ]
  },
  {
   "cell_type": "markdown",
   "metadata": {},
   "source": [
    "# Vectorizing the attributes\n",
    "\n",
    "There are several ways to vectorize. \n",
    "\n",
    "For the \"overview\" column, it is a natural text input, so we use the TFIDF vectorizer that is preferred for text inputs. Here, we could also use more advanced embedding methods, for example watsonx.ai's embedding models.\n",
    "\n",
    "For the \"soup\" column, we want to preserve all the words, so we use a simple CountVectorizer that counts the presence of specific words.\n",
    "\n",
    "We will combine the matrices outputted by these two methods into a single large matrix"
   ]
  },
  {
   "cell_type": "code",
   "execution_count": 10,
   "metadata": {},
   "outputs": [
    {
     "name": "stdout",
     "output_type": "stream",
     "text": [
      "(3797, 6285)\n"
     ]
    }
   ],
   "source": [
    "# Import CountVectorizer and create the count matrix\n",
    "from sklearn.feature_extraction.text import CountVectorizer\n",
    "\n",
    "count = CountVectorizer(stop_words='english')\n",
    "count_matrix = count.fit_transform(metadata['soup'])\n",
    "\n",
    "print(count_matrix.shape)"
   ]
  },
  {
   "cell_type": "code",
   "execution_count": 11,
   "metadata": {},
   "outputs": [
    {
     "name": "stdout",
     "output_type": "stream",
     "text": [
      "(3797, 18033)\n"
     ]
    }
   ],
   "source": [
    "#Import TfIdfVectorizer from scikit-learn\n",
    "from sklearn.feature_extraction.text import TfidfVectorizer\n",
    "\n",
    "#Define a TF-IDF Vectorizer Object. Remove all english stop words such as 'the', 'a'\n",
    "tfidf = TfidfVectorizer(stop_words='english')\n",
    "\n",
    "#Replace NaN with an empty string\n",
    "metadata['overview'] = metadata['overview'].fillna('')\n",
    "\n",
    "#Construct the required TF-IDF matrix by fitting and transforming the data\n",
    "tfidf_matrix = tfidf.fit_transform(metadata['overview'])\n",
    "\n",
    "print(tfidf_matrix.shape)\n"
   ]
  },
  {
   "cell_type": "code",
   "execution_count": 12,
   "metadata": {},
   "outputs": [],
   "source": [
    "import scipy.sparse as sp\n",
    "\n",
    "final_matrix = sp.hstack((count_matrix, tfidf_matrix), format='csr')"
   ]
  },
  {
   "cell_type": "code",
   "execution_count": 14,
   "metadata": {},
   "outputs": [],
   "source": [
    "# Import linear_kernel\n",
    "from sklearn.metrics.pairwise import linear_kernel\n",
    "\n",
    "# Compute the cosine similarity matrix\n",
    "cosine_sim = linear_kernel(final_matrix, final_matrix)\n"
   ]
  },
  {
   "cell_type": "code",
   "execution_count": 106,
   "metadata": {},
   "outputs": [],
   "source": [
    "#Construct a reverse map of indices and movie titles\n",
    "indices = pd.Series(q_movies.index, index=q_movies['title']).drop_duplicates()\n"
   ]
  },
  {
   "cell_type": "markdown",
   "metadata": {},
   "source": [
    "# Getting Recommendations for Similar Movies\n",
    "\n",
    "Now, based on a specific movie that the user has watched in the past, we can generate similar movies (measured using the attributes/metadata) that are suitable for them."
   ]
  },
  {
   "cell_type": "code",
   "execution_count": 107,
   "metadata": {},
   "outputs": [],
   "source": [
    "# Function that takes in movie title as input and outputs most similar movies\n",
    "def get_recommendations(title, cosine_sim=cosine_sim):\n",
    "    # Get the index of the movie that matches the title\n",
    "    idx = indices[title]\n",
    "\n",
    "    # Get the pairwsie similarity scores of all movies with that movie\n",
    "    sim_scores = list(enumerate(cosine_sim[idx]))\n",
    "\n",
    "    # Sort the movies based on the similarity scores\n",
    "    sim_scores = sorted(sim_scores, key=lambda x: x[1], reverse=True)\n",
    "\n",
    "    # Get the scores of the 10 most similar movies\n",
    "    sim_scores = sim_scores[1:11]\n",
    "\n",
    "    # Get the movie indices\n",
    "    movie_indices = [i[0] for i in sim_scores]\n",
    "\n",
    "    # Return the top 10 most similar movies\n",
    "    return q_movies['title'].iloc[movie_indices]\n"
   ]
  },
  {
   "cell_type": "code",
   "execution_count": 108,
   "metadata": {},
   "outputs": [
    {
     "data": {
      "text/plain": [
       "2618           Spartacus\n",
       "15601           Ip Man 2\n",
       "108           Braveheart\n",
       "1192            Das Boot\n",
       "1914       Seven Samurai\n",
       "2950     The Longest Day\n",
       "5294         Windtalkers\n",
       "7431     Throne of Blood\n",
       "10658             Munich\n",
       "13276           Defiance\n",
       "Name: title, dtype: object"
      ]
     },
     "execution_count": 108,
     "metadata": {},
     "output_type": "execute_result"
    }
   ],
   "source": [
    "\n",
    "get_recommendations(\"The Shawshank Redemption\")"
   ]
  },
  {
   "cell_type": "markdown",
   "metadata": {},
   "source": [
    "# Generating Recommendations for a Specific User\n",
    "\n",
    "In the above cell we generated movies that are \"similar\" in metadata to a given movie.\n",
    "\n",
    "However, perhaps, based on the aggregated movies that the user has watched in the past, we wish to recommend some new movies to watch.\n",
    "\n",
    "One simple way to do this is to take the averaged vectors for the metadata that the user has watched. Let's try this below:"
   ]
  },
  {
   "cell_type": "code",
   "execution_count": 112,
   "metadata": {},
   "outputs": [],
   "source": [
    "from sklearn.metrics.pairwise import cosine_similarity\n",
    "\n",
    "def get_aggregated_recommendations_for_user(watched_titles, cosine_sim=cosine_sim):\n",
    "    # Get the index of the movie that matches the title\n",
    "    idx = indices[watched_titles]\n",
    "\n",
    "    sims = sorted([(e, cosine_similarity(np.array(final_matrix[idx].mean(axis=0)), m)) for e, m in enumerate(final_matrix)], reverse=True, key=lambda x: x[1])\n",
    "\n",
    "    sims = [i for i in sims if i[0] not in list(idx)]\n",
    "\n",
    "    # Get the scores of the 10 most similar movies\n",
    "    sim_scores = sims[:10]\n",
    "\n",
    "    # Get the movie indices\n",
    "    movie_indices = [i[0] for i in sim_scores]\n",
    "\n",
    "    # # Return the top 10 most similar movies\n",
    "    similar = q_movies['title'].iloc[movie_indices]\n",
    "\n",
    "    return [i for i in similar if i not in watched_titles]\n"
   ]
  },
  {
   "cell_type": "markdown",
   "metadata": {},
   "source": [
    "Let's consider a user that has watched 4 movies so far, and see what new movies to recommend to them"
   ]
  },
  {
   "cell_type": "code",
   "execution_count": 113,
   "metadata": {},
   "outputs": [
    {
     "data": {
      "text/plain": [
       "['Throne of Blood',\n",
       " 'Rashomon',\n",
       " 'Serpico',\n",
       " 'Ed Wood',\n",
       " 'J. Edgar',\n",
       " 'Munich',\n",
       " 'The Imitation Game',\n",
       " 'Amistad',\n",
       " 'The Good Shepherd']"
      ]
     },
     "execution_count": 113,
     "metadata": {},
     "output_type": "execute_result"
    }
   ],
   "source": [
    "movies_watched = [\"The Shawshank Redemption\", \"Spartacus\", \"JFK\", \"Das Boot\"]\n",
    "\n",
    "get_aggregated_recommendations_for_user(movies_watched)"
   ]
  },
  {
   "cell_type": "markdown",
   "metadata": {},
   "source": [
    "We can see that the user is automatically recommended rather similar theatrical thriller movies"
   ]
  }
 ],
 "metadata": {
  "kernelspec": {
   "display_name": "env",
   "language": "python",
   "name": "python3"
  },
  "language_info": {
   "codemirror_mode": {
    "name": "ipython",
    "version": 3
   },
   "file_extension": ".py",
   "mimetype": "text/x-python",
   "name": "python",
   "nbconvert_exporter": "python",
   "pygments_lexer": "ipython3",
   "version": "3.10.13"
  }
 },
 "nbformat": 4,
 "nbformat_minor": 2
}
