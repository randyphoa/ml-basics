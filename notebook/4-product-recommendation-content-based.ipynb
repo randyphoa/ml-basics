{
 "cells": [
  {
   "cell_type": "markdown",
   "metadata": {},
   "source": [
    "# Content-Based Filtering: Product Recommendation\n",
    "\n",
    "Note that this tutorial has been adapted from https://www.datacamp.com/tutorial/recommender-systems-python\n",
    "\n",
    "We are looking at a dataset of movies and their metadata attributes. \n",
    "\n",
    "Based on the movies that the user has chosen to watch in the past, we recommend new movies to them."
   ]
  },
  {
   "cell_type": "code",
   "execution_count": 1,
   "metadata": {},
   "outputs": [],
   "source": [
    "import utils\n",
    "import numpy as np\n",
    "import pandas as pd\n",
    "\n",
    "metadata = utils.get_product_recommendation_data_content()\n",
    "\n",
    "metadata.to_csv(\"output_data/product-recommendation.csv\", index=False)"
   ]
  },
  {
   "cell_type": "markdown",
   "metadata": {},
   "source": [
    "We are going to use a combination of the following metadata attributes to recommend new movies to the user:\n",
    "- movie overview (text description)\n",
    "- director\n",
    "- cast members\n",
    "- crew members\n",
    "\n",
    "We have a \"soup\" column which combines the names of the director, cast, crew into a \"soup\" column. We don't necessarily have to do this, and we can vectorize this information separately as well, but we do that for simplicity. "
   ]
  },
  {
   "cell_type": "code",
   "execution_count": 2,
   "metadata": {},
   "outputs": [
    {
     "name": "stdout",
     "output_type": "stream",
     "text": [
      "0    Led by Woody, Andy's toys live happily in his ...\n",
      "1    When siblings Judy and Peter discover an encha...\n",
      "4    Just when George Banks has recovered from his ...\n",
      "5    Obsessive master thief, Neil McCauley leads a ...\n",
      "9    James Bond must unmask the mysterious head of ...\n",
      "Name: overview, dtype: object\n",
      "0    tomhanks timallen donrickles johnlasseter anim...\n",
      "1    robinwilliams jonathanhyde kirstendunst joejoh...\n",
      "4    stevemartin dianekeaton martinshort charlesshy...\n",
      "5    alpacino robertdeniro valkilmer michaelmann ac...\n",
      "9    piercebrosnan seanbean izabellascorupco martin...\n",
      "Name: soup, dtype: object\n"
     ]
    }
   ],
   "source": [
    "print(metadata['overview'].head())\n",
    "\n",
    "print(metadata['soup'].head())"
   ]
  },
  {
   "cell_type": "markdown",
   "metadata": {},
   "source": [
    "# Vectorizing the attributes\n",
    "\n",
    "There are several ways to vectorize. \n",
    "\n",
    "For the \"overview\" column, it is a natural text input, so we use the TFIDF vectorizer that is preferred for text inputs. Here, we could also use more advanced embedding methods, for example watsonx.ai's embedding models.\n",
    "\n",
    "For the \"soup\" column, we want to preserve all the words, so we use a simple CountVectorizer that counts the presence of specific words.\n",
    "\n",
    "We will combine the matrices outputted by these two methods into a single large matrix"
   ]
  },
  {
   "cell_type": "code",
   "execution_count": 3,
   "metadata": {},
   "outputs": [
    {
     "name": "stdout",
     "output_type": "stream",
     "text": [
      "(1000, 2148)\n"
     ]
    }
   ],
   "source": [
    "# Import CountVectorizer and create the count matrix\n",
    "from sklearn.feature_extraction.text import CountVectorizer\n",
    "\n",
    "count = CountVectorizer(stop_words='english')\n",
    "count_matrix = count.fit_transform(metadata['soup'])\n",
    "\n",
    "print(count_matrix.shape)"
   ]
  },
  {
   "cell_type": "code",
   "execution_count": 4,
   "metadata": {},
   "outputs": [
    {
     "name": "stdout",
     "output_type": "stream",
     "text": [
      "(1000, 8859)\n"
     ]
    }
   ],
   "source": [
    "#Import TfIdfVectorizer from scikit-learn\n",
    "from sklearn.feature_extraction.text import TfidfVectorizer\n",
    "\n",
    "#Define a TF-IDF Vectorizer Object. Remove all english stop words such as 'the', 'a'\n",
    "tfidf = TfidfVectorizer(stop_words='english')\n",
    "\n",
    "#Replace NaN with an empty string\n",
    "metadata['overview'] = metadata['overview'].fillna('')\n",
    "\n",
    "#Construct the required TF-IDF matrix by fitting and transforming the data\n",
    "tfidf_matrix = tfidf.fit_transform(metadata['overview'])\n",
    "\n",
    "print(tfidf_matrix.shape)\n"
   ]
  },
  {
   "cell_type": "code",
   "execution_count": 5,
   "metadata": {},
   "outputs": [],
   "source": [
    "import scipy.sparse as sp\n",
    "\n",
    "final_matrix = sp.hstack((count_matrix, tfidf_matrix), format='csr')"
   ]
  },
  {
   "cell_type": "code",
   "execution_count": 6,
   "metadata": {},
   "outputs": [],
   "source": [
    "# Import linear_kernel\n",
    "from sklearn.metrics.pairwise import linear_kernel\n",
    "\n",
    "# Compute the cosine similarity matrix\n",
    "cosine_sim = linear_kernel(final_matrix, final_matrix)\n"
   ]
  },
  {
   "cell_type": "code",
   "execution_count": 8,
   "metadata": {},
   "outputs": [],
   "source": [
    "#Construct a reverse map of indices and movie titles\n",
    "indices = pd.Series(metadata.index, index=metadata['title']).drop_duplicates()\n"
   ]
  },
  {
   "cell_type": "markdown",
   "metadata": {},
   "source": [
    "# Getting Recommendations for Similar Movies\n",
    "\n",
    "Now, based on a specific movie that the user has watched in the past, we can generate similar movies (measured using the attributes/metadata) that are suitable for them."
   ]
  },
  {
   "cell_type": "code",
   "execution_count": 9,
   "metadata": {},
   "outputs": [],
   "source": [
    "# Function that takes in movie title as input and outputs most similar movies\n",
    "def get_recommendations(title, cosine_sim=cosine_sim):\n",
    "    # Get the index of the movie that matches the title\n",
    "    idx = indices[title]\n",
    "\n",
    "    # Get the pairwsie similarity scores of all movies with that movie\n",
    "    sim_scores = list(enumerate(cosine_sim[idx]))\n",
    "\n",
    "    # Sort the movies based on the similarity scores\n",
    "    sim_scores = sorted(sim_scores, key=lambda x: x[1], reverse=True)\n",
    "\n",
    "    # Get the scores of the 10 most similar movies\n",
    "    sim_scores = sim_scores[1:11]\n",
    "\n",
    "    # Get the movie indices\n",
    "    movie_indices = [i[0] for i in sim_scores]\n",
    "\n",
    "    # Return the top 10 most similar movies\n",
    "    return metadata['title'].iloc[movie_indices]\n"
   ]
  },
  {
   "cell_type": "code",
   "execution_count": 10,
   "metadata": {},
   "outputs": [
    {
     "data": {
      "text/plain": [
       "2618             Spartacus\n",
       "108             Braveheart\n",
       "1192              Das Boot\n",
       "1914         Seven Samurai\n",
       "2950       The Longest Day\n",
       "3618               Serpico\n",
       "1165    Lawrence of Arabia\n",
       "1251                Gandhi\n",
       "2918               Yojimbo\n",
       "512             Rising Sun\n",
       "Name: title, dtype: object"
      ]
     },
     "execution_count": 10,
     "metadata": {},
     "output_type": "execute_result"
    }
   ],
   "source": [
    "\n",
    "get_recommendations(\"The Shawshank Redemption\")"
   ]
  },
  {
   "cell_type": "markdown",
   "metadata": {},
   "source": [
    "# Generating Recommendations for a Specific User\n",
    "\n",
    "In the above cell we generated movies that are \"similar\" in metadata to a given movie.\n",
    "\n",
    "However, perhaps, based on the aggregated movies that the user has watched in the past, we wish to recommend some new movies to watch.\n",
    "\n",
    "One simple way to do this is to take the averaged vectors for the metadata that the user has watched. Let's try this below:"
   ]
  },
  {
   "cell_type": "code",
   "execution_count": 11,
   "metadata": {},
   "outputs": [],
   "source": [
    "from sklearn.metrics.pairwise import cosine_similarity\n",
    "\n",
    "def get_aggregated_recommendations_for_user(watched_titles, cosine_sim=cosine_sim):\n",
    "    # Get the index of the movie that matches the title\n",
    "    idx = indices[watched_titles]\n",
    "\n",
    "    sims = sorted([(e, cosine_similarity(np.array(final_matrix[idx].mean(axis=0)), m)) for e, m in enumerate(final_matrix)], reverse=True, key=lambda x: x[1])\n",
    "\n",
    "    sims = [i for i in sims if i[0] not in list(idx)]\n",
    "\n",
    "    # Get the scores of the 10 most similar movies\n",
    "    sim_scores = sims[:10]\n",
    "\n",
    "    # Get the movie indices\n",
    "    movie_indices = [i[0] for i in sim_scores]\n",
    "\n",
    "    # # Return the top 10 most similar movies\n",
    "    similar = metadata['title'].iloc[movie_indices]\n",
    "\n",
    "    return [i for i in similar if i not in watched_titles]\n"
   ]
  },
  {
   "cell_type": "markdown",
   "metadata": {},
   "source": [
    "Let's consider a user that has watched 2 movies so far, and see what new movies to recommend to them"
   ]
  },
  {
   "cell_type": "code",
   "execution_count": 13,
   "metadata": {},
   "outputs": [
    {
     "data": {
      "text/plain": [
       "['The Terminator',\n",
       " 'Terminator 2: Judgment Day',\n",
       " 'Seven Samurai',\n",
       " 'Breakdown',\n",
       " 'Enemy of the State',\n",
       " 'The Abyss',\n",
       " 'In the Line of Fire',\n",
       " 'The Siege',\n",
       " 'Clear and Present Danger',\n",
       " 'The Bodyguard']"
      ]
     },
     "execution_count": 13,
     "metadata": {},
     "output_type": "execute_result"
    }
   ],
   "source": [
    "movies_watched = [\"The Shawshank Redemption\", \"Braveheart\"]\n",
    "\n",
    "get_aggregated_recommendations_for_user(movies_watched)"
   ]
  },
  {
   "cell_type": "markdown",
   "metadata": {},
   "source": [
    "We can see that the user is automatically recommended rather similar \"adventure\" movies"
   ]
  }
 ],
 "metadata": {
  "kernelspec": {
   "display_name": "env",
   "language": "python",
   "name": "python3"
  },
  "language_info": {
   "codemirror_mode": {
    "name": "ipython",
    "version": 3
   },
   "file_extension": ".py",
   "mimetype": "text/x-python",
   "name": "python",
   "nbconvert_exporter": "python",
   "pygments_lexer": "ipython3",
   "version": "3.10.13"
  }
 },
 "nbformat": 4,
 "nbformat_minor": 2
}
