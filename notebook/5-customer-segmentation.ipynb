{
 "cells": [
  {
   "cell_type": "code",
   "execution_count": 1,
   "metadata": {},
   "outputs": [],
   "source": [
    "import importlib\n",
    "import pandas as pd\n",
    "import utils"
   ]
  },
  {
   "cell_type": "code",
   "execution_count": 2,
   "metadata": {},
   "outputs": [
    {
     "data": {
      "text/plain": [
       "<module 'utils' from '/Users/nicolearitranair/ml-basics/notebook/utils.py'>"
      ]
     },
     "execution_count": 2,
     "metadata": {},
     "output_type": "execute_result"
    }
   ],
   "source": [
    "importlib.reload(utils)"
   ]
  },
  {
   "cell_type": "code",
   "execution_count": 3,
   "metadata": {},
   "outputs": [
    {
     "data": {
      "text/html": [
       "<div>\n",
       "<style scoped>\n",
       "    .dataframe tbody tr th:only-of-type {\n",
       "        vertical-align: middle;\n",
       "    }\n",
       "\n",
       "    .dataframe tbody tr th {\n",
       "        vertical-align: top;\n",
       "    }\n",
       "\n",
       "    .dataframe thead th {\n",
       "        text-align: right;\n",
       "    }\n",
       "</style>\n",
       "<table border=\"1\" class=\"dataframe\">\n",
       "  <thead>\n",
       "    <tr style=\"text-align: right;\">\n",
       "      <th></th>\n",
       "      <th>Customer_ID</th>\n",
       "      <th>Age</th>\n",
       "      <th>Gender</th>\n",
       "      <th>CreditScore</th>\n",
       "      <th>Tenure</th>\n",
       "      <th>Balance</th>\n",
       "      <th>NumOfProducts</th>\n",
       "      <th>Education</th>\n",
       "      <th>Country</th>\n",
       "      <th>HasCrCard</th>\n",
       "      <th>Transaction_Count</th>\n",
       "      <th>Avg_Transaction_Value</th>\n",
       "      <th>EstimatedSalary</th>\n",
       "    </tr>\n",
       "  </thead>\n",
       "  <tbody>\n",
       "    <tr>\n",
       "      <th>984</th>\n",
       "      <td>985</td>\n",
       "      <td>45</td>\n",
       "      <td>F</td>\n",
       "      <td>804</td>\n",
       "      <td>6</td>\n",
       "      <td>125327.133369</td>\n",
       "      <td>4</td>\n",
       "      <td>6</td>\n",
       "      <td>FRA</td>\n",
       "      <td>0</td>\n",
       "      <td>4</td>\n",
       "      <td>185.503530</td>\n",
       "      <td>123032.189574</td>\n",
       "    </tr>\n",
       "    <tr>\n",
       "      <th>716</th>\n",
       "      <td>717</td>\n",
       "      <td>24</td>\n",
       "      <td>F</td>\n",
       "      <td>363</td>\n",
       "      <td>0</td>\n",
       "      <td>1987.817483</td>\n",
       "      <td>1</td>\n",
       "      <td>2</td>\n",
       "      <td>BE</td>\n",
       "      <td>0</td>\n",
       "      <td>1</td>\n",
       "      <td>49.880288</td>\n",
       "      <td>22136.581951</td>\n",
       "    </tr>\n",
       "    <tr>\n",
       "      <th>95</th>\n",
       "      <td>96</td>\n",
       "      <td>23</td>\n",
       "      <td>M</td>\n",
       "      <td>393</td>\n",
       "      <td>1</td>\n",
       "      <td>1751.191551</td>\n",
       "      <td>1</td>\n",
       "      <td>2</td>\n",
       "      <td>BG</td>\n",
       "      <td>0</td>\n",
       "      <td>1</td>\n",
       "      <td>48.833531</td>\n",
       "      <td>41536.936995</td>\n",
       "    </tr>\n",
       "    <tr>\n",
       "      <th>796</th>\n",
       "      <td>797</td>\n",
       "      <td>50</td>\n",
       "      <td>F</td>\n",
       "      <td>810</td>\n",
       "      <td>5</td>\n",
       "      <td>138543.117157</td>\n",
       "      <td>4</td>\n",
       "      <td>5</td>\n",
       "      <td>ES</td>\n",
       "      <td>0</td>\n",
       "      <td>4</td>\n",
       "      <td>253.089967</td>\n",
       "      <td>126192.956717</td>\n",
       "    </tr>\n",
       "    <tr>\n",
       "      <th>40</th>\n",
       "      <td>41</td>\n",
       "      <td>48</td>\n",
       "      <td>F</td>\n",
       "      <td>820</td>\n",
       "      <td>5</td>\n",
       "      <td>103312.772302</td>\n",
       "      <td>3</td>\n",
       "      <td>5</td>\n",
       "      <td>PL</td>\n",
       "      <td>0</td>\n",
       "      <td>4</td>\n",
       "      <td>282.102192</td>\n",
       "      <td>102904.557987</td>\n",
       "    </tr>\n",
       "    <tr>\n",
       "      <th>...</th>\n",
       "      <td>...</td>\n",
       "      <td>...</td>\n",
       "      <td>...</td>\n",
       "      <td>...</td>\n",
       "      <td>...</td>\n",
       "      <td>...</td>\n",
       "      <td>...</td>\n",
       "      <td>...</td>\n",
       "      <td>...</td>\n",
       "      <td>...</td>\n",
       "      <td>...</td>\n",
       "      <td>...</td>\n",
       "      <td>...</td>\n",
       "    </tr>\n",
       "    <tr>\n",
       "      <th>552</th>\n",
       "      <td>553</td>\n",
       "      <td>67</td>\n",
       "      <td>M</td>\n",
       "      <td>824</td>\n",
       "      <td>9</td>\n",
       "      <td>191841.429416</td>\n",
       "      <td>6</td>\n",
       "      <td>6</td>\n",
       "      <td>CAN</td>\n",
       "      <td>1</td>\n",
       "      <td>4</td>\n",
       "      <td>472.952673</td>\n",
       "      <td>141177.945440</td>\n",
       "    </tr>\n",
       "    <tr>\n",
       "      <th>910</th>\n",
       "      <td>911</td>\n",
       "      <td>64</td>\n",
       "      <td>M</td>\n",
       "      <td>780</td>\n",
       "      <td>9</td>\n",
       "      <td>194708.079825</td>\n",
       "      <td>5</td>\n",
       "      <td>6</td>\n",
       "      <td>AT</td>\n",
       "      <td>1</td>\n",
       "      <td>4</td>\n",
       "      <td>462.179695</td>\n",
       "      <td>144968.999826</td>\n",
       "    </tr>\n",
       "    <tr>\n",
       "      <th>807</th>\n",
       "      <td>808</td>\n",
       "      <td>53</td>\n",
       "      <td>F</td>\n",
       "      <td>844</td>\n",
       "      <td>6</td>\n",
       "      <td>124016.148607</td>\n",
       "      <td>4</td>\n",
       "      <td>5</td>\n",
       "      <td>PL</td>\n",
       "      <td>0</td>\n",
       "      <td>4</td>\n",
       "      <td>270.495098</td>\n",
       "      <td>100790.500540</td>\n",
       "    </tr>\n",
       "    <tr>\n",
       "      <th>625</th>\n",
       "      <td>626</td>\n",
       "      <td>42</td>\n",
       "      <td>F</td>\n",
       "      <td>820</td>\n",
       "      <td>6</td>\n",
       "      <td>109964.806502</td>\n",
       "      <td>4</td>\n",
       "      <td>6</td>\n",
       "      <td>EE</td>\n",
       "      <td>0</td>\n",
       "      <td>4</td>\n",
       "      <td>221.990326</td>\n",
       "      <td>136632.728854</td>\n",
       "    </tr>\n",
       "    <tr>\n",
       "      <th>217</th>\n",
       "      <td>218</td>\n",
       "      <td>43</td>\n",
       "      <td>F</td>\n",
       "      <td>809</td>\n",
       "      <td>6</td>\n",
       "      <td>140844.586244</td>\n",
       "      <td>3</td>\n",
       "      <td>4</td>\n",
       "      <td>AU</td>\n",
       "      <td>0</td>\n",
       "      <td>4</td>\n",
       "      <td>116.927696</td>\n",
       "      <td>105691.966040</td>\n",
       "    </tr>\n",
       "  </tbody>\n",
       "</table>\n",
       "<p>3000 rows × 13 columns</p>\n",
       "</div>"
      ],
      "text/plain": [
       "     Customer_ID  Age Gender  CreditScore  Tenure        Balance  \\\n",
       "984          985   45      F          804       6  125327.133369   \n",
       "716          717   24      F          363       0    1987.817483   \n",
       "95            96   23      M          393       1    1751.191551   \n",
       "796          797   50      F          810       5  138543.117157   \n",
       "40            41   48      F          820       5  103312.772302   \n",
       "..           ...  ...    ...          ...     ...            ...   \n",
       "552          553   67      M          824       9  191841.429416   \n",
       "910          911   64      M          780       9  194708.079825   \n",
       "807          808   53      F          844       6  124016.148607   \n",
       "625          626   42      F          820       6  109964.806502   \n",
       "217          218   43      F          809       6  140844.586244   \n",
       "\n",
       "     NumOfProducts  Education Country  HasCrCard  Transaction_Count  \\\n",
       "984              4          6     FRA          0                  4   \n",
       "716              1          2      BE          0                  1   \n",
       "95               1          2      BG          0                  1   \n",
       "796              4          5      ES          0                  4   \n",
       "40               3          5      PL          0                  4   \n",
       "..             ...        ...     ...        ...                ...   \n",
       "552              6          6     CAN          1                  4   \n",
       "910              5          6      AT          1                  4   \n",
       "807              4          5      PL          0                  4   \n",
       "625              4          6      EE          0                  4   \n",
       "217              3          4      AU          0                  4   \n",
       "\n",
       "     Avg_Transaction_Value  EstimatedSalary  \n",
       "984             185.503530    123032.189574  \n",
       "716              49.880288     22136.581951  \n",
       "95               48.833531     41536.936995  \n",
       "796             253.089967    126192.956717  \n",
       "40              282.102192    102904.557987  \n",
       "..                     ...              ...  \n",
       "552             472.952673    141177.945440  \n",
       "910             462.179695    144968.999826  \n",
       "807             270.495098    100790.500540  \n",
       "625             221.990326    136632.728854  \n",
       "217             116.927696    105691.966040  \n",
       "\n",
       "[3000 rows x 13 columns]"
      ]
     },
     "execution_count": 3,
     "metadata": {},
     "output_type": "execute_result"
    }
   ],
   "source": [
    "import numpy as np\n",
    "\n",
    "df = utils.get_customer_segmentation_data()\n",
    "df"
   ]
  },
  {
   "cell_type": "code",
   "execution_count": 4,
   "metadata": {},
   "outputs": [],
   "source": [
    "df.to_csv(\"output_data/customer-segmentation-data.csv\")"
   ]
  },
  {
   "cell_type": "code",
   "execution_count": 5,
   "metadata": {},
   "outputs": [
    {
     "data": {
      "text/html": [
       "<div>\n",
       "<style scoped>\n",
       "    .dataframe tbody tr th:only-of-type {\n",
       "        vertical-align: middle;\n",
       "    }\n",
       "\n",
       "    .dataframe tbody tr th {\n",
       "        vertical-align: top;\n",
       "    }\n",
       "\n",
       "    .dataframe thead th {\n",
       "        text-align: right;\n",
       "    }\n",
       "</style>\n",
       "<table border=\"1\" class=\"dataframe\">\n",
       "  <thead>\n",
       "    <tr style=\"text-align: right;\">\n",
       "      <th></th>\n",
       "      <th>Customer_ID</th>\n",
       "      <th>Age</th>\n",
       "      <th>Gender</th>\n",
       "      <th>CreditScore</th>\n",
       "      <th>Tenure</th>\n",
       "      <th>Balance</th>\n",
       "      <th>NumOfProducts</th>\n",
       "      <th>Education</th>\n",
       "      <th>Country</th>\n",
       "      <th>HasCrCard</th>\n",
       "      <th>Transaction_Count</th>\n",
       "      <th>Avg_Transaction_Value</th>\n",
       "      <th>EstimatedSalary</th>\n",
       "    </tr>\n",
       "  </thead>\n",
       "  <tbody>\n",
       "    <tr>\n",
       "      <th>984</th>\n",
       "      <td>985</td>\n",
       "      <td>45</td>\n",
       "      <td>F</td>\n",
       "      <td>804</td>\n",
       "      <td>6</td>\n",
       "      <td>125327.133369</td>\n",
       "      <td>4</td>\n",
       "      <td>6</td>\n",
       "      <td>FRA</td>\n",
       "      <td>0</td>\n",
       "      <td>4</td>\n",
       "      <td>185.503530</td>\n",
       "      <td>123032.189574</td>\n",
       "    </tr>\n",
       "    <tr>\n",
       "      <th>716</th>\n",
       "      <td>717</td>\n",
       "      <td>24</td>\n",
       "      <td>F</td>\n",
       "      <td>363</td>\n",
       "      <td>0</td>\n",
       "      <td>1987.817483</td>\n",
       "      <td>1</td>\n",
       "      <td>2</td>\n",
       "      <td>BE</td>\n",
       "      <td>0</td>\n",
       "      <td>1</td>\n",
       "      <td>49.880288</td>\n",
       "      <td>22136.581951</td>\n",
       "    </tr>\n",
       "    <tr>\n",
       "      <th>95</th>\n",
       "      <td>96</td>\n",
       "      <td>23</td>\n",
       "      <td>M</td>\n",
       "      <td>393</td>\n",
       "      <td>1</td>\n",
       "      <td>1751.191551</td>\n",
       "      <td>1</td>\n",
       "      <td>2</td>\n",
       "      <td>BG</td>\n",
       "      <td>0</td>\n",
       "      <td>1</td>\n",
       "      <td>48.833531</td>\n",
       "      <td>41536.936995</td>\n",
       "    </tr>\n",
       "    <tr>\n",
       "      <th>796</th>\n",
       "      <td>797</td>\n",
       "      <td>50</td>\n",
       "      <td>F</td>\n",
       "      <td>810</td>\n",
       "      <td>5</td>\n",
       "      <td>138543.117157</td>\n",
       "      <td>4</td>\n",
       "      <td>5</td>\n",
       "      <td>ES</td>\n",
       "      <td>0</td>\n",
       "      <td>4</td>\n",
       "      <td>253.089967</td>\n",
       "      <td>126192.956717</td>\n",
       "    </tr>\n",
       "    <tr>\n",
       "      <th>40</th>\n",
       "      <td>41</td>\n",
       "      <td>48</td>\n",
       "      <td>F</td>\n",
       "      <td>820</td>\n",
       "      <td>5</td>\n",
       "      <td>103312.772302</td>\n",
       "      <td>3</td>\n",
       "      <td>5</td>\n",
       "      <td>PL</td>\n",
       "      <td>0</td>\n",
       "      <td>4</td>\n",
       "      <td>282.102192</td>\n",
       "      <td>102904.557987</td>\n",
       "    </tr>\n",
       "    <tr>\n",
       "      <th>...</th>\n",
       "      <td>...</td>\n",
       "      <td>...</td>\n",
       "      <td>...</td>\n",
       "      <td>...</td>\n",
       "      <td>...</td>\n",
       "      <td>...</td>\n",
       "      <td>...</td>\n",
       "      <td>...</td>\n",
       "      <td>...</td>\n",
       "      <td>...</td>\n",
       "      <td>...</td>\n",
       "      <td>...</td>\n",
       "      <td>...</td>\n",
       "    </tr>\n",
       "    <tr>\n",
       "      <th>552</th>\n",
       "      <td>553</td>\n",
       "      <td>67</td>\n",
       "      <td>M</td>\n",
       "      <td>824</td>\n",
       "      <td>9</td>\n",
       "      <td>191841.429416</td>\n",
       "      <td>6</td>\n",
       "      <td>6</td>\n",
       "      <td>CAN</td>\n",
       "      <td>1</td>\n",
       "      <td>4</td>\n",
       "      <td>472.952673</td>\n",
       "      <td>141177.945440</td>\n",
       "    </tr>\n",
       "    <tr>\n",
       "      <th>910</th>\n",
       "      <td>911</td>\n",
       "      <td>64</td>\n",
       "      <td>M</td>\n",
       "      <td>780</td>\n",
       "      <td>9</td>\n",
       "      <td>194708.079825</td>\n",
       "      <td>5</td>\n",
       "      <td>6</td>\n",
       "      <td>AT</td>\n",
       "      <td>1</td>\n",
       "      <td>4</td>\n",
       "      <td>462.179695</td>\n",
       "      <td>144968.999826</td>\n",
       "    </tr>\n",
       "    <tr>\n",
       "      <th>807</th>\n",
       "      <td>808</td>\n",
       "      <td>53</td>\n",
       "      <td>F</td>\n",
       "      <td>844</td>\n",
       "      <td>6</td>\n",
       "      <td>124016.148607</td>\n",
       "      <td>4</td>\n",
       "      <td>5</td>\n",
       "      <td>PL</td>\n",
       "      <td>0</td>\n",
       "      <td>4</td>\n",
       "      <td>270.495098</td>\n",
       "      <td>100790.500540</td>\n",
       "    </tr>\n",
       "    <tr>\n",
       "      <th>625</th>\n",
       "      <td>626</td>\n",
       "      <td>42</td>\n",
       "      <td>F</td>\n",
       "      <td>820</td>\n",
       "      <td>6</td>\n",
       "      <td>109964.806502</td>\n",
       "      <td>4</td>\n",
       "      <td>6</td>\n",
       "      <td>EE</td>\n",
       "      <td>0</td>\n",
       "      <td>4</td>\n",
       "      <td>221.990326</td>\n",
       "      <td>136632.728854</td>\n",
       "    </tr>\n",
       "    <tr>\n",
       "      <th>217</th>\n",
       "      <td>218</td>\n",
       "      <td>43</td>\n",
       "      <td>F</td>\n",
       "      <td>809</td>\n",
       "      <td>6</td>\n",
       "      <td>140844.586244</td>\n",
       "      <td>3</td>\n",
       "      <td>4</td>\n",
       "      <td>AU</td>\n",
       "      <td>0</td>\n",
       "      <td>4</td>\n",
       "      <td>116.927696</td>\n",
       "      <td>105691.966040</td>\n",
       "    </tr>\n",
       "  </tbody>\n",
       "</table>\n",
       "<p>3000 rows × 13 columns</p>\n",
       "</div>"
      ],
      "text/plain": [
       "     Customer_ID  Age Gender  CreditScore  Tenure        Balance  \\\n",
       "984          985   45      F          804       6  125327.133369   \n",
       "716          717   24      F          363       0    1987.817483   \n",
       "95            96   23      M          393       1    1751.191551   \n",
       "796          797   50      F          810       5  138543.117157   \n",
       "40            41   48      F          820       5  103312.772302   \n",
       "..           ...  ...    ...          ...     ...            ...   \n",
       "552          553   67      M          824       9  191841.429416   \n",
       "910          911   64      M          780       9  194708.079825   \n",
       "807          808   53      F          844       6  124016.148607   \n",
       "625          626   42      F          820       6  109964.806502   \n",
       "217          218   43      F          809       6  140844.586244   \n",
       "\n",
       "     NumOfProducts  Education Country  HasCrCard  Transaction_Count  \\\n",
       "984              4          6     FRA          0                  4   \n",
       "716              1          2      BE          0                  1   \n",
       "95               1          2      BG          0                  1   \n",
       "796              4          5      ES          0                  4   \n",
       "40               3          5      PL          0                  4   \n",
       "..             ...        ...     ...        ...                ...   \n",
       "552              6          6     CAN          1                  4   \n",
       "910              5          6      AT          1                  4   \n",
       "807              4          5      PL          0                  4   \n",
       "625              4          6      EE          0                  4   \n",
       "217              3          4      AU          0                  4   \n",
       "\n",
       "     Avg_Transaction_Value  EstimatedSalary  \n",
       "984             185.503530    123032.189574  \n",
       "716              49.880288     22136.581951  \n",
       "95               48.833531     41536.936995  \n",
       "796             253.089967    126192.956717  \n",
       "40              282.102192    102904.557987  \n",
       "..                     ...              ...  \n",
       "552             472.952673    141177.945440  \n",
       "910             462.179695    144968.999826  \n",
       "807             270.495098    100790.500540  \n",
       "625             221.990326    136632.728854  \n",
       "217             116.927696    105691.966040  \n",
       "\n",
       "[3000 rows x 13 columns]"
      ]
     },
     "execution_count": 5,
     "metadata": {},
     "output_type": "execute_result"
    }
   ],
   "source": [
    "df"
   ]
  },
  {
   "cell_type": "code",
   "execution_count": 6,
   "metadata": {},
   "outputs": [
    {
     "name": "stdout",
     "output_type": "stream",
     "text": [
      "Age\n",
      "CreditScore\n",
      "Tenure\n",
      "Balance\n",
      "NumOfProducts\n",
      "Transaction_Count\n",
      "Avg_Transaction_Value\n",
      "EstimatedSalary\n"
     ]
    }
   ],
   "source": [
    "df_to_cluster_normalize  = df.iloc[:,1:].copy()\n",
    "\n",
    "continuous_columns = [\"Age\", \"CreditScore\", \"Tenure\", \"Balance\", \"NumOfProducts\", \"Transaction_Count\", \"Avg_Transaction_Value\", \"EstimatedSalary\"]\n",
    "\n",
    "for col in continuous_columns:\n",
    "    print(col)\n",
    "    #rescale the continuous data\n",
    "    df_to_cluster_normalize[col] = (df_to_cluster_normalize[col]-df_to_cluster_normalize[col].min())/(df_to_cluster_normalize[col].max()-df_to_cluster_normalize[col].min())"
   ]
  },
  {
   "cell_type": "code",
   "execution_count": 8,
   "metadata": {},
   "outputs": [
    {
     "name": "stdout",
     "output_type": "stream",
     "text": [
      "Init: initializing centroids\n",
      "Init: initializing clusters\n",
      "Starting iterations...\n",
      "Run: 1, iteration: 1/100, moves: 0, ncost: 5183.090105758608\n",
      "Init: initializing centroids\n",
      "Init: initializing clusters\n",
      "Starting iterations...\n",
      "Run: 2, iteration: 1/100, moves: 0, ncost: 5183.090105758608\n",
      "Init: initializing centroids\n",
      "Init: initializing clusters\n",
      "Starting iterations...\n",
      "Run: 3, iteration: 1/100, moves: 0, ncost: 5183.090105758608\n",
      "Init: initializing centroids\n",
      "Init: initializing clusters\n",
      "Starting iterations...\n",
      "Run: 4, iteration: 1/100, moves: 0, ncost: 5183.090105758608\n",
      "Init: initializing centroids\n",
      "Init: initializing clusters\n",
      "Starting iterations...\n",
      "Run: 5, iteration: 1/100, moves: 0, ncost: 5183.090105758608\n",
      "Best run was number 1\n",
      "Init: initializing centroids\n",
      "Init: initializing clusters\n",
      "Starting iterations...\n",
      "Run: 1, iteration: 1/100, moves: 0, ncost: 1730.1667534567632\n",
      "Init: initializing centroids\n",
      "Init: initializing clusters\n",
      "Starting iterations...\n",
      "Run: 2, iteration: 1/100, moves: 859, ncost: 2117.3003700508843\n",
      "Run: 2, iteration: 2/100, moves: 461, ncost: 1730.166753456765\n",
      "Run: 2, iteration: 3/100, moves: 0, ncost: 1730.166753456765\n",
      "Init: initializing centroids\n",
      "Init: initializing clusters\n",
      "Starting iterations...\n",
      "Run: 3, iteration: 1/100, moves: 884, ncost: 1763.2657048705737\n",
      "Run: 3, iteration: 2/100, moves: 107, ncost: 1730.1667534567648\n",
      "Run: 3, iteration: 3/100, moves: 0, ncost: 1730.1667534567648\n",
      "Init: initializing centroids\n",
      "Init: initializing clusters\n",
      "Starting iterations...\n",
      "Run: 4, iteration: 1/100, moves: 0, ncost: 1730.1667534567632\n",
      "Init: initializing centroids\n",
      "Init: initializing clusters\n",
      "Starting iterations...\n",
      "Run: 5, iteration: 1/100, moves: 0, ncost: 1730.1667534567632\n",
      "Best run was number 1\n",
      "Init: initializing centroids\n",
      "Init: initializing clusters\n",
      "Init: initializing centroids\n",
      "Init: initializing clusters\n",
      "Init: initializing centroids\n",
      "Init: initializing clusters\n",
      "Starting iterations...\n",
      "Run: 1, iteration: 1/100, moves: 434, ncost: 1150.6030184010526\n",
      "Run: 1, iteration: 2/100, moves: 1, ncost: 1150.602218998415\n",
      "Run: 1, iteration: 3/100, moves: 0, ncost: 1150.602218998415\n",
      "Init: initializing centroids\n",
      "Init: initializing clusters\n",
      "Starting iterations...\n",
      "Run: 2, iteration: 1/100, moves: 888, ncost: 1154.9528433975393\n",
      "Run: 2, iteration: 2/100, moves: 79, ncost: 1150.6029977805124\n",
      "Run: 2, iteration: 3/100, moves: 1, ncost: 1150.6022189984149\n",
      "Run: 2, iteration: 4/100, moves: 0, ncost: 1150.6022189984149\n",
      "Init: initializing centroids\n",
      "Init: initializing clusters\n",
      "Starting iterations...\n",
      "Run: 3, iteration: 1/100, moves: 1243, ncost: 1159.020532483151\n",
      "Run: 3, iteration: 2/100, moves: 53, ncost: 1150.6022189984149\n",
      "Run: 3, iteration: 3/100, moves: 0, ncost: 1150.6022189984149\n",
      "Init: initializing centroids\n",
      "Init: initializing clusters\n",
      "Init: initializing centroids\n",
      "Init: initializing clusters\n",
      "Starting iterations...\n",
      "Run: 4, iteration: 1/100, moves: 781, ncost: 1151.2722080305984\n",
      "Run: 4, iteration: 2/100, moves: 20, ncost: 1150.6022189984158\n",
      "Run: 4, iteration: 3/100, moves: 0, ncost: 1150.6022189984158\n",
      "Init: initializing centroids\n",
      "Init: initializing clusters\n",
      "Starting iterations...\n",
      "Run: 5, iteration: 1/100, moves: 970, ncost: 1155.3308154447066\n",
      "Run: 5, iteration: 2/100, moves: 83, ncost: 1150.6022189984142\n",
      "Run: 5, iteration: 3/100, moves: 0, ncost: 1150.6022189984142\n",
      "Best run was number 5\n",
      "Init: initializing centroids\n",
      "Init: initializing clusters\n",
      "Init: initializing centroids\n",
      "Init: initializing clusters\n",
      "Starting iterations...\n",
      "Run: 1, iteration: 1/100, moves: 858, ncost: 1196.3091291845556\n",
      "Run: 1, iteration: 2/100, moves: 760, ncost: 1056.0752817108319\n",
      "Run: 1, iteration: 3/100, moves: 27, ncost: 1055.2418573424975\n",
      "Run: 1, iteration: 4/100, moves: 1, ncost: 1055.2418089623438\n",
      "Run: 1, iteration: 5/100, moves: 0, ncost: 1055.2418089623438\n",
      "Init: initializing centroids\n",
      "Init: initializing clusters\n",
      "Init: initializing centroids\n",
      "Init: initializing clusters\n",
      "Init: initializing centroids\n",
      "Init: initializing clusters\n",
      "Init: initializing centroids\n",
      "Init: initializing clusters\n",
      "Starting iterations...\n",
      "Run: 2, iteration: 1/100, moves: 530, ncost: 1621.7812910190162\n",
      "Run: 2, iteration: 2/100, moves: 238, ncost: 1620.815837666459\n",
      "Run: 2, iteration: 3/100, moves: 47, ncost: 1620.7868151704292\n",
      "Run: 2, iteration: 4/100, moves: 12, ncost: 1620.785071020597\n",
      "Run: 2, iteration: 5/100, moves: 2, ncost: 1620.784823368614\n",
      "Run: 2, iteration: 6/100, moves: 2, ncost: 1620.7846966725986\n",
      "Run: 2, iteration: 7/100, moves: 0, ncost: 1620.7846966725986\n",
      "Init: initializing centroids\n",
      "Init: initializing clusters\n",
      "Starting iterations...\n",
      "Run: 3, iteration: 1/100, moves: 610, ncost: 1059.2870660389528\n",
      "Run: 3, iteration: 2/100, moves: 121, ncost: 1059.1436652559323\n",
      "Run: 3, iteration: 3/100, moves: 36, ncost: 1059.1243053628161\n",
      "Run: 3, iteration: 4/100, moves: 7, ncost: 1059.1237163998812\n",
      "Run: 3, iteration: 5/100, moves: 0, ncost: 1059.1237163998812\n",
      "Init: initializing centroids\n",
      "Init: initializing clusters\n",
      "Starting iterations...\n",
      "Run: 4, iteration: 1/100, moves: 599, ncost: 1138.6414621878253\n",
      "Run: 4, iteration: 2/100, moves: 3, ncost: 1138.6413177225747\n",
      "Run: 4, iteration: 3/100, moves: 0, ncost: 1138.6413177225747\n",
      "Init: initializing centroids\n",
      "Init: initializing clusters\n",
      "Init: initializing centroids\n",
      "Init: initializing clusters\n",
      "Starting iterations...\n",
      "Run: 5, iteration: 1/100, moves: 815, ncost: 1052.6576005765976\n",
      "Run: 5, iteration: 2/100, moves: 36, ncost: 1052.5527438134186\n",
      "Run: 5, iteration: 3/100, moves: 0, ncost: 1052.5527438134186\n",
      "Best run was number 5\n",
      "Init: initializing centroids\n",
      "Init: initializing clusters\n",
      "Starting iterations...\n",
      "Run: 1, iteration: 1/100, moves: 992, ncost: 960.2371300462664\n",
      "Run: 1, iteration: 2/100, moves: 178, ncost: 959.5922904024848\n",
      "Run: 1, iteration: 3/100, moves: 145, ncost: 959.0756835820698\n",
      "Run: 1, iteration: 4/100, moves: 69, ncost: 959.0256501606618\n",
      "Run: 1, iteration: 5/100, moves: 14, ncost: 959.0225715388718\n",
      "Run: 1, iteration: 6/100, moves: 2, ncost: 959.0224907260913\n",
      "Run: 1, iteration: 7/100, moves: 0, ncost: 959.0224907260913\n",
      "Init: initializing centroids\n",
      "Init: initializing clusters\n",
      "Init: initializing centroids\n",
      "Init: initializing clusters\n",
      "Starting iterations...\n",
      "Run: 2, iteration: 1/100, moves: 901, ncost: 1036.7610195106395\n",
      "Run: 2, iteration: 2/100, moves: 146, ncost: 1034.460614270304\n",
      "Run: 2, iteration: 3/100, moves: 199, ncost: 1016.4285306633151\n",
      "Run: 2, iteration: 4/100, moves: 126, ncost: 1014.6954259107308\n",
      "Run: 2, iteration: 5/100, moves: 67, ncost: 1014.3983327463651\n",
      "Run: 2, iteration: 6/100, moves: 55, ncost: 1014.1003651154123\n",
      "Run: 2, iteration: 7/100, moves: 48, ncost: 1013.9564521814215\n",
      "Run: 2, iteration: 8/100, moves: 17, ncost: 1013.9395971059265\n",
      "Run: 2, iteration: 9/100, moves: 1, ncost: 1013.9393873845972\n",
      "Run: 2, iteration: 10/100, moves: 0, ncost: 1013.9393873845972\n",
      "Init: initializing centroids\n",
      "Init: initializing clusters\n",
      "Init: initializing centroids\n",
      "Init: initializing clusters\n",
      "Init: initializing centroids\n",
      "Init: initializing clusters\n",
      "Starting iterations...\n",
      "Run: 3, iteration: 1/100, moves: 366, ncost: 1019.9110740964351\n",
      "Run: 3, iteration: 2/100, moves: 33, ncost: 1019.8210289185537\n",
      "Run: 3, iteration: 3/100, moves: 38, ncost: 1019.6615172866676\n",
      "Run: 3, iteration: 4/100, moves: 32, ncost: 1019.6058861470048\n",
      "Run: 3, iteration: 5/100, moves: 10, ncost: 1019.5995839536203\n",
      "Run: 3, iteration: 6/100, moves: 0, ncost: 1019.5995839536203\n",
      "Init: initializing centroids\n",
      "Init: initializing clusters\n",
      "Starting iterations...\n",
      "Run: 4, iteration: 1/100, moves: 1919, ncost: 1031.78380071921\n",
      "Run: 4, iteration: 2/100, moves: 665, ncost: 960.2041100509988\n",
      "Run: 4, iteration: 3/100, moves: 80, ncost: 960.1283999581199\n",
      "Run: 4, iteration: 4/100, moves: 21, ncost: 960.1212555016741\n",
      "Run: 4, iteration: 5/100, moves: 5, ncost: 960.1205109716485\n",
      "Run: 4, iteration: 6/100, moves: 0, ncost: 960.1205109716485\n",
      "Init: initializing centroids\n",
      "Init: initializing clusters\n",
      "Starting iterations...\n",
      "Run: 5, iteration: 1/100, moves: 750, ncost: 1041.9607931656305\n",
      "Run: 5, iteration: 2/100, moves: 425, ncost: 1038.855772250957\n",
      "Run: 5, iteration: 3/100, moves: 12, ncost: 1038.8455785893111\n",
      "Run: 5, iteration: 4/100, moves: 5, ncost: 1038.843793420609\n",
      "Run: 5, iteration: 5/100, moves: 0, ncost: 1038.843793420609\n",
      "Best run was number 1\n",
      "Init: initializing centroids\n",
      "Init: initializing clusters\n",
      "Init: initializing centroids\n",
      "Init: initializing clusters\n",
      "Init: initializing centroids\n",
      "Init: initializing clusters\n",
      "Init: initializing centroids\n",
      "Init: initializing clusters\n",
      "Init: initializing centroids\n",
      "Init: initializing clusters\n",
      "Init: initializing centroids\n",
      "Init: initializing clusters\n",
      "Init: initializing centroids\n",
      "Init: initializing clusters\n",
      "Init: initializing centroids\n",
      "Init: initializing clusters\n",
      "Init: initializing centroids\n",
      "Init: initializing clusters\n",
      "Init: initializing centroids\n",
      "Init: initializing clusters\n",
      "Init: initializing centroids\n",
      "Init: initializing clusters\n",
      "Init: initializing centroids\n",
      "Init: initializing clusters\n",
      "Init: initializing centroids\n",
      "Init: initializing clusters\n",
      "Starting iterations...\n",
      "Run: 1, iteration: 1/100, moves: 1908, ncost: 949.0451060251797\n",
      "Run: 1, iteration: 2/100, moves: 140, ncost: 937.5233415434498\n",
      "Run: 1, iteration: 3/100, moves: 30, ncost: 936.8663801846885\n",
      "Run: 1, iteration: 4/100, moves: 7, ncost: 936.86259179272\n",
      "Run: 1, iteration: 5/100, moves: 2, ncost: 936.8619733151553\n",
      "Run: 1, iteration: 6/100, moves: 2, ncost: 936.8617410823656\n",
      "Run: 1, iteration: 7/100, moves: 0, ncost: 936.8617410823656\n",
      "Init: initializing centroids\n",
      "Init: initializing clusters\n",
      "Init: initializing centroids\n",
      "Init: initializing clusters\n",
      "Init: initializing centroids\n",
      "Init: initializing clusters\n",
      "Init: initializing centroids\n",
      "Init: initializing clusters\n",
      "Init: initializing centroids\n",
      "Init: initializing clusters\n",
      "Starting iterations...\n",
      "Run: 2, iteration: 1/100, moves: 1180, ncost: 1031.6547082995933\n",
      "Run: 2, iteration: 2/100, moves: 168, ncost: 1030.5960891040058\n",
      "Run: 2, iteration: 3/100, moves: 41, ncost: 1030.497816720105\n",
      "Run: 2, iteration: 4/100, moves: 6, ncost: 1030.4911408740816\n",
      "Run: 2, iteration: 5/100, moves: 1, ncost: 1030.4905043499414\n",
      "Run: 2, iteration: 6/100, moves: 0, ncost: 1030.4905043499414\n",
      "Init: initializing centroids\n",
      "Init: initializing clusters\n",
      "Init: initializing centroids\n",
      "Init: initializing clusters\n",
      "Init: initializing centroids\n",
      "Init: initializing clusters\n",
      "Init: initializing centroids\n",
      "Init: initializing clusters\n",
      "Init: initializing centroids\n",
      "Init: initializing clusters\n",
      "Init: initializing centroids\n",
      "Init: initializing clusters\n",
      "Init: initializing centroids\n",
      "Init: initializing clusters\n",
      "Init: initializing centroids\n",
      "Init: initializing clusters\n",
      "Init: initializing centroids\n",
      "Init: initializing clusters\n",
      "Init: initializing centroids\n",
      "Init: initializing clusters\n",
      "Init: initializing centroids\n",
      "Init: initializing clusters\n",
      "Init: initializing centroids\n",
      "Init: initializing clusters\n",
      "Init: initializing centroids\n",
      "Init: initializing clusters\n",
      "Init: initializing centroids\n",
      "Init: initializing clusters\n",
      "Init: initializing centroids\n",
      "Init: initializing clusters\n",
      "Init: initializing centroids\n",
      "Init: initializing clusters\n",
      "Starting iterations...\n",
      "Run: 3, iteration: 1/100, moves: 828, ncost: 943.63267633485\n",
      "Run: 3, iteration: 2/100, moves: 115, ncost: 943.3518039440179\n",
      "Run: 3, iteration: 3/100, moves: 48, ncost: 943.2858989816702\n",
      "Run: 3, iteration: 4/100, moves: 19, ncost: 943.2734815923918\n",
      "Run: 3, iteration: 5/100, moves: 4, ncost: 943.2726442186154\n",
      "Run: 3, iteration: 6/100, moves: 0, ncost: 943.2726442186154\n",
      "Init: initializing centroids\n",
      "Init: initializing clusters\n",
      "Starting iterations...\n",
      "Run: 4, iteration: 1/100, moves: 1783, ncost: 966.8718771761735\n",
      "Run: 4, iteration: 2/100, moves: 489, ncost: 910.8566154311914\n",
      "Run: 4, iteration: 3/100, moves: 60, ncost: 910.6703296290832\n",
      "Run: 4, iteration: 4/100, moves: 49, ncost: 910.4118998443554\n",
      "Run: 4, iteration: 5/100, moves: 47, ncost: 909.8264679384807\n",
      "Run: 4, iteration: 6/100, moves: 30, ncost: 909.7544811678482\n",
      "Run: 4, iteration: 7/100, moves: 22, ncost: 909.6949578534417\n",
      "Run: 4, iteration: 8/100, moves: 31, ncost: 909.5632366783914\n",
      "Run: 4, iteration: 9/100, moves: 22, ncost: 909.5255664401478\n",
      "Run: 4, iteration: 10/100, moves: 5, ncost: 909.5235543733124\n",
      "Run: 4, iteration: 11/100, moves: 2, ncost: 909.5232079327285\n",
      "Run: 4, iteration: 12/100, moves: 0, ncost: 909.5232079327285\n",
      "Init: initializing centroids\n",
      "Init: initializing clusters\n",
      "Init: initializing centroids\n",
      "Init: initializing clusters\n",
      "Init: initializing centroids\n",
      "Init: initializing clusters\n",
      "Starting iterations...\n",
      "Run: 5, iteration: 1/100, moves: 470, ncost: 984.3181933489616\n",
      "Run: 5, iteration: 2/100, moves: 51, ncost: 984.1383245504805\n",
      "Run: 5, iteration: 3/100, moves: 7, ncost: 984.1356328163372\n",
      "Run: 5, iteration: 4/100, moves: 0, ncost: 984.1356328163372\n",
      "Best run was number 4\n",
      "Init: initializing centroids\n",
      "Init: initializing clusters\n",
      "Init: initializing centroids\n",
      "Init: initializing clusters\n",
      "Init: initializing centroids\n",
      "Init: initializing clusters\n",
      "Init: initializing centroids\n",
      "Init: initializing clusters\n",
      "Init: initializing centroids\n",
      "Init: initializing clusters\n",
      "Init: initializing centroids\n",
      "Init: initializing clusters\n",
      "Init: initializing centroids\n",
      "Init: initializing clusters\n",
      "Init: initializing centroids\n",
      "Init: initializing clusters\n",
      "Init: initializing centroids\n",
      "Init: initializing clusters\n",
      "Init: initializing centroids\n",
      "Init: initializing clusters\n",
      "Init: initializing centroids\n",
      "Init: initializing clusters\n",
      "Init: initializing centroids\n",
      "Init: initializing clusters\n",
      "Init: initializing centroids\n",
      "Init: initializing clusters\n",
      "Init: initializing centroids\n",
      "Init: initializing clusters\n",
      "Init: initializing centroids\n",
      "Init: initializing clusters\n",
      "Init: initializing centroids\n",
      "Init: initializing clusters\n",
      "Init: initializing centroids\n",
      "Init: initializing clusters\n",
      "Init: initializing centroids\n",
      "Init: initializing clusters\n",
      "Init: initializing centroids\n",
      "Init: initializing clusters\n",
      "Init: initializing centroids\n",
      "Init: initializing clusters\n",
      "Init: initializing centroids\n",
      "Init: initializing clusters\n",
      "Init: initializing centroids\n",
      "Init: initializing clusters\n",
      "Init: initializing centroids\n",
      "Init: initializing clusters\n",
      "Init: initializing centroids\n",
      "Init: initializing clusters\n",
      "Init: initializing centroids\n",
      "Init: initializing clusters\n",
      "Starting iterations...\n",
      "Run: 1, iteration: 1/100, moves: 1107, ncost: 963.716942746374\n",
      "Run: 1, iteration: 2/100, moves: 77, ncost: 963.5506076524484\n",
      "Run: 1, iteration: 3/100, moves: 37, ncost: 963.4169681133169\n",
      "Run: 1, iteration: 4/100, moves: 31, ncost: 963.3436657632053\n",
      "Run: 1, iteration: 5/100, moves: 12, ncost: 963.3275155815002\n",
      "Run: 1, iteration: 6/100, moves: 11, ncost: 963.316480349889\n",
      "Run: 1, iteration: 7/100, moves: 5, ncost: 963.3141445252676\n",
      "Run: 1, iteration: 8/100, moves: 3, ncost: 963.3127366145931\n",
      "Run: 1, iteration: 9/100, moves: 1, ncost: 963.312391721091\n",
      "Run: 1, iteration: 10/100, moves: 0, ncost: 963.312391721091\n",
      "Init: initializing centroids\n",
      "Init: initializing clusters\n",
      "Init: initializing centroids\n",
      "Init: initializing clusters\n",
      "Init: initializing centroids\n",
      "Init: initializing clusters\n",
      "Init: initializing centroids\n",
      "Init: initializing clusters\n",
      "Init: initializing centroids\n",
      "Init: initializing clusters\n",
      "Starting iterations...\n",
      "Run: 2, iteration: 1/100, moves: 611, ncost: 992.5646060888251\n",
      "Run: 2, iteration: 2/100, moves: 92, ncost: 992.0787448333429\n",
      "Run: 2, iteration: 3/100, moves: 250, ncost: 962.6291469864469\n",
      "Run: 2, iteration: 4/100, moves: 46, ncost: 962.5577301116826\n",
      "Run: 2, iteration: 5/100, moves: 15, ncost: 962.5463316622403\n",
      "Run: 2, iteration: 6/100, moves: 5, ncost: 962.5437742806673\n",
      "Run: 2, iteration: 7/100, moves: 0, ncost: 962.5437742806673\n",
      "Init: initializing centroids\n",
      "Init: initializing clusters\n",
      "Init: initializing centroids\n",
      "Init: initializing clusters\n",
      "Init: initializing centroids\n",
      "Init: initializing clusters\n",
      "Init: initializing centroids\n",
      "Init: initializing clusters\n",
      "Init: initializing centroids\n",
      "Init: initializing clusters\n",
      "Init: initializing centroids\n",
      "Init: initializing clusters\n",
      "Init: initializing centroids\n",
      "Init: initializing clusters\n",
      "Init: initializing centroids\n",
      "Init: initializing clusters\n",
      "Init: initializing centroids\n",
      "Init: initializing clusters\n",
      "Init: initializing centroids\n",
      "Init: initializing clusters\n",
      "Init: initializing centroids\n",
      "Init: initializing clusters\n",
      "Init: initializing centroids\n",
      "Init: initializing clusters\n",
      "Init: initializing centroids\n",
      "Init: initializing clusters\n",
      "Init: initializing centroids\n",
      "Init: initializing clusters\n",
      "Init: initializing centroids\n",
      "Init: initializing clusters\n",
      "Starting iterations...\n",
      "Run: 3, iteration: 1/100, moves: 1217, ncost: 890.3854290818729\n",
      "Run: 3, iteration: 2/100, moves: 124, ncost: 890.0515192381274\n",
      "Run: 3, iteration: 3/100, moves: 36, ncost: 890.0221202031082\n",
      "Run: 3, iteration: 4/100, moves: 36, ncost: 889.9933858803015\n",
      "Run: 3, iteration: 5/100, moves: 51, ncost: 889.9209750843861\n",
      "Run: 3, iteration: 6/100, moves: 86, ncost: 889.6745498927435\n",
      "Run: 3, iteration: 7/100, moves: 61, ncost: 889.6054471642746\n",
      "Run: 3, iteration: 8/100, moves: 18, ncost: 889.6001160000217\n",
      "Run: 3, iteration: 9/100, moves: 2, ncost: 889.5999829911873\n",
      "Run: 3, iteration: 10/100, moves: 0, ncost: 889.5999829911873\n",
      "Init: initializing centroids\n",
      "Init: initializing clusters\n",
      "Init: initializing centroids\n",
      "Init: initializing clusters\n",
      "Starting iterations...\n",
      "Run: 4, iteration: 1/100, moves: 1664, ncost: 956.490126037249\n",
      "Run: 4, iteration: 2/100, moves: 203, ncost: 954.7667358132131\n",
      "Run: 4, iteration: 3/100, moves: 16, ncost: 954.7487941777093\n",
      "Run: 4, iteration: 4/100, moves: 3, ncost: 954.7473110174888\n",
      "Run: 4, iteration: 5/100, moves: 0, ncost: 954.7473110174888\n",
      "Init: initializing centroids\n",
      "Init: initializing clusters\n",
      "Init: initializing centroids\n",
      "Init: initializing clusters\n",
      "Init: initializing centroids\n",
      "Init: initializing clusters\n",
      "Init: initializing centroids\n",
      "Init: initializing clusters\n",
      "Init: initializing centroids\n",
      "Init: initializing clusters\n",
      "Init: initializing centroids\n",
      "Init: initializing clusters\n",
      "Init: initializing centroids\n",
      "Init: initializing clusters\n",
      "Init: initializing centroids\n",
      "Init: initializing clusters\n",
      "Init: initializing centroids\n",
      "Init: initializing clusters\n",
      "Init: initializing centroids\n",
      "Init: initializing clusters\n",
      "Init: initializing centroids\n",
      "Init: initializing clusters\n",
      "Init: initializing centroids\n",
      "Init: initializing clusters\n",
      "Init: initializing centroids\n",
      "Init: initializing clusters\n",
      "Init: initializing centroids\n",
      "Init: initializing clusters\n",
      "Init: initializing centroids\n",
      "Init: initializing clusters\n",
      "Init: initializing centroids\n",
      "Init: initializing clusters\n",
      "Init: initializing centroids\n",
      "Init: initializing clusters\n",
      "Init: initializing centroids\n",
      "Init: initializing clusters\n",
      "Init: initializing centroids\n",
      "Init: initializing clusters\n",
      "Init: initializing centroids\n",
      "Init: initializing clusters\n",
      "Init: initializing centroids\n",
      "Init: initializing clusters\n",
      "Init: initializing centroids\n",
      "Init: initializing clusters\n",
      "Init: initializing centroids\n",
      "Init: initializing clusters\n",
      "Starting iterations...\n",
      "Run: 5, iteration: 1/100, moves: 933, ncost: 924.2278034494383\n",
      "Run: 5, iteration: 2/100, moves: 238, ncost: 923.7715166909105\n",
      "Run: 5, iteration: 3/100, moves: 112, ncost: 923.2420932013453\n",
      "Run: 5, iteration: 4/100, moves: 68, ncost: 922.9551013801108\n",
      "Run: 5, iteration: 5/100, moves: 13, ncost: 922.9443954469027\n",
      "Run: 5, iteration: 6/100, moves: 2, ncost: 922.9441287884717\n",
      "Run: 5, iteration: 7/100, moves: 0, ncost: 922.9441287884717\n",
      "Best run was number 3\n"
     ]
    },
    {
     "data": {
      "image/png": "[encoded data removed]",
      "text/plain": [
       "<Figure size 640x480 with 1 Axes>"
      ]
     },
     "metadata": {},
     "output_type": "display_data"
    }
   ],
   "source": [
    "from kmodes.kprototypes import KPrototypes\n",
    "import matplotlib.pyplot as plt\n",
    "# Elbow curve to find optimal K \n",
    "\n",
    "cost = [] \n",
    "kmode_models = []\n",
    "K = [1, 2, 3, 4, 5, 6, 7]\n",
    "for k in list(K): \n",
    "    kmode = KPrototypes(n_clusters=k, init = \"random\", n_init = 5, verbose=1) \n",
    "    kmode.fit_predict(df_to_cluster_normalize, categorical=[1, 6, 7, 8]) \n",
    "    cost.append(kmode.cost_)\n",
    "    kmode_models.append(kmode)\n",
    "      \n",
    "plt.plot(K, cost, 'x-') \n",
    "plt.xlabel('No. of clusters') \n",
    "plt.ylabel('Cost') \n",
    "plt.title('Elbow Curve') \n",
    "plt.show()"
   ]
  },
  {
   "cell_type": "code",
   "execution_count": 9,
   "metadata": {},
   "outputs": [
    {
     "name": "stdout",
     "output_type": "stream",
     "text": [
      "Init: initializing centroids\n",
      "Init: initializing clusters\n",
      "Starting iterations...\n",
      "Run: 1, iteration: 1/100, moves: 111, ncost: 1150.6029977805124\n",
      "Run: 1, iteration: 2/100, moves: 1, ncost: 1150.602218998415\n",
      "Run: 1, iteration: 3/100, moves: 0, ncost: 1150.602218998415\n",
      "Init: initializing centroids\n",
      "Init: initializing clusters\n",
      "Starting iterations...\n",
      "Run: 2, iteration: 1/100, moves: 230, ncost: 1634.9784466957942\n",
      "Run: 2, iteration: 2/100, moves: 41, ncost: 1634.953716672209\n",
      "Run: 2, iteration: 3/100, moves: 7, ncost: 1634.9523497300381\n",
      "Run: 2, iteration: 4/100, moves: 2, ncost: 1634.9522557798666\n",
      "Run: 2, iteration: 5/100, moves: 0, ncost: 1634.9522557798666\n",
      "Init: initializing centroids\n",
      "Init: initializing clusters\n",
      "Starting iterations...\n",
      "Run: 3, iteration: 1/100, moves: 2, ncost: 1150.6022189984153\n",
      "Run: 3, iteration: 2/100, moves: 0, ncost: 1150.6022189984153\n",
      "Init: initializing centroids\n",
      "Init: initializing clusters\n",
      "Starting iterations...\n",
      "Run: 4, iteration: 1/100, moves: 458, ncost: 1635.458490142527\n",
      "Run: 4, iteration: 2/100, moves: 166, ncost: 1635.1845102380034\n",
      "Run: 4, iteration: 3/100, moves: 15, ncost: 1635.1806120188696\n",
      "Run: 4, iteration: 4/100, moves: 6, ncost: 1635.180160737217\n",
      "Run: 4, iteration: 5/100, moves: 2, ncost: 1635.1800494960373\n",
      "Run: 4, iteration: 6/100, moves: 0, ncost: 1635.1800494960373\n",
      "Init: initializing centroids\n",
      "Init: initializing clusters\n",
      "Init: initializing centroids\n",
      "Init: initializing clusters\n",
      "Starting iterations...\n",
      "Run: 5, iteration: 1/100, moves: 333, ncost: 1150.6087026345447\n",
      "Run: 5, iteration: 2/100, moves: 3, ncost: 1150.6022189984146\n",
      "Run: 5, iteration: 3/100, moves: 0, ncost: 1150.6022189984146\n",
      "Best run was number 5\n"
     ]
    },
    {
     "data": {
      "text/plain": [
       "array([1, 2, 2, ..., 1, 1, 1], dtype=uint16)"
      ]
     },
     "execution_count": 9,
     "metadata": {},
     "output_type": "execute_result"
    }
   ],
   "source": [
    "from kmodes.kprototypes import KPrototypes\n",
    "\n",
    "kmode = KPrototypes(n_clusters=3, init = \"random\", n_init = 5, verbose=1) \n",
    "kmode.fit_predict(df_to_cluster_normalize, categorical=[1, 6, 7, 8]) "
   ]
  },
  {
   "cell_type": "code",
   "execution_count": 10,
   "metadata": {},
   "outputs": [],
   "source": [
    "df_to_cluster_normalize[\"Label\"] = kmode.labels_"
   ]
  },
  {
   "cell_type": "code",
   "execution_count": 11,
   "metadata": {},
   "outputs": [
    {
     "data": {
      "text/plain": [
       "array([['0.9091568627451024', '0.9109544626593801', '0.999999999999977',\n",
       "        '0.9741754022467879', '0.9013999999999898', '1.0',\n",
       "        '0.8961433057610095', '0.9620720254495325', 'M', '6', 'CAN', '1'],\n",
       "       ['0.5714313725490184', '0.9555555555555539', '0.6076666666666618',\n",
       "        '0.6312110773055224', '0.5055999999999975', '1.0',\n",
       "        '0.37659250406431444', '0.804995464266175', 'F', '4', 'AE', '1'],\n",
       "       ['0.0583529411764711', '0.09139526411657546',\n",
       "        '0.05722222222222284', '0.024378618776258822', '0.0', '0.0',\n",
       "        '0.03043196841230063', '0.11600631640721498', 'F', '1', 'NZL',\n",
       "        '0']], dtype='<U32')"
      ]
     },
     "execution_count": 11,
     "metadata": {},
     "output_type": "execute_result"
    }
   ],
   "source": [
    "kmode.cluster_centroids_"
   ]
  },
  {
   "cell_type": "code",
   "execution_count": 16,
   "metadata": {},
   "outputs": [
    {
     "data": {
      "text/html": [
       "<div>\n",
       "<style scoped>\n",
       "    .dataframe tbody tr th:only-of-type {\n",
       "        vertical-align: middle;\n",
       "    }\n",
       "\n",
       "    .dataframe tbody tr th {\n",
       "        vertical-align: top;\n",
       "    }\n",
       "\n",
       "    .dataframe thead th {\n",
       "        text-align: right;\n",
       "    }\n",
       "</style>\n",
       "<table border=\"1\" class=\"dataframe\">\n",
       "  <thead>\n",
       "    <tr style=\"text-align: right;\">\n",
       "      <th></th>\n",
       "      <th>7</th>\n",
       "      <th>Gender</th>\n",
       "      <th>Education</th>\n",
       "      <th>Country</th>\n",
       "      <th>HasCrCard</th>\n",
       "    </tr>\n",
       "  </thead>\n",
       "  <tbody>\n",
       "    <tr>\n",
       "      <th>0</th>\n",
       "      <td>0.9620720254495325</td>\n",
       "      <td>M</td>\n",
       "      <td>6</td>\n",
       "      <td>CAN</td>\n",
       "      <td>1</td>\n",
       "    </tr>\n",
       "    <tr>\n",
       "      <th>1</th>\n",
       "      <td>0.804995464266175</td>\n",
       "      <td>F</td>\n",
       "      <td>4</td>\n",
       "      <td>AE</td>\n",
       "      <td>1</td>\n",
       "    </tr>\n",
       "    <tr>\n",
       "      <th>2</th>\n",
       "      <td>0.11600631640721498</td>\n",
       "      <td>F</td>\n",
       "      <td>1</td>\n",
       "      <td>NZL</td>\n",
       "      <td>0</td>\n",
       "    </tr>\n",
       "  </tbody>\n",
       "</table>\n",
       "</div>"
      ],
      "text/plain": [
       "                     7 Gender Education Country HasCrCard\n",
       "0   0.9620720254495325      M         6     CAN         1\n",
       "1    0.804995464266175      F         4      AE         1\n",
       "2  0.11600631640721498      F         1     NZL         0"
      ]
     },
     "execution_count": 16,
     "metadata": {},
     "output_type": "execute_result"
    }
   ],
   "source": [
    "pd.DataFrame(kmode.cluster_centroids_).iloc[:,-5:].rename(columns={8:\"Gender\", 9:\"Education\", 10:\"Country\", 11:\"HasCrCard\"})"
   ]
  },
  {
   "cell_type": "code",
   "execution_count": 20,
   "metadata": {},
   "outputs": [
    {
     "name": "stdout",
     "output_type": "stream",
     "text": [
      "Gender\n",
      "M    901\n",
      "F     99\n",
      "Name: count, dtype: int64\n",
      "Education\n",
      "6    1000\n",
      "Name: count, dtype: int64\n",
      "Country\n",
      "CAN    23\n",
      "DK     23\n",
      "MO     22\n",
      "MY     21\n",
      "GB     20\n",
      "       ..\n",
      "IN      7\n",
      "DEU     7\n",
      "HUN     7\n",
      "AU      6\n",
      "HKG     5\n",
      "Name: count, Length: 76, dtype: int64\n",
      "HasCrCard\n",
      "1    900\n",
      "0    100\n",
      "Name: count, dtype: int64\n"
     ]
    }
   ],
   "source": [
    "print(df_to_cluster_normalize[df_to_cluster_normalize[\"Label\"]==0][\"Gender\"].value_counts())\n",
    "print(df_to_cluster_normalize[df_to_cluster_normalize[\"Label\"]==0][\"Education\"].value_counts())\n",
    "print(df_to_cluster_normalize[df_to_cluster_normalize[\"Label\"]==0][\"Country\"].value_counts())\n",
    "print(df_to_cluster_normalize[df_to_cluster_normalize[\"Label\"]==0][\"HasCrCard\"].value_counts())"
   ]
  },
  {
   "cell_type": "code",
   "execution_count": 22,
   "metadata": {},
   "outputs": [
    {
     "name": "stdout",
     "output_type": "stream",
     "text": [
      "Gender\n",
      "F    900\n",
      "M    100\n",
      "Name: count, dtype: int64\n",
      "Education\n",
      "4    344\n",
      "5    329\n",
      "6    327\n",
      "Name: count, dtype: int64\n",
      "Country\n",
      "AE     21\n",
      "FRO    20\n",
      "IRL    19\n",
      "LT     19\n",
      "THA    19\n",
      "       ..\n",
      "CHN     7\n",
      "IE      7\n",
      "ESP     6\n",
      "CYP     5\n",
      "ITA     4\n",
      "Name: count, Length: 76, dtype: int64\n",
      "HasCrCard\n",
      "1    501\n",
      "0    499\n",
      "Name: count, dtype: int64\n"
     ]
    }
   ],
   "source": [
    "print(df_to_cluster_normalize[df_to_cluster_normalize[\"Label\"]==1][\"Gender\"].value_counts())\n",
    "print(df_to_cluster_normalize[df_to_cluster_normalize[\"Label\"]==1][\"Education\"].value_counts())\n",
    "print(df_to_cluster_normalize[df_to_cluster_normalize[\"Label\"]==1][\"Country\"].value_counts())\n",
    "print(df_to_cluster_normalize[df_to_cluster_normalize[\"Label\"]==1][\"HasCrCard\"].value_counts())"
   ]
  },
  {
   "cell_type": "code",
   "execution_count": 21,
   "metadata": {},
   "outputs": [
    {
     "name": "stdout",
     "output_type": "stream",
     "text": [
      "Gender\n",
      "F    517\n",
      "M    483\n",
      "Name: count, dtype: int64\n",
      "Education\n",
      "1    521\n",
      "2    479\n",
      "Name: count, dtype: int64\n",
      "Country\n",
      "NZL    21\n",
      "SK     20\n",
      "GEO    19\n",
      "CY     19\n",
      "FR     18\n",
      "       ..\n",
      "VN      7\n",
      "NZ      7\n",
      "SG      6\n",
      "AUS     5\n",
      "IN      5\n",
      "Name: count, Length: 76, dtype: int64\n",
      "HasCrCard\n",
      "0    903\n",
      "1     97\n",
      "Name: count, dtype: int64\n"
     ]
    }
   ],
   "source": [
    "print(df_to_cluster_normalize[df_to_cluster_normalize[\"Label\"]==2][\"Gender\"].value_counts())\n",
    "print(df_to_cluster_normalize[df_to_cluster_normalize[\"Label\"]==2][\"Education\"].value_counts())\n",
    "print(df_to_cluster_normalize[df_to_cluster_normalize[\"Label\"]==2][\"Country\"].value_counts())\n",
    "print(df_to_cluster_normalize[df_to_cluster_normalize[\"Label\"]==2][\"HasCrCard\"].value_counts())"
   ]
  },
  {
   "cell_type": "code",
   "execution_count": 13,
   "metadata": {},
   "outputs": [
    {
     "data": {
      "application/vnd.plotly.v1+json": {
       "config": {
        "plotlyServerURL": "https://plot.ly"
       },
       "data": [
        {
         "fill": "toself",
         "name": "Cluster 0",
         "opacity": 1,
         "r": [
          0.9091568627450982,
          0.9109544626593807,
          1,
          0.9741754022467873,
          0.9014000000000001,
          1,
          0.8961433057610082,
          0.9620720254495324
         ],
         "theta": [
          "Age",
          "CreditScore",
          "Tenure",
          "Balance",
          "NumOfProducts",
          "Transaction_Count",
          "Avg_Transaction_Value",
          "EstimatedSalary"
         ],
         "type": "scatterpolar"
        },
        {
         "fill": "toself",
         "name": "Cluster 1",
         "opacity": 1,
         "r": [
          0.5714313725490195,
          0.9555555555555554,
          0.6076666666666667,
          0.6312110773055226,
          0.5055999999999999,
          1,
          0.37659250406431377,
          0.8049954642661764
         ],
         "theta": [
          "Age",
          "CreditScore",
          "Tenure",
          "Balance",
          "NumOfProducts",
          "Transaction_Count",
          "Avg_Transaction_Value",
          "EstimatedSalary"
         ],
         "type": "scatterpolar"
        },
        {
         "fill": "toself",
         "name": "Cluster 2",
         "opacity": 1,
         "r": [
          0.05835294117647058,
          0.09139526411657559,
          0.05722222222222224,
          0.024378618776258798,
          0,
          0,
          0.030431968412300628,
          0.11600631640721497
         ],
         "theta": [
          "Age",
          "CreditScore",
          "Tenure",
          "Balance",
          "NumOfProducts",
          "Transaction_Count",
          "Avg_Transaction_Value",
          "EstimatedSalary"
         ],
         "type": "scatterpolar"
        }
       ],
       "layout": {
        "polar": {
         "radialaxis": {
          "visible": true
         }
        },
        "showlegend": true,
        "template": {
         "data": {
          "bar": [
           {
            "error_x": {
             "color": "#2a3f5f"
            },
            "error_y": {
             "color": "#2a3f5f"
            },
            "marker": {
             "line": {
              "color": "#E5ECF6",
              "width": 0.5
             },
             "pattern": {
              "fillmode": "overlay",
              "size": 10,
              "solidity": 0.2
             }
            },
            "type": "bar"
           }
          ],
          "barpolar": [
           {
            "marker": {
             "line": {
              "color": "#E5ECF6",
              "width": 0.5
             },
             "pattern": {
              "fillmode": "overlay",
              "size": 10,
              "solidity": 0.2
             }
            },
            "type": "barpolar"
           }
          ],
          "carpet": [
           {
            "aaxis": {
             "endlinecolor": "#2a3f5f",
             "gridcolor": "white",
             "linecolor": "white",
             "minorgridcolor": "white",
             "startlinecolor": "#2a3f5f"
            },
            "baxis": {
             "endlinecolor": "#2a3f5f",
             "gridcolor": "white",
             "linecolor": "white",
             "minorgridcolor": "white",
             "startlinecolor": "#2a3f5f"
            },
            "type": "carpet"
           }
          ],
          "choropleth": [
           {
            "colorbar": {
             "outlinewidth": 0,
             "ticks": ""
            },
            "type": "choropleth"
           }
          ],
          "contour": [
           {
            "colorbar": {
             "outlinewidth": 0,
             "ticks": ""
            },
            "colorscale": [
             [
              0,
              "#0d0887"
             ],
             [
              0.1111111111111111,
              "#46039f"
             ],
             [
              0.2222222222222222,
              "#7201a8"
             ],
             [
              0.3333333333333333,
              "#9c179e"
             ],
             [
              0.4444444444444444,
              "#bd3786"
             ],
             [
              0.5555555555555556,
              "#d8576b"
             ],
             [
              0.6666666666666666,
              "#ed7953"
             ],
             [
              0.7777777777777778,
              "#fb9f3a"
             ],
             [
              0.8888888888888888,
              "#fdca26"
             ],
             [
              1,
              "#f0f921"
             ]
            ],
            "type": "contour"
           }
          ],
          "contourcarpet": [
           {
            "colorbar": {
             "outlinewidth": 0,
             "ticks": ""
            },
            "type": "contourcarpet"
           }
          ],
          "heatmap": [
           {
            "colorbar": {
             "outlinewidth": 0,
             "ticks": ""
            },
            "colorscale": [
             [
              0,
              "#0d0887"
             ],
             [
              0.1111111111111111,
              "#46039f"
             ],
             [
              0.2222222222222222,
              "#7201a8"
             ],
             [
              0.3333333333333333,
              "#9c179e"
             ],
             [
              0.4444444444444444,
              "#bd3786"
             ],
             [
              0.5555555555555556,
              "#d8576b"
             ],
             [
              0.6666666666666666,
              "#ed7953"
             ],
             [
              0.7777777777777778,
              "#fb9f3a"
             ],
             [
              0.8888888888888888,
              "#fdca26"
             ],
             [
              1,
              "#f0f921"
             ]
            ],
            "type": "heatmap"
           }
          ],
          "heatmapgl": [
           {
            "colorbar": {
             "outlinewidth": 0,
             "ticks": ""
            },
            "colorscale": [
             [
              0,
              "#0d0887"
             ],
             [
              0.1111111111111111,
              "#46039f"
             ],
             [
              0.2222222222222222,
              "#7201a8"
             ],
             [
              0.3333333333333333,
              "#9c179e"
             ],
             [
              0.4444444444444444,
              "#bd3786"
             ],
             [
              0.5555555555555556,
              "#d8576b"
             ],
             [
              0.6666666666666666,
              "#ed7953"
             ],
             [
              0.7777777777777778,
              "#fb9f3a"
             ],
             [
              0.8888888888888888,
              "#fdca26"
             ],
             [
              1,
              "#f0f921"
             ]
            ],
            "type": "heatmapgl"
           }
          ],
          "histogram": [
           {
            "marker": {
             "pattern": {
              "fillmode": "overlay",
              "size": 10,
              "solidity": 0.2
             }
            },
            "type": "histogram"
           }
          ],
          "histogram2d": [
           {
            "colorbar": {
             "outlinewidth": 0,
             "ticks": ""
            },
            "colorscale": [
             [
              0,
              "#0d0887"
             ],
             [
              0.1111111111111111,
              "#46039f"
             ],
             [
              0.2222222222222222,
              "#7201a8"
             ],
             [
              0.3333333333333333,
              "#9c179e"
             ],
             [
              0.4444444444444444,
              "#bd3786"
             ],
             [
              0.5555555555555556,
              "#d8576b"
             ],
             [
              0.6666666666666666,
              "#ed7953"
             ],
             [
              0.7777777777777778,
              "#fb9f3a"
             ],
             [
              0.8888888888888888,
              "#fdca26"
             ],
             [
              1,
              "#f0f921"
             ]
            ],
            "type": "histogram2d"
           }
          ],
          "histogram2dcontour": [
           {
            "colorbar": {
             "outlinewidth": 0,
             "ticks": ""
            },
            "colorscale": [
             [
              0,
              "#0d0887"
             ],
             [
              0.1111111111111111,
              "#46039f"
             ],
             [
              0.2222222222222222,
              "#7201a8"
             ],
             [
              0.3333333333333333,
              "#9c179e"
             ],
             [
              0.4444444444444444,
              "#bd3786"
             ],
             [
              0.5555555555555556,
              "#d8576b"
             ],
             [
              0.6666666666666666,
              "#ed7953"
             ],
             [
              0.7777777777777778,
              "#fb9f3a"
             ],
             [
              0.8888888888888888,
              "#fdca26"
             ],
             [
              1,
              "#f0f921"
             ]
            ],
            "type": "histogram2dcontour"
           }
          ],
          "mesh3d": [
           {
            "colorbar": {
             "outlinewidth": 0,
             "ticks": ""
            },
            "type": "mesh3d"
           }
          ],
          "parcoords": [
           {
            "line": {
             "colorbar": {
              "outlinewidth": 0,
              "ticks": ""
             }
            },
            "type": "parcoords"
           }
          ],
          "pie": [
           {
            "automargin": true,
            "type": "pie"
           }
          ],
          "scatter": [
           {
            "fillpattern": {
             "fillmode": "overlay",
             "size": 10,
             "solidity": 0.2
            },
            "type": "scatter"
           }
          ],
          "scatter3d": [
           {
            "line": {
             "colorbar": {
              "outlinewidth": 0,
              "ticks": ""
             }
            },
            "marker": {
             "colorbar": {
              "outlinewidth": 0,
              "ticks": ""
             }
            },
            "type": "scatter3d"
           }
          ],
          "scattercarpet": [
           {
            "marker": {
             "colorbar": {
              "outlinewidth": 0,
              "ticks": ""
             }
            },
            "type": "scattercarpet"
           }
          ],
          "scattergeo": [
           {
            "marker": {
             "colorbar": {
              "outlinewidth": 0,
              "ticks": ""
             }
            },
            "type": "scattergeo"
           }
          ],
          "scattergl": [
           {
            "marker": {
             "colorbar": {
              "outlinewidth": 0,
              "ticks": ""
             }
            },
            "type": "scattergl"
           }
          ],
          "scattermapbox": [
           {
            "marker": {
             "colorbar": {
              "outlinewidth": 0,
              "ticks": ""
             }
            },
            "type": "scattermapbox"
           }
          ],
          "scatterpolar": [
           {
            "marker": {
             "colorbar": {
              "outlinewidth": 0,
              "ticks": ""
             }
            },
            "type": "scatterpolar"
           }
          ],
          "scatterpolargl": [
           {
            "marker": {
             "colorbar": {
              "outlinewidth": 0,
              "ticks": ""
             }
            },
            "type": "scatterpolargl"
           }
          ],
          "scatterternary": [
           {
            "marker": {
             "colorbar": {
              "outlinewidth": 0,
              "ticks": ""
             }
            },
            "type": "scatterternary"
           }
          ],
          "surface": [
           {
            "colorbar": {
             "outlinewidth": 0,
             "ticks": ""
            },
            "colorscale": [
             [
              0,
              "#0d0887"
             ],
             [
              0.1111111111111111,
              "#46039f"
             ],
             [
              0.2222222222222222,
              "#7201a8"
             ],
             [
              0.3333333333333333,
              "#9c179e"
             ],
             [
              0.4444444444444444,
              "#bd3786"
             ],
             [
              0.5555555555555556,
              "#d8576b"
             ],
             [
              0.6666666666666666,
              "#ed7953"
             ],
             [
              0.7777777777777778,
              "#fb9f3a"
             ],
             [
              0.8888888888888888,
              "#fdca26"
             ],
             [
              1,
              "#f0f921"
             ]
            ],
            "type": "surface"
           }
          ],
          "table": [
           {
            "cells": {
             "fill": {
              "color": "#EBF0F8"
             },
             "line": {
              "color": "white"
             }
            },
            "header": {
             "fill": {
              "color": "#C8D4E3"
             },
             "line": {
              "color": "white"
             }
            },
            "type": "table"
           }
          ]
         },
         "layout": {
          "annotationdefaults": {
           "arrowcolor": "#2a3f5f",
           "arrowhead": 0,
           "arrowwidth": 1
          },
          "autotypenumbers": "strict",
          "coloraxis": {
           "colorbar": {
            "outlinewidth": 0,
            "ticks": ""
           }
          },
          "colorscale": {
           "diverging": [
            [
             0,
             "#8e0152"
            ],
            [
             0.1,
             "#c51b7d"
            ],
            [
             0.2,
             "#de77ae"
            ],
            [
             0.3,
             "#f1b6da"
            ],
            [
             0.4,
             "#fde0ef"
            ],
            [
             0.5,
             "#f7f7f7"
            ],
            [
             0.6,
             "#e6f5d0"
            ],
            [
             0.7,
             "#b8e186"
            ],
            [
             0.8,
             "#7fbc41"
            ],
            [
             0.9,
             "#4d9221"
            ],
            [
             1,
             "#276419"
            ]
           ],
           "sequential": [
            [
             0,
             "#0d0887"
            ],
            [
             0.1111111111111111,
             "#46039f"
            ],
            [
             0.2222222222222222,
             "#7201a8"
            ],
            [
             0.3333333333333333,
             "#9c179e"
            ],
            [
             0.4444444444444444,
             "#bd3786"
            ],
            [
             0.5555555555555556,
             "#d8576b"
            ],
            [
             0.6666666666666666,
             "#ed7953"
            ],
            [
             0.7777777777777778,
             "#fb9f3a"
            ],
            [
             0.8888888888888888,
             "#fdca26"
            ],
            [
             1,
             "#f0f921"
            ]
           ],
           "sequentialminus": [
            [
             0,
             "#0d0887"
            ],
            [
             0.1111111111111111,
             "#46039f"
            ],
            [
             0.2222222222222222,
             "#7201a8"
            ],
            [
             0.3333333333333333,
             "#9c179e"
            ],
            [
             0.4444444444444444,
             "#bd3786"
            ],
            [
             0.5555555555555556,
             "#d8576b"
            ],
            [
             0.6666666666666666,
             "#ed7953"
            ],
            [
             0.7777777777777778,
             "#fb9f3a"
            ],
            [
             0.8888888888888888,
             "#fdca26"
            ],
            [
             1,
             "#f0f921"
            ]
           ]
          },
          "colorway": [
           "#636efa",
           "#EF553B",
           "#00cc96",
           "#ab63fa",
           "#FFA15A",
           "#19d3f3",
           "#FF6692",
           "#B6E880",
           "#FF97FF",
           "#FECB52"
          ],
          "font": {
           "color": "#2a3f5f"
          },
          "geo": {
           "bgcolor": "white",
           "lakecolor": "white",
           "landcolor": "#E5ECF6",
           "showlakes": true,
           "showland": true,
           "subunitcolor": "white"
          },
          "hoverlabel": {
           "align": "left"
          },
          "hovermode": "closest",
          "mapbox": {
           "style": "light"
          },
          "paper_bgcolor": "white",
          "plot_bgcolor": "#E5ECF6",
          "polar": {
           "angularaxis": {
            "gridcolor": "white",
            "linecolor": "white",
            "ticks": ""
           },
           "bgcolor": "#E5ECF6",
           "radialaxis": {
            "gridcolor": "white",
            "linecolor": "white",
            "ticks": ""
           }
          },
          "scene": {
           "xaxis": {
            "backgroundcolor": "#E5ECF6",
            "gridcolor": "white",
            "gridwidth": 2,
            "linecolor": "white",
            "showbackground": true,
            "ticks": "",
            "zerolinecolor": "white"
           },
           "yaxis": {
            "backgroundcolor": "#E5ECF6",
            "gridcolor": "white",
            "gridwidth": 2,
            "linecolor": "white",
            "showbackground": true,
            "ticks": "",
            "zerolinecolor": "white"
           },
           "zaxis": {
            "backgroundcolor": "#E5ECF6",
            "gridcolor": "white",
            "gridwidth": 2,
            "linecolor": "white",
            "showbackground": true,
            "ticks": "",
            "zerolinecolor": "white"
           }
          },
          "shapedefaults": {
           "line": {
            "color": "#2a3f5f"
           }
          },
          "ternary": {
           "aaxis": {
            "gridcolor": "white",
            "linecolor": "white",
            "ticks": ""
           },
           "baxis": {
            "gridcolor": "white",
            "linecolor": "white",
            "ticks": ""
           },
           "bgcolor": "#E5ECF6",
           "caxis": {
            "gridcolor": "white",
            "linecolor": "white",
            "ticks": ""
           }
          },
          "title": {
           "x": 0.05
          },
          "xaxis": {
           "automargin": true,
           "gridcolor": "white",
           "linecolor": "white",
           "ticks": "",
           "title": {
            "standoff": 15
           },
           "zerolinecolor": "white",
           "zerolinewidth": 2
          },
          "yaxis": {
           "automargin": true,
           "gridcolor": "white",
           "linecolor": "white",
           "ticks": "",
           "title": {
            "standoff": 15
           },
           "zerolinecolor": "white",
           "zerolinewidth": 2
          }
         }
        },
        "title": {
         "text": "Radar plot - Cluster attributes (Normalized Values)"
        }
       }
      }
     },
     "metadata": {},
     "output_type": "display_data"
    }
   ],
   "source": [
    "import plotly.express as px\n",
    "import plotly.graph_objects as go\n",
    "\n",
    "n_clust = 3\n",
    "attributes = [x for x in df_to_cluster_normalize.columns[:-1] if x in continuous_columns]\n",
    "colors=['purple','yellow','red']#,'magenta','orange', 'green', 'pink'\n",
    "cluster=[f'Cluster {i}' for i in range(n_clust)]\n",
    "\n",
    "fig = go.Figure()\n",
    "for index in range(0,n_clust):\n",
    "    fig.add_trace(go.Scatterpolar(r=df_to_cluster_normalize.loc[df_to_cluster_normalize.Label == index, attributes].mean(),\n",
    "                                  theta=attributes,\n",
    "                                  fill='toself',\n",
    "#                                   fillcolor=colors[index],\n",
    "                                  opacity=1,\n",
    "                                  name=cluster[index]))\n",
    "    \n",
    "fig.update_layout(polar=dict(radialaxis=dict(visible=True)),showlegend=True,\n",
    "                  title=\"Radar plot - Cluster attributes (Normalized Values)\")\n",
    "fig.show()"
   ]
  },
  {
   "cell_type": "code",
   "execution_count": null,
   "metadata": {},
   "outputs": [],
   "source": []
  }
 ],
 "metadata": {
  "kernelspec": {
   "display_name": "env",
   "language": "python",
   "name": "python3"
  },
  "language_info": {
   "codemirror_mode": {
    "name": "ipython",
    "version": 3
   },
   "file_extension": ".py",
   "mimetype": "text/x-python",
   "name": "python",
   "nbconvert_exporter": "python",
   "pygments_lexer": "ipython3",
   "version": "3.10.13"
  }
 },
 "nbformat": 4,
 "nbformat_minor": 2
}
