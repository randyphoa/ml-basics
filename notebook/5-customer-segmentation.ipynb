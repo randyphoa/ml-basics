{
 "cells": [
  {
   "cell_type": "markdown",
   "metadata": {},
   "source": [
    "# Customer Segmentation with k-Prototypes Clustering\n",
    "\n",
    "We will use a clustering based approach to group customers into segments.\n",
    "\n",
    "This is a form of unsupervised learning. \n",
    "\n",
    "The purpose of customer segmentation is to understand our customer base better, and can be used as an exploratory starting point before further analysis.\n",
    "\n",
    "# k-Prototypes Clustering\n",
    "\n",
    "k-prototypes is a more general version of the popular k-means clustering.\n",
    "\n",
    "k-means clustering aims to cluster data points such that we minimize the sum of squared distances between each data point and its cluster's centroid. It only applies to continuous variables.\n",
    "\n",
    "k-modes clustering aims to cluster **categorical** data points such that we minimize the number of mismatches between each data point and its cluster's centroid. \n",
    "\n",
    "In k-prototypes clustering, we use k-means clustering for the continuous variables, but we use k-modes clustering for categorical variables. Therefore, we use a combined dissimilarity metric (sum of squared distance for continuous variables, and the mismatch count for the categorical variable to assign each data point to a cluster)"
   ]
  },
  {
   "cell_type": "code",
   "execution_count": 1,
   "metadata": {},
   "outputs": [],
   "source": [
    "import importlib\n",
    "import pandas as pd\n",
    "import utils\n",
    "\n",
    "#include k-means explanation above"
   ]
  },
  {
   "cell_type": "code",
   "execution_count": 2,
   "metadata": {},
   "outputs": [
    {
     "data": {
      "text/plain": [
       "<module 'utils' from '/Users/nicolearitranair/ml-basics/notebook/utils.py'>"
      ]
     },
     "execution_count": 2,
     "metadata": {},
     "output_type": "execute_result"
    }
   ],
   "source": [
    "importlib.reload(utils)"
   ]
  },
  {
   "cell_type": "code",
   "execution_count": 3,
   "metadata": {},
   "outputs": [
    {
     "data": {
      "text/html": [
       "<div>\n",
       "<style scoped>\n",
       "    .dataframe tbody tr th:only-of-type {\n",
       "        vertical-align: middle;\n",
       "    }\n",
       "\n",
       "    .dataframe tbody tr th {\n",
       "        vertical-align: top;\n",
       "    }\n",
       "\n",
       "    .dataframe thead th {\n",
       "        text-align: right;\n",
       "    }\n",
       "</style>\n",
       "<table border=\"1\" class=\"dataframe\">\n",
       "  <thead>\n",
       "    <tr style=\"text-align: right;\">\n",
       "      <th></th>\n",
       "      <th>Customer_ID</th>\n",
       "      <th>Age</th>\n",
       "      <th>Gender</th>\n",
       "      <th>CreditScore</th>\n",
       "      <th>Tenure</th>\n",
       "      <th>Balance</th>\n",
       "      <th>NumOfProducts</th>\n",
       "      <th>Education</th>\n",
       "      <th>HasCrCard</th>\n",
       "      <th>Transaction_Count</th>\n",
       "      <th>Avg_Transaction_Value</th>\n",
       "      <th>EstimatedSalary</th>\n",
       "    </tr>\n",
       "  </thead>\n",
       "  <tbody>\n",
       "    <tr>\n",
       "      <th>2</th>\n",
       "      <td>3</td>\n",
       "      <td>61</td>\n",
       "      <td>M</td>\n",
       "      <td>783</td>\n",
       "      <td>9</td>\n",
       "      <td>199491.201077</td>\n",
       "      <td>5</td>\n",
       "      <td>6</td>\n",
       "      <td>1</td>\n",
       "      <td>4</td>\n",
       "      <td>456.757338</td>\n",
       "      <td>141604.141688</td>\n",
       "    </tr>\n",
       "    <tr>\n",
       "      <th>544</th>\n",
       "      <td>545</td>\n",
       "      <td>69</td>\n",
       "      <td>M</td>\n",
       "      <td>817</td>\n",
       "      <td>9</td>\n",
       "      <td>195704.837129</td>\n",
       "      <td>5</td>\n",
       "      <td>6</td>\n",
       "      <td>1</td>\n",
       "      <td>4</td>\n",
       "      <td>421.792904</td>\n",
       "      <td>146285.764930</td>\n",
       "    </tr>\n",
       "    <tr>\n",
       "      <th>2</th>\n",
       "      <td>3</td>\n",
       "      <td>42</td>\n",
       "      <td>F</td>\n",
       "      <td>844</td>\n",
       "      <td>6</td>\n",
       "      <td>148425.672167</td>\n",
       "      <td>1</td>\n",
       "      <td>5</td>\n",
       "      <td>1</td>\n",
       "      <td>4</td>\n",
       "      <td>112.587853</td>\n",
       "      <td>125037.237781</td>\n",
       "    </tr>\n",
       "    <tr>\n",
       "      <th>414</th>\n",
       "      <td>415</td>\n",
       "      <td>47</td>\n",
       "      <td>F</td>\n",
       "      <td>801</td>\n",
       "      <td>6</td>\n",
       "      <td>124493.943216</td>\n",
       "      <td>1</td>\n",
       "      <td>6</td>\n",
       "      <td>0</td>\n",
       "      <td>4</td>\n",
       "      <td>246.654154</td>\n",
       "      <td>118640.439117</td>\n",
       "    </tr>\n",
       "    <tr>\n",
       "      <th>188</th>\n",
       "      <td>189</td>\n",
       "      <td>66</td>\n",
       "      <td>M</td>\n",
       "      <td>845</td>\n",
       "      <td>9</td>\n",
       "      <td>194538.137261</td>\n",
       "      <td>5</td>\n",
       "      <td>6</td>\n",
       "      <td>1</td>\n",
       "      <td>4</td>\n",
       "      <td>459.739147</td>\n",
       "      <td>146133.017866</td>\n",
       "    </tr>\n",
       "    <tr>\n",
       "      <th>...</th>\n",
       "      <td>...</td>\n",
       "      <td>...</td>\n",
       "      <td>...</td>\n",
       "      <td>...</td>\n",
       "      <td>...</td>\n",
       "      <td>...</td>\n",
       "      <td>...</td>\n",
       "      <td>...</td>\n",
       "      <td>...</td>\n",
       "      <td>...</td>\n",
       "      <td>...</td>\n",
       "      <td>...</td>\n",
       "    </tr>\n",
       "    <tr>\n",
       "      <th>817</th>\n",
       "      <td>818</td>\n",
       "      <td>18</td>\n",
       "      <td>M</td>\n",
       "      <td>354</td>\n",
       "      <td>0</td>\n",
       "      <td>3564.266154</td>\n",
       "      <td>1</td>\n",
       "      <td>2</td>\n",
       "      <td>0</td>\n",
       "      <td>1</td>\n",
       "      <td>49.857074</td>\n",
       "      <td>46305.513004</td>\n",
       "    </tr>\n",
       "    <tr>\n",
       "      <th>546</th>\n",
       "      <td>547</td>\n",
       "      <td>60</td>\n",
       "      <td>M</td>\n",
       "      <td>805</td>\n",
       "      <td>9</td>\n",
       "      <td>197233.837333</td>\n",
       "      <td>5</td>\n",
       "      <td>6</td>\n",
       "      <td>1</td>\n",
       "      <td>4</td>\n",
       "      <td>424.040554</td>\n",
       "      <td>142895.963034</td>\n",
       "    </tr>\n",
       "    <tr>\n",
       "      <th>382</th>\n",
       "      <td>383</td>\n",
       "      <td>64</td>\n",
       "      <td>M</td>\n",
       "      <td>785</td>\n",
       "      <td>9</td>\n",
       "      <td>194796.772163</td>\n",
       "      <td>5</td>\n",
       "      <td>6</td>\n",
       "      <td>1</td>\n",
       "      <td>4</td>\n",
       "      <td>417.931295</td>\n",
       "      <td>141579.432170</td>\n",
       "    </tr>\n",
       "    <tr>\n",
       "      <th>177</th>\n",
       "      <td>178</td>\n",
       "      <td>24</td>\n",
       "      <td>M</td>\n",
       "      <td>372</td>\n",
       "      <td>0</td>\n",
       "      <td>6271.643095</td>\n",
       "      <td>1</td>\n",
       "      <td>2</td>\n",
       "      <td>0</td>\n",
       "      <td>1</td>\n",
       "      <td>31.878611</td>\n",
       "      <td>29621.236118</td>\n",
       "    </tr>\n",
       "    <tr>\n",
       "      <th>482</th>\n",
       "      <td>483</td>\n",
       "      <td>63</td>\n",
       "      <td>M</td>\n",
       "      <td>763</td>\n",
       "      <td>9</td>\n",
       "      <td>197695.844787</td>\n",
       "      <td>6</td>\n",
       "      <td>6</td>\n",
       "      <td>1</td>\n",
       "      <td>4</td>\n",
       "      <td>484.017416</td>\n",
       "      <td>145934.596945</td>\n",
       "    </tr>\n",
       "  </tbody>\n",
       "</table>\n",
       "<p>3000 rows × 12 columns</p>\n",
       "</div>"
      ],
      "text/plain": [
       "     Customer_ID  Age Gender  CreditScore  Tenure        Balance  \\\n",
       "2              3   61      M          783       9  199491.201077   \n",
       "544          545   69      M          817       9  195704.837129   \n",
       "2              3   42      F          844       6  148425.672167   \n",
       "414          415   47      F          801       6  124493.943216   \n",
       "188          189   66      M          845       9  194538.137261   \n",
       "..           ...  ...    ...          ...     ...            ...   \n",
       "817          818   18      M          354       0    3564.266154   \n",
       "546          547   60      M          805       9  197233.837333   \n",
       "382          383   64      M          785       9  194796.772163   \n",
       "177          178   24      M          372       0    6271.643095   \n",
       "482          483   63      M          763       9  197695.844787   \n",
       "\n",
       "     NumOfProducts  Education  HasCrCard  Transaction_Count  \\\n",
       "2                5          6          1                  4   \n",
       "544              5          6          1                  4   \n",
       "2                1          5          1                  4   \n",
       "414              1          6          0                  4   \n",
       "188              5          6          1                  4   \n",
       "..             ...        ...        ...                ...   \n",
       "817              1          2          0                  1   \n",
       "546              5          6          1                  4   \n",
       "382              5          6          1                  4   \n",
       "177              1          2          0                  1   \n",
       "482              6          6          1                  4   \n",
       "\n",
       "     Avg_Transaction_Value  EstimatedSalary  \n",
       "2               456.757338    141604.141688  \n",
       "544             421.792904    146285.764930  \n",
       "2               112.587853    125037.237781  \n",
       "414             246.654154    118640.439117  \n",
       "188             459.739147    146133.017866  \n",
       "..                     ...              ...  \n",
       "817              49.857074     46305.513004  \n",
       "546             424.040554    142895.963034  \n",
       "382             417.931295    141579.432170  \n",
       "177              31.878611     29621.236118  \n",
       "482             484.017416    145934.596945  \n",
       "\n",
       "[3000 rows x 12 columns]"
      ]
     },
     "execution_count": 3,
     "metadata": {},
     "output_type": "execute_result"
    }
   ],
   "source": [
    "import numpy as np\n",
    "\n",
    "df = utils.get_customer_segmentation_data()\n",
    "df"
   ]
  },
  {
   "cell_type": "code",
   "execution_count": 4,
   "metadata": {},
   "outputs": [],
   "source": [
    "df.to_csv(\"output_data/customer-segmentation-data.csv\", index=False)"
   ]
  },
  {
   "cell_type": "code",
   "execution_count": 5,
   "metadata": {},
   "outputs": [
    {
     "data": {
      "text/html": [
       "<div>\n",
       "<style scoped>\n",
       "    .dataframe tbody tr th:only-of-type {\n",
       "        vertical-align: middle;\n",
       "    }\n",
       "\n",
       "    .dataframe tbody tr th {\n",
       "        vertical-align: top;\n",
       "    }\n",
       "\n",
       "    .dataframe thead th {\n",
       "        text-align: right;\n",
       "    }\n",
       "</style>\n",
       "<table border=\"1\" class=\"dataframe\">\n",
       "  <thead>\n",
       "    <tr style=\"text-align: right;\">\n",
       "      <th></th>\n",
       "      <th>Customer_ID</th>\n",
       "      <th>Age</th>\n",
       "      <th>Gender</th>\n",
       "      <th>CreditScore</th>\n",
       "      <th>Tenure</th>\n",
       "      <th>Balance</th>\n",
       "      <th>NumOfProducts</th>\n",
       "      <th>Education</th>\n",
       "      <th>HasCrCard</th>\n",
       "      <th>Transaction_Count</th>\n",
       "      <th>Avg_Transaction_Value</th>\n",
       "      <th>EstimatedSalary</th>\n",
       "    </tr>\n",
       "  </thead>\n",
       "  <tbody>\n",
       "    <tr>\n",
       "      <th>2</th>\n",
       "      <td>3</td>\n",
       "      <td>61</td>\n",
       "      <td>M</td>\n",
       "      <td>783</td>\n",
       "      <td>9</td>\n",
       "      <td>199491.201077</td>\n",
       "      <td>5</td>\n",
       "      <td>6</td>\n",
       "      <td>1</td>\n",
       "      <td>4</td>\n",
       "      <td>456.757338</td>\n",
       "      <td>141604.141688</td>\n",
       "    </tr>\n",
       "    <tr>\n",
       "      <th>544</th>\n",
       "      <td>545</td>\n",
       "      <td>69</td>\n",
       "      <td>M</td>\n",
       "      <td>817</td>\n",
       "      <td>9</td>\n",
       "      <td>195704.837129</td>\n",
       "      <td>5</td>\n",
       "      <td>6</td>\n",
       "      <td>1</td>\n",
       "      <td>4</td>\n",
       "      <td>421.792904</td>\n",
       "      <td>146285.764930</td>\n",
       "    </tr>\n",
       "    <tr>\n",
       "      <th>2</th>\n",
       "      <td>3</td>\n",
       "      <td>42</td>\n",
       "      <td>F</td>\n",
       "      <td>844</td>\n",
       "      <td>6</td>\n",
       "      <td>148425.672167</td>\n",
       "      <td>1</td>\n",
       "      <td>5</td>\n",
       "      <td>1</td>\n",
       "      <td>4</td>\n",
       "      <td>112.587853</td>\n",
       "      <td>125037.237781</td>\n",
       "    </tr>\n",
       "    <tr>\n",
       "      <th>414</th>\n",
       "      <td>415</td>\n",
       "      <td>47</td>\n",
       "      <td>F</td>\n",
       "      <td>801</td>\n",
       "      <td>6</td>\n",
       "      <td>124493.943216</td>\n",
       "      <td>1</td>\n",
       "      <td>6</td>\n",
       "      <td>0</td>\n",
       "      <td>4</td>\n",
       "      <td>246.654154</td>\n",
       "      <td>118640.439117</td>\n",
       "    </tr>\n",
       "    <tr>\n",
       "      <th>188</th>\n",
       "      <td>189</td>\n",
       "      <td>66</td>\n",
       "      <td>M</td>\n",
       "      <td>845</td>\n",
       "      <td>9</td>\n",
       "      <td>194538.137261</td>\n",
       "      <td>5</td>\n",
       "      <td>6</td>\n",
       "      <td>1</td>\n",
       "      <td>4</td>\n",
       "      <td>459.739147</td>\n",
       "      <td>146133.017866</td>\n",
       "    </tr>\n",
       "    <tr>\n",
       "      <th>...</th>\n",
       "      <td>...</td>\n",
       "      <td>...</td>\n",
       "      <td>...</td>\n",
       "      <td>...</td>\n",
       "      <td>...</td>\n",
       "      <td>...</td>\n",
       "      <td>...</td>\n",
       "      <td>...</td>\n",
       "      <td>...</td>\n",
       "      <td>...</td>\n",
       "      <td>...</td>\n",
       "      <td>...</td>\n",
       "    </tr>\n",
       "    <tr>\n",
       "      <th>817</th>\n",
       "      <td>818</td>\n",
       "      <td>18</td>\n",
       "      <td>M</td>\n",
       "      <td>354</td>\n",
       "      <td>0</td>\n",
       "      <td>3564.266154</td>\n",
       "      <td>1</td>\n",
       "      <td>2</td>\n",
       "      <td>0</td>\n",
       "      <td>1</td>\n",
       "      <td>49.857074</td>\n",
       "      <td>46305.513004</td>\n",
       "    </tr>\n",
       "    <tr>\n",
       "      <th>546</th>\n",
       "      <td>547</td>\n",
       "      <td>60</td>\n",
       "      <td>M</td>\n",
       "      <td>805</td>\n",
       "      <td>9</td>\n",
       "      <td>197233.837333</td>\n",
       "      <td>5</td>\n",
       "      <td>6</td>\n",
       "      <td>1</td>\n",
       "      <td>4</td>\n",
       "      <td>424.040554</td>\n",
       "      <td>142895.963034</td>\n",
       "    </tr>\n",
       "    <tr>\n",
       "      <th>382</th>\n",
       "      <td>383</td>\n",
       "      <td>64</td>\n",
       "      <td>M</td>\n",
       "      <td>785</td>\n",
       "      <td>9</td>\n",
       "      <td>194796.772163</td>\n",
       "      <td>5</td>\n",
       "      <td>6</td>\n",
       "      <td>1</td>\n",
       "      <td>4</td>\n",
       "      <td>417.931295</td>\n",
       "      <td>141579.432170</td>\n",
       "    </tr>\n",
       "    <tr>\n",
       "      <th>177</th>\n",
       "      <td>178</td>\n",
       "      <td>24</td>\n",
       "      <td>M</td>\n",
       "      <td>372</td>\n",
       "      <td>0</td>\n",
       "      <td>6271.643095</td>\n",
       "      <td>1</td>\n",
       "      <td>2</td>\n",
       "      <td>0</td>\n",
       "      <td>1</td>\n",
       "      <td>31.878611</td>\n",
       "      <td>29621.236118</td>\n",
       "    </tr>\n",
       "    <tr>\n",
       "      <th>482</th>\n",
       "      <td>483</td>\n",
       "      <td>63</td>\n",
       "      <td>M</td>\n",
       "      <td>763</td>\n",
       "      <td>9</td>\n",
       "      <td>197695.844787</td>\n",
       "      <td>6</td>\n",
       "      <td>6</td>\n",
       "      <td>1</td>\n",
       "      <td>4</td>\n",
       "      <td>484.017416</td>\n",
       "      <td>145934.596945</td>\n",
       "    </tr>\n",
       "  </tbody>\n",
       "</table>\n",
       "<p>3000 rows × 12 columns</p>\n",
       "</div>"
      ],
      "text/plain": [
       "     Customer_ID  Age Gender  CreditScore  Tenure        Balance  \\\n",
       "2              3   61      M          783       9  199491.201077   \n",
       "544          545   69      M          817       9  195704.837129   \n",
       "2              3   42      F          844       6  148425.672167   \n",
       "414          415   47      F          801       6  124493.943216   \n",
       "188          189   66      M          845       9  194538.137261   \n",
       "..           ...  ...    ...          ...     ...            ...   \n",
       "817          818   18      M          354       0    3564.266154   \n",
       "546          547   60      M          805       9  197233.837333   \n",
       "382          383   64      M          785       9  194796.772163   \n",
       "177          178   24      M          372       0    6271.643095   \n",
       "482          483   63      M          763       9  197695.844787   \n",
       "\n",
       "     NumOfProducts  Education  HasCrCard  Transaction_Count  \\\n",
       "2                5          6          1                  4   \n",
       "544              5          6          1                  4   \n",
       "2                1          5          1                  4   \n",
       "414              1          6          0                  4   \n",
       "188              5          6          1                  4   \n",
       "..             ...        ...        ...                ...   \n",
       "817              1          2          0                  1   \n",
       "546              5          6          1                  4   \n",
       "382              5          6          1                  4   \n",
       "177              1          2          0                  1   \n",
       "482              6          6          1                  4   \n",
       "\n",
       "     Avg_Transaction_Value  EstimatedSalary  \n",
       "2               456.757338    141604.141688  \n",
       "544             421.792904    146285.764930  \n",
       "2               112.587853    125037.237781  \n",
       "414             246.654154    118640.439117  \n",
       "188             459.739147    146133.017866  \n",
       "..                     ...              ...  \n",
       "817              49.857074     46305.513004  \n",
       "546             424.040554    142895.963034  \n",
       "382             417.931295    141579.432170  \n",
       "177              31.878611     29621.236118  \n",
       "482             484.017416    145934.596945  \n",
       "\n",
       "[3000 rows x 12 columns]"
      ]
     },
     "execution_count": 5,
     "metadata": {},
     "output_type": "execute_result"
    }
   ],
   "source": [
    "df"
   ]
  },
  {
   "cell_type": "markdown",
   "metadata": {},
   "source": [
    "# Normalizing the input data\n",
    "\n",
    "We use min-max normalization on all the continuous features in the input data. \n",
    "\n",
    "The purpose of min-max normalization is to ensure that features with \"larger\" ranges do not dominate the clustering process compared to features with \"smaller\" ranges.\n",
    "\n",
    "For example, \"Balance\" might have a much larger range than \"Age\" so we want to control for this."
   ]
  },
  {
   "cell_type": "code",
   "execution_count": 6,
   "metadata": {},
   "outputs": [
    {
     "name": "stdout",
     "output_type": "stream",
     "text": [
      "Age\n",
      "CreditScore\n",
      "Tenure\n",
      "Balance\n",
      "NumOfProducts\n",
      "Transaction_Count\n",
      "Avg_Transaction_Value\n",
      "EstimatedSalary\n"
     ]
    }
   ],
   "source": [
    "df_to_cluster_normalize  = df.iloc[:,1:].copy()\n",
    "\n",
    "continuous_columns = [\"Age\", \"CreditScore\", \"Tenure\", \"Balance\", \"NumOfProducts\", \"Transaction_Count\", \"Avg_Transaction_Value\", \"EstimatedSalary\"]\n",
    "mins_dict = {}\n",
    "maxes_dict = {}\n",
    "\n",
    "for col in continuous_columns:\n",
    "    print(col)\n",
    "    #rescale the continuous data\n",
    "    mins_dict[col] = df_to_cluster_normalize[col].min()\n",
    "    maxes_dict[col] = df_to_cluster_normalize[col].max()\n",
    "    df_to_cluster_normalize[col] = (df_to_cluster_normalize[col]-df_to_cluster_normalize[col].min())/(df_to_cluster_normalize[col].max()-df_to_cluster_normalize[col].min())"
   ]
  },
  {
   "cell_type": "markdown",
   "metadata": {},
   "source": [
    "# Determine an appropriate number of clusters\n",
    "\n",
    "Since we are not sure of how the customers should be segmented, we can first use the Elbow Method to determine an appropriate number of clusters.\n",
    "\n",
    "In the Elbow Method, we will calculate\n",
    "- within-cluster sum of squares (compared to centroid) for continuous variables\n",
    "- total number of category mismatches with centroid for the categorical variables\n",
    "\n",
    "Logically, we will always observe a decrease in the cost, and we want to find the \"elbow\" point in cost reduction that tells us to stop increasing clusters.\n",
    "\n",
    "In the plot below, we can see that it clearly occurs at 3 clusters."
   ]
  },
  {
   "cell_type": "code",
   "execution_count": 7,
   "metadata": {},
   "outputs": [
    {
     "name": "stdout",
     "output_type": "stream",
     "text": [
      "Init: initializing centroids\n",
      "Init: initializing clusters\n",
      "Starting iterations...\n",
      "Run: 1, iteration: 1/100, moves: 0, ncost: 4747.943602978722\n",
      "Init: initializing centroids\n",
      "Init: initializing clusters\n",
      "Starting iterations...\n",
      "Run: 2, iteration: 1/100, moves: 0, ncost: 4747.943602978722\n",
      "Init: initializing centroids\n",
      "Init: initializing clusters\n",
      "Starting iterations...\n",
      "Run: 3, iteration: 1/100, moves: 0, ncost: 4747.943602978722\n",
      "Init: initializing centroids\n",
      "Init: initializing clusters\n",
      "Starting iterations...\n",
      "Run: 4, iteration: 1/100, moves: 0, ncost: 4747.943602978722\n",
      "Init: initializing centroids\n",
      "Init: initializing clusters\n",
      "Starting iterations...\n",
      "Run: 5, iteration: 1/100, moves: 0, ncost: 4747.943602978722\n",
      "Best run was number 1\n",
      "Init: initializing centroids\n",
      "Init: initializing clusters\n",
      "Starting iterations...\n",
      "Run: 1, iteration: 1/100, moves: 825, ncost: 1485.444080494123\n",
      "Run: 1, iteration: 2/100, moves: 0, ncost: 1485.444080494123\n",
      "Init: initializing centroids\n",
      "Init: initializing clusters\n",
      "Starting iterations...\n",
      "Run: 2, iteration: 1/100, moves: 576, ncost: 1485.4440804941225\n",
      "Run: 2, iteration: 2/100, moves: 0, ncost: 1485.4440804941225\n",
      "Init: initializing centroids\n",
      "Init: initializing clusters\n",
      "Starting iterations...\n",
      "Run: 3, iteration: 1/100, moves: 700, ncost: 1511.8093798373905\n",
      "Run: 3, iteration: 2/100, moves: 97, ncost: 1485.4440804941225\n",
      "Run: 3, iteration: 3/100, moves: 0, ncost: 1485.4440804941225\n",
      "Init: initializing centroids\n",
      "Init: initializing clusters\n",
      "Starting iterations...\n",
      "Run: 4, iteration: 1/100, moves: 545, ncost: 1485.55591385438\n",
      "Run: 4, iteration: 2/100, moves: 6, ncost: 1485.4440804941225\n",
      "Run: 4, iteration: 3/100, moves: 0, ncost: 1485.4440804941225\n",
      "Init: initializing centroids\n",
      "Init: initializing clusters\n",
      "Starting iterations...\n",
      "Run: 5, iteration: 1/100, moves: 24, ncost: 2279.356435829465\n",
      "Run: 5, iteration: 2/100, moves: 6, ncost: 2279.316239175522\n",
      "Run: 5, iteration: 3/100, moves: 0, ncost: 2279.316239175522\n",
      "Best run was number 2\n",
      "Init: initializing centroids\n",
      "Init: initializing clusters\n",
      "Starting iterations...\n",
      "Run: 1, iteration: 1/100, moves: 251, ncost: 1387.5074273691193\n",
      "Run: 1, iteration: 2/100, moves: 0, ncost: 1387.5074273691193\n",
      "Init: initializing centroids\n",
      "Init: initializing clusters\n",
      "Starting iterations...\n",
      "Run: 2, iteration: 1/100, moves: 988, ncost: 572.6163818061659\n",
      "Run: 2, iteration: 2/100, moves: 0, ncost: 572.6163818061659\n",
      "Init: initializing centroids\n",
      "Init: initializing clusters\n",
      "Init: initializing centroids\n",
      "Init: initializing clusters\n",
      "Starting iterations...\n",
      "Run: 3, iteration: 1/100, moves: 753, ncost: 572.6163818061661\n",
      "Run: 3, iteration: 2/100, moves: 0, ncost: 572.6163818061661\n",
      "Init: initializing centroids\n",
      "Init: initializing clusters\n",
      "Starting iterations...\n",
      "Run: 4, iteration: 1/100, moves: 1149, ncost: 572.6163818061659\n",
      "Run: 4, iteration: 2/100, moves: 0, ncost: 572.6163818061659\n",
      "Init: initializing centroids\n",
      "Init: initializing clusters\n",
      "Init: initializing centroids\n",
      "Init: initializing clusters\n",
      "Init: initializing centroids\n",
      "Init: initializing clusters\n",
      "Init: initializing centroids\n",
      "Init: initializing clusters\n",
      "Starting iterations...\n",
      "Run: 5, iteration: 1/100, moves: 42, ncost: 572.616381806166\n",
      "Run: 5, iteration: 2/100, moves: 0, ncost: 572.616381806166\n",
      "Best run was number 2\n",
      "Init: initializing centroids\n",
      "Init: initializing clusters\n",
      "Init: initializing centroids\n",
      "Init: initializing clusters\n",
      "Init: initializing centroids\n",
      "Init: initializing clusters\n",
      "Starting iterations...\n",
      "Run: 1, iteration: 1/100, moves: 1338, ncost: 562.6063030580252\n",
      "Run: 1, iteration: 2/100, moves: 4, ncost: 562.6044862094728\n",
      "Run: 1, iteration: 3/100, moves: 0, ncost: 562.6044862094728\n",
      "Init: initializing centroids\n",
      "Init: initializing clusters\n",
      "Starting iterations...\n",
      "Run: 2, iteration: 1/100, moves: 458, ncost: 481.2512141700714\n",
      "Run: 2, iteration: 2/100, moves: 45, ncost: 481.1637854328442\n",
      "Run: 2, iteration: 3/100, moves: 6, ncost: 481.1622441961941\n",
      "Run: 2, iteration: 4/100, moves: 2, ncost: 481.161793401349\n",
      "Run: 2, iteration: 5/100, moves: 0, ncost: 481.161793401349\n",
      "Init: initializing centroids\n",
      "Init: initializing clusters\n",
      "Init: initializing centroids\n",
      "Init: initializing clusters\n",
      "Init: initializing centroids\n",
      "Init: initializing clusters\n",
      "Init: initializing centroids\n",
      "Init: initializing clusters\n",
      "Init: initializing centroids\n",
      "Init: initializing clusters\n",
      "Starting iterations...\n",
      "Run: 3, iteration: 1/100, moves: 437, ncost: 482.5656628901612\n",
      "Run: 3, iteration: 2/100, moves: 63, ncost: 482.41693440978645\n",
      "Run: 3, iteration: 3/100, moves: 0, ncost: 482.41693440978645\n",
      "Init: initializing centroids\n",
      "Init: initializing clusters\n",
      "Init: initializing centroids\n",
      "Init: initializing clusters\n",
      "Starting iterations...\n",
      "Run: 4, iteration: 1/100, moves: 597, ncost: 1342.2605993045129\n",
      "Run: 4, iteration: 2/100, moves: 45, ncost: 1342.2339971245074\n",
      "Run: 4, iteration: 3/100, moves: 0, ncost: 1342.2339971245074\n",
      "Init: initializing centroids\n",
      "Init: initializing clusters\n",
      "Init: initializing centroids\n",
      "Init: initializing clusters\n",
      "Init: initializing centroids\n",
      "Init: initializing clusters\n",
      "Init: initializing centroids\n",
      "Init: initializing clusters\n",
      "Init: initializing centroids\n",
      "Init: initializing clusters\n",
      "Starting iterations...\n",
      "Run: 5, iteration: 1/100, moves: 443, ncost: 552.1108041384432\n",
      "Run: 5, iteration: 2/100, moves: 0, ncost: 552.1108041384432\n",
      "Best run was number 2\n",
      "Init: initializing centroids\n",
      "Init: initializing clusters\n",
      "Init: initializing centroids\n",
      "Init: initializing clusters\n",
      "Starting iterations...\n",
      "Run: 1, iteration: 1/100, moves: 433, ncost: 456.0970309719232\n",
      "Run: 1, iteration: 2/100, moves: 776, ncost: 379.8628813454265\n",
      "Run: 1, iteration: 3/100, moves: 209, ncost: 379.4340979840884\n",
      "Run: 1, iteration: 4/100, moves: 5, ncost: 379.4331630895257\n",
      "Run: 1, iteration: 5/100, moves: 0, ncost: 379.4331630895257\n",
      "Init: initializing centroids\n",
      "Init: initializing clusters\n",
      "Init: initializing centroids\n",
      "Init: initializing clusters\n",
      "Starting iterations...\n",
      "Run: 2, iteration: 1/100, moves: 573, ncost: 449.4197883580605\n",
      "Run: 2, iteration: 2/100, moves: 324, ncost: 436.90555752912786\n",
      "Run: 2, iteration: 3/100, moves: 125, ncost: 436.3888468708154\n",
      "Run: 2, iteration: 4/100, moves: 25, ncost: 436.3675196345148\n",
      "Run: 2, iteration: 5/100, moves: 6, ncost: 436.3652497689686\n",
      "Run: 2, iteration: 6/100, moves: 1, ncost: 436.36495821658406\n",
      "Run: 2, iteration: 7/100, moves: 0, ncost: 436.36495821658406\n",
      "Init: initializing centroids\n",
      "Init: initializing clusters\n",
      "Init: initializing centroids\n",
      "Init: initializing clusters\n",
      "Init: initializing centroids\n",
      "Init: initializing clusters\n",
      "Init: initializing centroids\n",
      "Init: initializing clusters\n",
      "Init: initializing centroids\n",
      "Init: initializing clusters\n",
      "Init: initializing centroids\n",
      "Init: initializing clusters\n",
      "Init: initializing centroids\n",
      "Init: initializing clusters\n",
      "Init: initializing centroids\n",
      "Init: initializing clusters\n",
      "Init: initializing centroids\n",
      "Init: initializing clusters\n",
      "Init: initializing centroids\n",
      "Init: initializing clusters\n",
      "Init: initializing centroids\n",
      "Init: initializing clusters\n",
      "Init: initializing centroids\n",
      "Init: initializing clusters\n",
      "Init: initializing centroids\n",
      "Init: initializing clusters\n",
      "Starting iterations...\n",
      "Run: 3, iteration: 1/100, moves: 1894, ncost: 430.1965469900543\n",
      "Run: 3, iteration: 2/100, moves: 368, ncost: 429.56503861032786\n",
      "Run: 3, iteration: 3/100, moves: 0, ncost: 429.56503861032786\n",
      "Init: initializing centroids\n",
      "Init: initializing clusters\n",
      "Init: initializing centroids\n",
      "Init: initializing clusters\n",
      "Init: initializing centroids\n",
      "Init: initializing clusters\n",
      "Init: initializing centroids\n",
      "Init: initializing clusters\n",
      "Init: initializing centroids\n",
      "Init: initializing clusters\n",
      "Starting iterations...\n",
      "Run: 4, iteration: 1/100, moves: 1270, ncost: 385.35746737266857\n",
      "Run: 4, iteration: 2/100, moves: 490, ncost: 391.4021581979035\n",
      "Init: initializing centroids\n",
      "Init: initializing clusters\n",
      "Init: initializing centroids\n",
      "Init: initializing clusters\n",
      "Init: initializing centroids\n",
      "Init: initializing clusters\n",
      "Init: initializing centroids\n",
      "Init: initializing clusters\n",
      "Starting iterations...\n",
      "Run: 5, iteration: 1/100, moves: 1550, ncost: 377.07297931312866\n",
      "Run: 5, iteration: 2/100, moves: 472, ncost: 373.4226716257684\n",
      "Run: 5, iteration: 3/100, moves: 28, ncost: 373.4077034660949\n",
      "Run: 5, iteration: 4/100, moves: 14, ncost: 373.39198762547323\n",
      "Run: 5, iteration: 5/100, moves: 3, ncost: 373.3910140322327\n",
      "Run: 5, iteration: 6/100, moves: 0, ncost: 373.3910140322327\n",
      "Best run was number 5\n",
      "Init: initializing centroids\n",
      "Init: initializing clusters\n",
      "Init: initializing centroids\n",
      "Init: initializing clusters\n",
      "Init: initializing centroids\n",
      "Init: initializing clusters\n",
      "Init: initializing centroids\n",
      "Init: initializing clusters\n",
      "Init: initializing centroids\n",
      "Init: initializing clusters\n",
      "Init: initializing centroids\n",
      "Init: initializing clusters\n",
      "Init: initializing centroids\n",
      "Init: initializing clusters\n",
      "Init: initializing centroids\n",
      "Init: initializing clusters\n",
      "Init: initializing centroids\n",
      "Init: initializing clusters\n",
      "Starting iterations...\n",
      "Run: 1, iteration: 1/100, moves: 777, ncost: 346.22754459854633\n",
      "Run: 1, iteration: 2/100, moves: 159, ncost: 345.7661645385034\n",
      "Run: 1, iteration: 3/100, moves: 29, ncost: 345.7404660577592\n",
      "Run: 1, iteration: 4/100, moves: 17, ncost: 345.7332684428932\n",
      "Run: 1, iteration: 5/100, moves: 4, ncost: 345.73273936445787\n",
      "Run: 1, iteration: 6/100, moves: 0, ncost: 345.73273936445787\n",
      "Init: initializing centroids\n",
      "Init: initializing clusters\n",
      "Init: initializing centroids\n",
      "Init: initializing clusters\n",
      "Init: initializing centroids\n",
      "Init: initializing clusters\n",
      "Init: initializing centroids\n",
      "Init: initializing clusters\n",
      "Init: initializing centroids\n",
      "Init: initializing clusters\n",
      "Init: initializing centroids\n",
      "Init: initializing clusters\n",
      "Starting iterations...\n",
      "Run: 2, iteration: 1/100, moves: 979, ncost: 340.82486902828083\n",
      "Run: 2, iteration: 2/100, moves: 128, ncost: 340.56836312767496\n",
      "Run: 2, iteration: 3/100, moves: 30, ncost: 340.5410864899467\n",
      "Run: 2, iteration: 4/100, moves: 14, ncost: 340.5344773641412\n",
      "Run: 2, iteration: 5/100, moves: 8, ncost: 340.5296715123106\n",
      "Run: 2, iteration: 6/100, moves: 4, ncost: 340.52895780337377\n",
      "Run: 2, iteration: 7/100, moves: 0, ncost: 340.52895780337377\n",
      "Init: initializing centroids\n",
      "Init: initializing clusters\n",
      "Starting iterations...\n",
      "Run: 3, iteration: 1/100, moves: 585, ncost: 449.0012036005224\n",
      "Run: 3, iteration: 2/100, moves: 90, ncost: 448.5816238965027\n",
      "Run: 3, iteration: 3/100, moves: 36, ncost: 448.4947181608566\n",
      "Run: 3, iteration: 4/100, moves: 29, ncost: 448.44148023428187\n",
      "Run: 3, iteration: 5/100, moves: 9, ncost: 448.43518470909237\n",
      "Run: 3, iteration: 6/100, moves: 0, ncost: 448.43518470909237\n",
      "Init: initializing centroids\n",
      "Init: initializing clusters\n",
      "Init: initializing centroids\n",
      "Init: initializing clusters\n",
      "Init: initializing centroids\n",
      "Init: initializing clusters\n",
      "Init: initializing centroids\n",
      "Init: initializing clusters\n",
      "Init: initializing centroids\n",
      "Init: initializing clusters\n",
      "Init: initializing centroids\n",
      "Init: initializing clusters\n",
      "Init: initializing centroids\n",
      "Init: initializing clusters\n",
      "Init: initializing centroids\n",
      "Init: initializing clusters\n",
      "Init: initializing centroids\n",
      "Init: initializing clusters\n",
      "Init: initializing centroids\n",
      "Init: initializing clusters\n",
      "Init: initializing centroids\n",
      "Init: initializing clusters\n",
      "Init: initializing centroids\n",
      "Init: initializing clusters\n",
      "Init: initializing centroids\n",
      "Init: initializing clusters\n",
      "Starting iterations...\n",
      "Run: 4, iteration: 1/100, moves: 1122, ncost: 370.12562874570085\n",
      "Run: 4, iteration: 2/100, moves: 367, ncost: 369.51263113939035\n",
      "Run: 4, iteration: 3/100, moves: 58, ncost: 369.4392523995088\n",
      "Run: 4, iteration: 4/100, moves: 31, ncost: 369.4118512003545\n",
      "Run: 4, iteration: 5/100, moves: 23, ncost: 369.38764709618295\n",
      "Run: 4, iteration: 6/100, moves: 7, ncost: 369.3812922825742\n",
      "Run: 4, iteration: 7/100, moves: 4, ncost: 369.3790473088213\n",
      "Run: 4, iteration: 8/100, moves: 1, ncost: 369.3789606944384\n",
      "Run: 4, iteration: 9/100, moves: 0, ncost: 369.3789606944384\n",
      "Init: initializing centroids\n",
      "Init: initializing clusters\n",
      "Init: initializing centroids\n",
      "Init: initializing clusters\n",
      "Init: initializing centroids\n",
      "Init: initializing clusters\n",
      "Init: initializing centroids\n",
      "Init: initializing clusters\n",
      "Init: initializing centroids\n",
      "Init: initializing clusters\n",
      "Init: initializing centroids\n",
      "Init: initializing clusters\n",
      "Init: initializing centroids\n",
      "Init: initializing clusters\n",
      "Init: initializing centroids\n",
      "Init: initializing clusters\n",
      "Init: initializing centroids\n",
      "Init: initializing clusters\n",
      "Init: initializing centroids\n",
      "Init: initializing clusters\n",
      "Init: initializing centroids\n",
      "Init: initializing clusters\n",
      "Init: initializing centroids\n",
      "Init: initializing clusters\n",
      "Starting iterations...\n",
      "Run: 5, iteration: 1/100, moves: 1926, ncost: 368.9775017337475\n",
      "Run: 5, iteration: 2/100, moves: 487, ncost: 375.11455151149994\n",
      "Best run was number 2\n",
      "Init: initializing centroids\n",
      "Init: initializing clusters\n",
      "Init: initializing centroids\n",
      "Init: initializing clusters\n",
      "Init: initializing centroids\n",
      "Init: initializing clusters\n",
      "Init: initializing centroids\n",
      "Init: initializing clusters\n",
      "Init: initializing centroids\n",
      "Init: initializing clusters\n",
      "Starting iterations...\n",
      "Run: 1, iteration: 1/100, moves: 1704, ncost: 436.55351424907434\n",
      "Run: 1, iteration: 2/100, moves: 466, ncost: 438.5270351113466\n",
      "Init: initializing centroids\n",
      "Init: initializing clusters\n",
      "Init: initializing centroids\n",
      "Init: initializing clusters\n",
      "Init: initializing centroids\n",
      "Init: initializing clusters\n",
      "Init: initializing centroids\n",
      "Init: initializing clusters\n",
      "Init: initializing centroids\n",
      "Init: initializing clusters\n",
      "Init: initializing centroids\n",
      "Init: initializing clusters\n",
      "Init: initializing centroids\n",
      "Init: initializing clusters\n",
      "Init: initializing centroids\n",
      "Init: initializing clusters\n",
      "Init: initializing centroids\n",
      "Init: initializing clusters\n",
      "Init: initializing centroids\n",
      "Init: initializing clusters\n",
      "Init: initializing centroids\n",
      "Init: initializing clusters\n",
      "Init: initializing centroids\n",
      "Init: initializing clusters\n",
      "Init: initializing centroids\n",
      "Init: initializing clusters\n",
      "Init: initializing centroids\n",
      "Init: initializing clusters\n",
      "Init: initializing centroids\n",
      "Init: initializing clusters\n",
      "Init: initializing centroids\n",
      "Init: initializing clusters\n",
      "Init: initializing centroids\n",
      "Init: initializing clusters\n",
      "Init: initializing centroids\n",
      "Init: initializing clusters\n",
      "Init: initializing centroids\n",
      "Init: initializing clusters\n",
      "Init: initializing centroids\n",
      "Init: initializing clusters\n",
      "Init: initializing centroids\n",
      "Init: initializing clusters\n",
      "Init: initializing centroids\n",
      "Init: initializing clusters\n",
      "Init: initializing centroids\n",
      "Init: initializing clusters\n",
      "Init: initializing centroids\n",
      "Init: initializing clusters\n",
      "Init: initializing centroids\n",
      "Init: initializing clusters\n",
      "Init: initializing centroids\n",
      "Init: initializing clusters\n",
      "Init: initializing centroids\n",
      "Init: initializing clusters\n",
      "Init: initializing centroids\n",
      "Init: initializing clusters\n",
      "Init: initializing centroids\n",
      "Init: initializing clusters\n",
      "Init: initializing centroids\n",
      "Init: initializing clusters\n",
      "Init: initializing centroids\n",
      "Init: initializing clusters\n",
      "Init: initializing centroids\n",
      "Init: initializing clusters\n",
      "Init: initializing centroids\n",
      "Init: initializing clusters\n",
      "Starting iterations...\n",
      "Run: 2, iteration: 1/100, moves: 1300, ncost: 319.21581059349757\n",
      "Run: 2, iteration: 2/100, moves: 366, ncost: 318.2126634777221\n",
      "Run: 2, iteration: 3/100, moves: 46, ncost: 318.13223766815963\n",
      "Run: 2, iteration: 4/100, moves: 18, ncost: 318.114123213641\n",
      "Run: 2, iteration: 5/100, moves: 0, ncost: 318.114123213641\n",
      "Init: initializing centroids\n",
      "Init: initializing clusters\n",
      "Init: initializing centroids\n",
      "Init: initializing clusters\n",
      "Init: initializing centroids\n",
      "Init: initializing clusters\n",
      "Init: initializing centroids\n",
      "Init: initializing clusters\n",
      "Init: initializing centroids\n",
      "Init: initializing clusters\n",
      "Init: initializing centroids\n",
      "Init: initializing clusters\n",
      "Init: initializing centroids\n",
      "Init: initializing clusters\n",
      "Init: initializing centroids\n",
      "Init: initializing clusters\n",
      "Init: initializing centroids\n",
      "Init: initializing clusters\n",
      "Init: initializing centroids\n",
      "Init: initializing clusters\n",
      "Init: initializing centroids\n",
      "Init: initializing clusters\n",
      "Init: initializing centroids\n",
      "Init: initializing clusters\n",
      "Init: initializing centroids\n",
      "Init: initializing clusters\n",
      "Init: initializing centroids\n",
      "Init: initializing clusters\n",
      "Init: initializing centroids\n",
      "Init: initializing clusters\n",
      "Init: initializing centroids\n",
      "Init: initializing clusters\n",
      "Init: initializing centroids\n",
      "Init: initializing clusters\n",
      "Starting iterations...\n",
      "Run: 3, iteration: 1/100, moves: 1143, ncost: 381.430140846597\n",
      "Run: 3, iteration: 2/100, moves: 198, ncost: 377.8783019426713\n",
      "Run: 3, iteration: 3/100, moves: 20, ncost: 377.8485197649423\n",
      "Run: 3, iteration: 4/100, moves: 7, ncost: 377.841535149507\n",
      "Run: 3, iteration: 5/100, moves: 6, ncost: 377.8379712280627\n",
      "Run: 3, iteration: 6/100, moves: 5, ncost: 377.83340889399085\n",
      "Run: 3, iteration: 7/100, moves: 10, ncost: 377.8184059841907\n",
      "Run: 3, iteration: 8/100, moves: 10, ncost: 377.8104652262667\n",
      "Run: 3, iteration: 9/100, moves: 4, ncost: 377.80813908367395\n",
      "Run: 3, iteration: 10/100, moves: 0, ncost: 377.80813908367395\n",
      "Init: initializing centroids\n",
      "Init: initializing clusters\n",
      "Init: initializing centroids\n",
      "Init: initializing clusters\n",
      "Init: initializing centroids\n",
      "Init: initializing clusters\n",
      "Init: initializing centroids\n",
      "Init: initializing clusters\n",
      "Init: initializing centroids\n",
      "Init: initializing clusters\n",
      "Init: initializing centroids\n",
      "Init: initializing clusters\n",
      "Init: initializing centroids\n",
      "Init: initializing clusters\n",
      "Init: initializing centroids\n",
      "Init: initializing clusters\n",
      "Init: initializing centroids\n",
      "Init: initializing clusters\n",
      "Init: initializing centroids\n",
      "Init: initializing clusters\n",
      "Init: initializing centroids\n",
      "Init: initializing clusters\n",
      "Init: initializing centroids\n",
      "Init: initializing clusters\n",
      "Init: initializing centroids\n",
      "Init: initializing clusters\n",
      "Init: initializing centroids\n",
      "Init: initializing clusters\n",
      "Init: initializing centroids\n",
      "Init: initializing clusters\n",
      "Init: initializing centroids\n",
      "Init: initializing clusters\n",
      "Init: initializing centroids\n",
      "Init: initializing clusters\n",
      "Init: initializing centroids\n",
      "Init: initializing clusters\n",
      "Init: initializing centroids\n",
      "Init: initializing clusters\n",
      "Init: initializing centroids\n",
      "Init: initializing clusters\n",
      "Init: initializing centroids\n",
      "Init: initializing clusters\n",
      "Init: initializing centroids\n",
      "Init: initializing clusters\n",
      "Init: initializing centroids\n",
      "Init: initializing clusters\n",
      "Init: initializing centroids\n",
      "Init: initializing clusters\n",
      "Init: initializing centroids\n",
      "Init: initializing clusters\n",
      "Init: initializing centroids\n",
      "Init: initializing clusters\n",
      "Init: initializing centroids\n",
      "Init: initializing clusters\n",
      "Init: initializing centroids\n",
      "Init: initializing clusters\n",
      "Init: initializing centroids\n",
      "Init: initializing clusters\n",
      "Starting iterations...\n",
      "Run: 4, iteration: 1/100, moves: 1313, ncost: 337.97704695186997\n",
      "Run: 4, iteration: 2/100, moves: 347, ncost: 336.7253031737267\n",
      "Run: 4, iteration: 3/100, moves: 55, ncost: 336.6630891366797\n",
      "Run: 4, iteration: 4/100, moves: 14, ncost: 336.65503670259284\n",
      "Run: 4, iteration: 5/100, moves: 7, ncost: 336.6540882198114\n",
      "Run: 4, iteration: 6/100, moves: 0, ncost: 336.6540882198114\n",
      "Init: initializing centroids\n",
      "Init: initializing clusters\n",
      "Init: initializing centroids\n",
      "Init: initializing clusters\n",
      "Init: initializing centroids\n",
      "Init: initializing clusters\n",
      "Init: initializing centroids\n",
      "Init: initializing clusters\n",
      "Init: initializing centroids\n",
      "Init: initializing clusters\n",
      "Init: initializing centroids\n",
      "Init: initializing clusters\n",
      "Init: initializing centroids\n",
      "Init: initializing clusters\n",
      "Init: initializing centroids\n",
      "Init: initializing clusters\n",
      "Starting iterations...\n",
      "Run: 5, iteration: 1/100, moves: 1012, ncost: 330.681370573189\n",
      "Run: 5, iteration: 2/100, moves: 546, ncost: 329.5960359043227\n",
      "Run: 5, iteration: 3/100, moves: 52, ncost: 329.55909052793925\n",
      "Run: 5, iteration: 4/100, moves: 35, ncost: 329.5311089632239\n",
      "Run: 5, iteration: 5/100, moves: 69, ncost: 329.29733452975904\n",
      "Run: 5, iteration: 6/100, moves: 17, ncost: 329.2804142109902\n",
      "Run: 5, iteration: 7/100, moves: 0, ncost: 329.2804142109902\n",
      "Best run was number 2\n"
     ]
    },
    {
     "data": {
      "image/png": "[encoded data removed]",
      "text/plain": [
       "<Figure size 640x480 with 1 Axes>"
      ]
     },
     "metadata": {},
     "output_type": "display_data"
    }
   ],
   "source": [
    "from kmodes.kprototypes import KPrototypes\n",
    "import matplotlib.pyplot as plt\n",
    "# Elbow curve to find optimal K \n",
    "\n",
    "cost = [] \n",
    "kmode_models = []\n",
    "K = [1, 2, 3, 4, 5, 6, 7]\n",
    "for k in list(K): \n",
    "    kmode = KPrototypes(n_clusters=k, init = \"random\", n_init = 5, verbose=1) \n",
    "    kmode.fit_predict(df_to_cluster_normalize, categorical=[1, 6, 7]) \n",
    "    cost.append(kmode.cost_)\n",
    "    kmode_models.append(kmode)\n",
    "      \n",
    "plt.plot(K, cost, 'x-') \n",
    "plt.xlabel('No. of clusters') \n",
    "plt.ylabel('Cost') \n",
    "plt.title('Elbow Curve') \n",
    "plt.show()"
   ]
  },
  {
   "cell_type": "code",
   "execution_count": 8,
   "metadata": {},
   "outputs": [
    {
     "name": "stdout",
     "output_type": "stream",
     "text": [
      "Init: initializing centroids\n",
      "Init: initializing clusters\n",
      "Init: initializing centroids\n",
      "Init: initializing clusters\n",
      "Init: initializing centroids\n",
      "Init: initializing clusters\n",
      "Starting iterations...\n",
      "Run: 1, iteration: 1/100, moves: 17, ncost: 572.6163818061661\n",
      "Run: 1, iteration: 2/100, moves: 0, ncost: 572.6163818061661\n",
      "Init: initializing centroids\n",
      "Init: initializing clusters\n",
      "Starting iterations...\n",
      "Run: 2, iteration: 1/100, moves: 923, ncost: 580.9344727226974\n",
      "Run: 2, iteration: 2/100, moves: 97, ncost: 572.6163818061659\n",
      "Run: 2, iteration: 3/100, moves: 0, ncost: 572.6163818061659\n",
      "Init: initializing centroids\n",
      "Init: initializing clusters\n",
      "Starting iterations...\n",
      "Run: 3, iteration: 1/100, moves: 789, ncost: 572.6163818061659\n",
      "Run: 3, iteration: 2/100, moves: 0, ncost: 572.6163818061659\n",
      "Init: initializing centroids\n",
      "Init: initializing clusters\n",
      "Init: initializing centroids\n",
      "Init: initializing clusters\n",
      "Starting iterations...\n",
      "Run: 4, iteration: 1/100, moves: 137, ncost: 1463.8740991572256\n",
      "Run: 4, iteration: 2/100, moves: 385, ncost: 1387.994108251835\n",
      "Run: 4, iteration: 3/100, moves: 63, ncost: 1387.9547690984489\n",
      "Run: 4, iteration: 4/100, moves: 0, ncost: 1387.9547690984489\n",
      "Init: initializing centroids\n",
      "Init: initializing clusters\n",
      "Starting iterations...\n",
      "Run: 5, iteration: 1/100, moves: 0, ncost: 572.6163818061661\n",
      "Best run was number 2\n"
     ]
    },
    {
     "data": {
      "text/plain": [
       "array([1, 1, 2, ..., 1, 0, 1], dtype=uint16)"
      ]
     },
     "execution_count": 8,
     "metadata": {},
     "output_type": "execute_result"
    }
   ],
   "source": [
    "from kmodes.kprototypes import KPrototypes\n",
    "\n",
    "kmode = KPrototypes(n_clusters=3, init = \"random\", n_init = 5, verbose=1, random_state=12345) \n",
    "kmode.fit_predict(df_to_cluster_normalize, categorical=[1, 6, 7]) "
   ]
  },
  {
   "cell_type": "code",
   "execution_count": 9,
   "metadata": {},
   "outputs": [],
   "source": [
    "df_to_cluster_normalize[\"Label\"] = kmode.labels_"
   ]
  },
  {
   "cell_type": "code",
   "execution_count": 10,
   "metadata": {},
   "outputs": [
    {
     "data": {
      "text/plain": [
       "array([['0.05868627450980439', '0.08722768670309657',\n",
       "        '0.05111111111111156', '0.02488662538325421', '0.0', '0.0',\n",
       "        '0.030910681203328547', '0.11527076688720035', 'F', '2', '0'],\n",
       "       ['0.9108039215686349', '0.9077978142076508', '0.9999999999999474',\n",
       "        '0.9749570897514573', '0.9003999999999931', '1.0',\n",
       "        '0.8964774119643334', '0.9618598890015831', 'M', '6', '1'],\n",
       "       ['0.5734509803921544', '0.9542841530054633', '0.6123333333333253',\n",
       "        '0.6232384779206038', '9.103828801926283e-17', '1.0',\n",
       "        '0.373866283005761', '0.8041981101578033', 'F', '6', '0']],\n",
       "      dtype='<U32')"
      ]
     },
     "execution_count": 10,
     "metadata": {},
     "output_type": "execute_result"
    }
   ],
   "source": [
    "kmode.cluster_centroids_"
   ]
  },
  {
   "cell_type": "markdown",
   "metadata": {},
   "source": [
    "# Analyzing the customer segments\n",
    "\n",
    "First, let's look at the categorical variables.\n",
    "\n",
    "We can see that cluster 0 is made of a femal majority, with a medium level of education and who tend to not have credit cards. \n",
    "\n",
    "Cluster 1 is made up of a male majority, with a low level of education and who tend to not have credit cards.\n",
    "\n",
    "Cluster 2 is made up of a highly educated male majority who tend to have credit cards."
   ]
  },
  {
   "cell_type": "code",
   "execution_count": 11,
   "metadata": {},
   "outputs": [
    {
     "data": {
      "text/html": [
       "<div>\n",
       "<style scoped>\n",
       "    .dataframe tbody tr th:only-of-type {\n",
       "        vertical-align: middle;\n",
       "    }\n",
       "\n",
       "    .dataframe tbody tr th {\n",
       "        vertical-align: top;\n",
       "    }\n",
       "\n",
       "    .dataframe thead th {\n",
       "        text-align: right;\n",
       "    }\n",
       "</style>\n",
       "<table border=\"1\" class=\"dataframe\">\n",
       "  <thead>\n",
       "    <tr style=\"text-align: right;\">\n",
       "      <th></th>\n",
       "      <th>Gender</th>\n",
       "      <th>Education</th>\n",
       "      <th>HasCrCard</th>\n",
       "    </tr>\n",
       "  </thead>\n",
       "  <tbody>\n",
       "    <tr>\n",
       "      <th>0</th>\n",
       "      <td>F</td>\n",
       "      <td>2</td>\n",
       "      <td>0</td>\n",
       "    </tr>\n",
       "    <tr>\n",
       "      <th>1</th>\n",
       "      <td>M</td>\n",
       "      <td>6</td>\n",
       "      <td>1</td>\n",
       "    </tr>\n",
       "    <tr>\n",
       "      <th>2</th>\n",
       "      <td>F</td>\n",
       "      <td>6</td>\n",
       "      <td>0</td>\n",
       "    </tr>\n",
       "  </tbody>\n",
       "</table>\n",
       "</div>"
      ],
      "text/plain": [
       "  Gender Education HasCrCard\n",
       "0      F         2         0\n",
       "1      M         6         1\n",
       "2      F         6         0"
      ]
     },
     "execution_count": 11,
     "metadata": {},
     "output_type": "execute_result"
    }
   ],
   "source": [
    "pd.DataFrame(kmode.cluster_centroids_).iloc[:,-3:].rename(columns={8:\"Gender\", 9:\"Education\", 10:\"HasCrCard\"})"
   ]
  },
  {
   "cell_type": "markdown",
   "metadata": {},
   "source": [
    "Let's look in more detail at the frequency distribution of the categorical variables within these 3 clusters."
   ]
  },
  {
   "cell_type": "code",
   "execution_count": 12,
   "metadata": {},
   "outputs": [
    {
     "data": {
      "image/png": "[encoded data removed]",
      "text/plain": [
       "<Figure size 1000x600 with 1 Axes>"
      ]
     },
     "metadata": {},
     "output_type": "display_data"
    },
    {
     "data": {
      "image/png": "[encoded data removed]",
      "text/plain": [
       "<Figure size 1000x600 with 1 Axes>"
      ]
     },
     "metadata": {},
     "output_type": "display_data"
    },
    {
     "data": {
      "image/png": "[encoded data removed]",
      "text/plain": [
       "<Figure size 1000x600 with 1 Axes>"
      ]
     },
     "metadata": {},
     "output_type": "display_data"
    }
   ],
   "source": [
    "gender_vc = df_to_cluster_normalize[df_to_cluster_normalize[\"Label\"]==0][\"Gender\"].value_counts()\n",
    "education_vc = df_to_cluster_normalize[df_to_cluster_normalize[\"Label\"]==0][\"Education\"].value_counts()\n",
    "has_cc_vc = df_to_cluster_normalize[df_to_cluster_normalize[\"Label\"]==0][\"HasCrCard\"].value_counts()\n",
    "\n",
    "plt.figure(figsize=(10,6))\n",
    "plt.bar(gender_vc.index, gender_vc)\n",
    "plt.show()\n",
    "\n",
    "plt.figure(figsize=(10,6))\n",
    "plt.bar(education_vc.index, education_vc)\n",
    "plt.show()\n",
    "\n",
    "plt.figure(figsize=(10,6))\n",
    "plt.bar(has_cc_vc.index, has_cc_vc)\n",
    "plt.show()"
   ]
  },
  {
   "cell_type": "code",
   "execution_count": 13,
   "metadata": {},
   "outputs": [
    {
     "data": {
      "image/png": "[encoded data removed]",
      "text/plain": [
       "<Figure size 1000x600 with 1 Axes>"
      ]
     },
     "metadata": {},
     "output_type": "display_data"
    },
    {
     "data": {
      "image/png": "[encoded data removed]",
      "text/plain": [
       "<Figure size 1000x600 with 1 Axes>"
      ]
     },
     "metadata": {},
     "output_type": "display_data"
    },
    {
     "data": {
      "image/png": "[encoded data removed]",
      "text/plain": [
       "<Figure size 1000x600 with 1 Axes>"
      ]
     },
     "metadata": {},
     "output_type": "display_data"
    }
   ],
   "source": [
    "gender_vc = df_to_cluster_normalize[df_to_cluster_normalize[\"Label\"]==1][\"Gender\"].value_counts()\n",
    "education_vc = df_to_cluster_normalize[df_to_cluster_normalize[\"Label\"]==1][\"Education\"].value_counts()\n",
    "has_cc_vc = df_to_cluster_normalize[df_to_cluster_normalize[\"Label\"]==1][\"HasCrCard\"].value_counts()\n",
    "\n",
    "plt.figure(figsize=(10,6))\n",
    "plt.bar(gender_vc.index, gender_vc)\n",
    "plt.show()\n",
    "\n",
    "plt.figure(figsize=(10,6))\n",
    "plt.bar(education_vc.index, education_vc)\n",
    "plt.show()\n",
    "\n",
    "plt.figure(figsize=(10,6))\n",
    "plt.bar(has_cc_vc.index, has_cc_vc)\n",
    "plt.show()"
   ]
  },
  {
   "cell_type": "code",
   "execution_count": 14,
   "metadata": {},
   "outputs": [
    {
     "data": {
      "image/png": "[encoded data removed]",
      "text/plain": [
       "<Figure size 1000x600 with 1 Axes>"
      ]
     },
     "metadata": {},
     "output_type": "display_data"
    },
    {
     "data": {
      "image/png": "[encoded data removed]",
      "text/plain": [
       "<Figure size 1000x600 with 1 Axes>"
      ]
     },
     "metadata": {},
     "output_type": "display_data"
    },
    {
     "data": {
      "image/png": "[encoded data removed]",
      "text/plain": [
       "<Figure size 1000x600 with 1 Axes>"
      ]
     },
     "metadata": {},
     "output_type": "display_data"
    }
   ],
   "source": [
    "gender_vc = df_to_cluster_normalize[df_to_cluster_normalize[\"Label\"]==2][\"Gender\"].value_counts()\n",
    "education_vc = df_to_cluster_normalize[df_to_cluster_normalize[\"Label\"]==2][\"Education\"].value_counts()\n",
    "has_cc_vc = df_to_cluster_normalize[df_to_cluster_normalize[\"Label\"]==2][\"HasCrCard\"].value_counts()\n",
    "\n",
    "plt.figure(figsize=(10,6))\n",
    "plt.bar(gender_vc.index, gender_vc)\n",
    "plt.show()\n",
    "\n",
    "plt.figure(figsize=(10,6))\n",
    "plt.bar(education_vc.index, education_vc)\n",
    "plt.show()\n",
    "\n",
    "plt.figure(figsize=(10,6))\n",
    "plt.bar(has_cc_vc.index, has_cc_vc)\n",
    "plt.show()"
   ]
  },
  {
   "cell_type": "markdown",
   "metadata": {},
   "source": [
    "From the plots above, we can see that \n",
    "- the gender disparity in cluster 2 & 1 are much more pronounced than in cluster 0 and in that there are many more males in cluster 1, and many more females in cluster 2.\n",
    "- the credit card disparity in cluster 0 and 1 are much more pronounced in that most people in cluster 0 do not have a credit card and most people in cluster 1 have a credit card.\n",
    "- customers in cluster 1 are much more educated, customers in cluster 0 have a low education level, and customers in cluster 2 have a medium education level. Education seems to be a clear distinction between the clusters.\n",
    "\n",
    "Before we look at the characteristics of the clusters overall, let's take a look at the continuous features as well:"
   ]
  },
  {
   "cell_type": "code",
   "execution_count": 15,
   "metadata": {},
   "outputs": [
    {
     "data": {
      "application/vnd.plotly.v1+json": {
       "config": {
        "plotlyServerURL": "https://plot.ly"
       },
       "data": [
        {
         "fill": "toself",
         "name": "Cluster 0",
         "opacity": 1,
         "r": [
          0.058686274509803925,
          0.08722768670309654,
          0.05111111111111112,
          0.024886625383254223,
          0,
          0,
          0.03091068120332852,
          0.11527076688720055
         ],
         "theta": [
          "Age",
          "CreditScore",
          "Tenure",
          "Balance",
          "NumOfProducts",
          "Transaction_Count",
          "Avg_Transaction_Value",
          "EstimatedSalary"
         ],
         "type": "scatterpolar"
        },
        {
         "fill": "toself",
         "name": "Cluster 1",
         "opacity": 1,
         "r": [
          0.9108039215686277,
          0.9077978142076503,
          1,
          0.9749570897514592,
          0.9004000000000001,
          1,
          0.8964774119643344,
          0.9618598890015868
         ],
         "theta": [
          "Age",
          "CreditScore",
          "Tenure",
          "Balance",
          "NumOfProducts",
          "Transaction_Count",
          "Avg_Transaction_Value",
          "EstimatedSalary"
         ],
         "type": "scatterpolar"
        },
        {
         "fill": "toself",
         "name": "Cluster 2",
         "opacity": 1,
         "r": [
          0.5734509803921569,
          0.9542841530054645,
          0.6123333333333333,
          0.623238477920603,
          0,
          1,
          0.3738662830057609,
          0.8041981101578033
         ],
         "theta": [
          "Age",
          "CreditScore",
          "Tenure",
          "Balance",
          "NumOfProducts",
          "Transaction_Count",
          "Avg_Transaction_Value",
          "EstimatedSalary"
         ],
         "type": "scatterpolar"
        }
       ],
       "layout": {
        "polar": {
         "radialaxis": {
          "visible": true
         }
        },
        "showlegend": true,
        "template": {
         "data": {
          "bar": [
           {
            "error_x": {
             "color": "#2a3f5f"
            },
            "error_y": {
             "color": "#2a3f5f"
            },
            "marker": {
             "line": {
              "color": "#E5ECF6",
              "width": 0.5
             },
             "pattern": {
              "fillmode": "overlay",
              "size": 10,
              "solidity": 0.2
             }
            },
            "type": "bar"
           }
          ],
          "barpolar": [
           {
            "marker": {
             "line": {
              "color": "#E5ECF6",
              "width": 0.5
             },
             "pattern": {
              "fillmode": "overlay",
              "size": 10,
              "solidity": 0.2
             }
            },
            "type": "barpolar"
           }
          ],
          "carpet": [
           {
            "aaxis": {
             "endlinecolor": "#2a3f5f",
             "gridcolor": "white",
             "linecolor": "white",
             "minorgridcolor": "white",
             "startlinecolor": "#2a3f5f"
            },
            "baxis": {
             "endlinecolor": "#2a3f5f",
             "gridcolor": "white",
             "linecolor": "white",
             "minorgridcolor": "white",
             "startlinecolor": "#2a3f5f"
            },
            "type": "carpet"
           }
          ],
          "choropleth": [
           {
            "colorbar": {
             "outlinewidth": 0,
             "ticks": ""
            },
            "type": "choropleth"
           }
          ],
          "contour": [
           {
            "colorbar": {
             "outlinewidth": 0,
             "ticks": ""
            },
            "colorscale": [
             [
              0,
              "#0d0887"
             ],
             [
              0.1111111111111111,
              "#46039f"
             ],
             [
              0.2222222222222222,
              "#7201a8"
             ],
             [
              0.3333333333333333,
              "#9c179e"
             ],
             [
              0.4444444444444444,
              "#bd3786"
             ],
             [
              0.5555555555555556,
              "#d8576b"
             ],
             [
              0.6666666666666666,
              "#ed7953"
             ],
             [
              0.7777777777777778,
              "#fb9f3a"
             ],
             [
              0.8888888888888888,
              "#fdca26"
             ],
             [
              1,
              "#f0f921"
             ]
            ],
            "type": "contour"
           }
          ],
          "contourcarpet": [
           {
            "colorbar": {
             "outlinewidth": 0,
             "ticks": ""
            },
            "type": "contourcarpet"
           }
          ],
          "heatmap": [
           {
            "colorbar": {
             "outlinewidth": 0,
             "ticks": ""
            },
            "colorscale": [
             [
              0,
              "#0d0887"
             ],
             [
              0.1111111111111111,
              "#46039f"
             ],
             [
              0.2222222222222222,
              "#7201a8"
             ],
             [
              0.3333333333333333,
              "#9c179e"
             ],
             [
              0.4444444444444444,
              "#bd3786"
             ],
             [
              0.5555555555555556,
              "#d8576b"
             ],
             [
              0.6666666666666666,
              "#ed7953"
             ],
             [
              0.7777777777777778,
              "#fb9f3a"
             ],
             [
              0.8888888888888888,
              "#fdca26"
             ],
             [
              1,
              "#f0f921"
             ]
            ],
            "type": "heatmap"
           }
          ],
          "heatmapgl": [
           {
            "colorbar": {
             "outlinewidth": 0,
             "ticks": ""
            },
            "colorscale": [
             [
              0,
              "#0d0887"
             ],
             [
              0.1111111111111111,
              "#46039f"
             ],
             [
              0.2222222222222222,
              "#7201a8"
             ],
             [
              0.3333333333333333,
              "#9c179e"
             ],
             [
              0.4444444444444444,
              "#bd3786"
             ],
             [
              0.5555555555555556,
              "#d8576b"
             ],
             [
              0.6666666666666666,
              "#ed7953"
             ],
             [
              0.7777777777777778,
              "#fb9f3a"
             ],
             [
              0.8888888888888888,
              "#fdca26"
             ],
             [
              1,
              "#f0f921"
             ]
            ],
            "type": "heatmapgl"
           }
          ],
          "histogram": [
           {
            "marker": {
             "pattern": {
              "fillmode": "overlay",
              "size": 10,
              "solidity": 0.2
             }
            },
            "type": "histogram"
           }
          ],
          "histogram2d": [
           {
            "colorbar": {
             "outlinewidth": 0,
             "ticks": ""
            },
            "colorscale": [
             [
              0,
              "#0d0887"
             ],
             [
              0.1111111111111111,
              "#46039f"
             ],
             [
              0.2222222222222222,
              "#7201a8"
             ],
             [
              0.3333333333333333,
              "#9c179e"
             ],
             [
              0.4444444444444444,
              "#bd3786"
             ],
             [
              0.5555555555555556,
              "#d8576b"
             ],
             [
              0.6666666666666666,
              "#ed7953"
             ],
             [
              0.7777777777777778,
              "#fb9f3a"
             ],
             [
              0.8888888888888888,
              "#fdca26"
             ],
             [
              1,
              "#f0f921"
             ]
            ],
            "type": "histogram2d"
           }
          ],
          "histogram2dcontour": [
           {
            "colorbar": {
             "outlinewidth": 0,
             "ticks": ""
            },
            "colorscale": [
             [
              0,
              "#0d0887"
             ],
             [
              0.1111111111111111,
              "#46039f"
             ],
             [
              0.2222222222222222,
              "#7201a8"
             ],
             [
              0.3333333333333333,
              "#9c179e"
             ],
             [
              0.4444444444444444,
              "#bd3786"
             ],
             [
              0.5555555555555556,
              "#d8576b"
             ],
             [
              0.6666666666666666,
              "#ed7953"
             ],
             [
              0.7777777777777778,
              "#fb9f3a"
             ],
             [
              0.8888888888888888,
              "#fdca26"
             ],
             [
              1,
              "#f0f921"
             ]
            ],
            "type": "histogram2dcontour"
           }
          ],
          "mesh3d": [
           {
            "colorbar": {
             "outlinewidth": 0,
             "ticks": ""
            },
            "type": "mesh3d"
           }
          ],
          "parcoords": [
           {
            "line": {
             "colorbar": {
              "outlinewidth": 0,
              "ticks": ""
             }
            },
            "type": "parcoords"
           }
          ],
          "pie": [
           {
            "automargin": true,
            "type": "pie"
           }
          ],
          "scatter": [
           {
            "fillpattern": {
             "fillmode": "overlay",
             "size": 10,
             "solidity": 0.2
            },
            "type": "scatter"
           }
          ],
          "scatter3d": [
           {
            "line": {
             "colorbar": {
              "outlinewidth": 0,
              "ticks": ""
             }
            },
            "marker": {
             "colorbar": {
              "outlinewidth": 0,
              "ticks": ""
             }
            },
            "type": "scatter3d"
           }
          ],
          "scattercarpet": [
           {
            "marker": {
             "colorbar": {
              "outlinewidth": 0,
              "ticks": ""
             }
            },
            "type": "scattercarpet"
           }
          ],
          "scattergeo": [
           {
            "marker": {
             "colorbar": {
              "outlinewidth": 0,
              "ticks": ""
             }
            },
            "type": "scattergeo"
           }
          ],
          "scattergl": [
           {
            "marker": {
             "colorbar": {
              "outlinewidth": 0,
              "ticks": ""
             }
            },
            "type": "scattergl"
           }
          ],
          "scattermapbox": [
           {
            "marker": {
             "colorbar": {
              "outlinewidth": 0,
              "ticks": ""
             }
            },
            "type": "scattermapbox"
           }
          ],
          "scatterpolar": [
           {
            "marker": {
             "colorbar": {
              "outlinewidth": 0,
              "ticks": ""
             }
            },
            "type": "scatterpolar"
           }
          ],
          "scatterpolargl": [
           {
            "marker": {
             "colorbar": {
              "outlinewidth": 0,
              "ticks": ""
             }
            },
            "type": "scatterpolargl"
           }
          ],
          "scatterternary": [
           {
            "marker": {
             "colorbar": {
              "outlinewidth": 0,
              "ticks": ""
             }
            },
            "type": "scatterternary"
           }
          ],
          "surface": [
           {
            "colorbar": {
             "outlinewidth": 0,
             "ticks": ""
            },
            "colorscale": [
             [
              0,
              "#0d0887"
             ],
             [
              0.1111111111111111,
              "#46039f"
             ],
             [
              0.2222222222222222,
              "#7201a8"
             ],
             [
              0.3333333333333333,
              "#9c179e"
             ],
             [
              0.4444444444444444,
              "#bd3786"
             ],
             [
              0.5555555555555556,
              "#d8576b"
             ],
             [
              0.6666666666666666,
              "#ed7953"
             ],
             [
              0.7777777777777778,
              "#fb9f3a"
             ],
             [
              0.8888888888888888,
              "#fdca26"
             ],
             [
              1,
              "#f0f921"
             ]
            ],
            "type": "surface"
           }
          ],
          "table": [
           {
            "cells": {
             "fill": {
              "color": "#EBF0F8"
             },
             "line": {
              "color": "white"
             }
            },
            "header": {
             "fill": {
              "color": "#C8D4E3"
             },
             "line": {
              "color": "white"
             }
            },
            "type": "table"
           }
          ]
         },
         "layout": {
          "annotationdefaults": {
           "arrowcolor": "#2a3f5f",
           "arrowhead": 0,
           "arrowwidth": 1
          },
          "autotypenumbers": "strict",
          "coloraxis": {
           "colorbar": {
            "outlinewidth": 0,
            "ticks": ""
           }
          },
          "colorscale": {
           "diverging": [
            [
             0,
             "#8e0152"
            ],
            [
             0.1,
             "#c51b7d"
            ],
            [
             0.2,
             "#de77ae"
            ],
            [
             0.3,
             "#f1b6da"
            ],
            [
             0.4,
             "#fde0ef"
            ],
            [
             0.5,
             "#f7f7f7"
            ],
            [
             0.6,
             "#e6f5d0"
            ],
            [
             0.7,
             "#b8e186"
            ],
            [
             0.8,
             "#7fbc41"
            ],
            [
             0.9,
             "#4d9221"
            ],
            [
             1,
             "#276419"
            ]
           ],
           "sequential": [
            [
             0,
             "#0d0887"
            ],
            [
             0.1111111111111111,
             "#46039f"
            ],
            [
             0.2222222222222222,
             "#7201a8"
            ],
            [
             0.3333333333333333,
             "#9c179e"
            ],
            [
             0.4444444444444444,
             "#bd3786"
            ],
            [
             0.5555555555555556,
             "#d8576b"
            ],
            [
             0.6666666666666666,
             "#ed7953"
            ],
            [
             0.7777777777777778,
             "#fb9f3a"
            ],
            [
             0.8888888888888888,
             "#fdca26"
            ],
            [
             1,
             "#f0f921"
            ]
           ],
           "sequentialminus": [
            [
             0,
             "#0d0887"
            ],
            [
             0.1111111111111111,
             "#46039f"
            ],
            [
             0.2222222222222222,
             "#7201a8"
            ],
            [
             0.3333333333333333,
             "#9c179e"
            ],
            [
             0.4444444444444444,
             "#bd3786"
            ],
            [
             0.5555555555555556,
             "#d8576b"
            ],
            [
             0.6666666666666666,
             "#ed7953"
            ],
            [
             0.7777777777777778,
             "#fb9f3a"
            ],
            [
             0.8888888888888888,
             "#fdca26"
            ],
            [
             1,
             "#f0f921"
            ]
           ]
          },
          "colorway": [
           "#636efa",
           "#EF553B",
           "#00cc96",
           "#ab63fa",
           "#FFA15A",
           "#19d3f3",
           "#FF6692",
           "#B6E880",
           "#FF97FF",
           "#FECB52"
          ],
          "font": {
           "color": "#2a3f5f"
          },
          "geo": {
           "bgcolor": "white",
           "lakecolor": "white",
           "landcolor": "#E5ECF6",
           "showlakes": true,
           "showland": true,
           "subunitcolor": "white"
          },
          "hoverlabel": {
           "align": "left"
          },
          "hovermode": "closest",
          "mapbox": {
           "style": "light"
          },
          "paper_bgcolor": "white",
          "plot_bgcolor": "#E5ECF6",
          "polar": {
           "angularaxis": {
            "gridcolor": "white",
            "linecolor": "white",
            "ticks": ""
           },
           "bgcolor": "#E5ECF6",
           "radialaxis": {
            "gridcolor": "white",
            "linecolor": "white",
            "ticks": ""
           }
          },
          "scene": {
           "xaxis": {
            "backgroundcolor": "#E5ECF6",
            "gridcolor": "white",
            "gridwidth": 2,
            "linecolor": "white",
            "showbackground": true,
            "ticks": "",
            "zerolinecolor": "white"
           },
           "yaxis": {
            "backgroundcolor": "#E5ECF6",
            "gridcolor": "white",
            "gridwidth": 2,
            "linecolor": "white",
            "showbackground": true,
            "ticks": "",
            "zerolinecolor": "white"
           },
           "zaxis": {
            "backgroundcolor": "#E5ECF6",
            "gridcolor": "white",
            "gridwidth": 2,
            "linecolor": "white",
            "showbackground": true,
            "ticks": "",
            "zerolinecolor": "white"
           }
          },
          "shapedefaults": {
           "line": {
            "color": "#2a3f5f"
           }
          },
          "ternary": {
           "aaxis": {
            "gridcolor": "white",
            "linecolor": "white",
            "ticks": ""
           },
           "baxis": {
            "gridcolor": "white",
            "linecolor": "white",
            "ticks": ""
           },
           "bgcolor": "#E5ECF6",
           "caxis": {
            "gridcolor": "white",
            "linecolor": "white",
            "ticks": ""
           }
          },
          "title": {
           "x": 0.05
          },
          "xaxis": {
           "automargin": true,
           "gridcolor": "white",
           "linecolor": "white",
           "ticks": "",
           "title": {
            "standoff": 15
           },
           "zerolinecolor": "white",
           "zerolinewidth": 2
          },
          "yaxis": {
           "automargin": true,
           "gridcolor": "white",
           "linecolor": "white",
           "ticks": "",
           "title": {
            "standoff": 15
           },
           "zerolinecolor": "white",
           "zerolinewidth": 2
          }
         }
        },
        "title": {
         "text": "Radar plot - Cluster attributes (Normalized Values)"
        }
       }
      }
     },
     "metadata": {},
     "output_type": "display_data"
    }
   ],
   "source": [
    "import plotly.express as px\n",
    "import plotly.graph_objects as go\n",
    "\n",
    "n_clust = 3\n",
    "attributes = [x for x in df_to_cluster_normalize.columns[:-1] if x in continuous_columns]\n",
    "colors=['purple','yellow','red']#,'magenta','orange', 'green', 'pink'\n",
    "cluster=[f'Cluster {i}' for i in range(n_clust)]\n",
    "\n",
    "fig = go.Figure()\n",
    "for index in range(0,n_clust):\n",
    "    fig.add_trace(go.Scatterpolar(r=df_to_cluster_normalize.loc[df_to_cluster_normalize.Label == index, attributes].mean(),\n",
    "                                  theta=attributes,\n",
    "                                  fill='toself',\n",
    "#                                   fillcolor=colors[index],\n",
    "                                  opacity=1,\n",
    "                                  name=cluster[index]))\n",
    "    \n",
    "fig.update_layout(polar=dict(radialaxis=dict(visible=True)),showlegend=True,\n",
    "                  title=\"Radar plot - Cluster attributes (Normalized Values)\")\n",
    "fig.show()"
   ]
  },
  {
   "cell_type": "markdown",
   "metadata": {},
   "source": [
    "# Overall Analysis\n",
    "\n",
    "Looking at both the categorical & continuous features, a picture begins to emerge:\n",
    "- Cluster 0 seems to be made up of lower income, lower educated men and women. They tend to have less in their bank accounts, and to spend less. \n",
    "- Cluster 1 seems to be made up high income, highly educated men, who already use the most number of products. Nevertheless, due to their great spending power, it may be important to continuously market towards them.\n",
    "- Cluster 2 seems to be made up of middle income, medium educated women, middle aged women. They tend to have excellent credit scores, and medium salaries & account balances. They are subscribed to very few products and this may be a good demographic to market new products towards.\n"
   ]
  },
  {
   "cell_type": "markdown",
   "metadata": {},
   "source": [
    "# Assigning a cluster to a new user\n",
    "\n",
    "Finally, if we have a new bank user, we might want to classify them into a cluster. An example why we might do this is perhaps we have used the cluster assignments as inputs to other ML models, therefore to run those, we might want to assign the user to a cluster first."
   ]
  },
  {
   "cell_type": "code",
   "execution_count": 16,
   "metadata": {},
   "outputs": [
    {
     "data": {
      "text/plain": [
       "array([2], dtype=uint16)"
      ]
     },
     "execution_count": 16,
     "metadata": {},
     "output_type": "execute_result"
    }
   ],
   "source": [
    "new = np.array(\n",
    "    [[(45-mins_dict[\"Age\"])/(maxes_dict[\"Age\"]-mins_dict[\"Age\"]), \n",
    "      (800-mins_dict[\"CreditScore\"])/(maxes_dict[\"CreditScore\"]-mins_dict[\"CreditScore\"]),  \n",
    "      (8-mins_dict[\"Tenure\"])/(maxes_dict[\"Tenure\"]-mins_dict[\"Tenure\"]),  \n",
    "      (70000-mins_dict[\"Balance\"])/(maxes_dict[\"Balance\"]-mins_dict[\"Balance\"]),  \n",
    "      (1-mins_dict[\"NumOfProducts\"])/(maxes_dict[\"NumOfProducts\"]-mins_dict[\"NumOfProducts\"]),  \n",
    "      (1-mins_dict[\"Transaction_Count\"])/(maxes_dict[\"Transaction_Count\"]-mins_dict[\"Transaction_Count\"]),\n",
    "      (200-mins_dict[\"Avg_Transaction_Value\"])/(maxes_dict[\"Avg_Transaction_Value\"]-mins_dict[\"Avg_Transaction_Value\"]),\n",
    "      (100000-mins_dict[\"EstimatedSalary\"])/(maxes_dict[\"EstimatedSalary\"]-mins_dict[\"EstimatedSalary\"]),\n",
    "      0, \n",
    "      4, \n",
    "      0]])\n",
    "kmode.predict(new, categorical=[8, 9, 10])\n"
   ]
  },
  {
   "cell_type": "markdown",
   "metadata": {},
   "source": [
    "Here the user has been assigned to cluster 1. This makes sense as she is a middle income female, who has purchased only 1 product."
   ]
  }
 ],
 "metadata": {
  "kernelspec": {
   "display_name": "env",
   "language": "python",
   "name": "python3"
  },
  "language_info": {
   "codemirror_mode": {
    "name": "ipython",
    "version": 3
   },
   "file_extension": ".py",
   "mimetype": "text/x-python",
   "name": "python",
   "nbconvert_exporter": "python",
   "pygments_lexer": "ipython3",
   "version": "3.10.13"
  }
 },
 "nbformat": 4,
 "nbformat_minor": 2
}
