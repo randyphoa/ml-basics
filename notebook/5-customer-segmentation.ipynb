{
 "cells": [
  {
   "cell_type": "markdown",
   "metadata": {},
   "source": [
    "# Customer Segmentation with k-Prototypes Clustering\n",
    "\n",
    "We will use a clustering based approach to group customers into segments.\n",
    "\n",
    "This is a form of unsupervised learning. \n",
    "\n",
    "The purpose of customer segmentation is to understand our customer base better, and can be used as an exploratory starting point before further analysis.\n",
    "\n",
    "# k-Prototypes Clustering\n",
    "\n",
    "k-prototypes is a more general version of the popular k-means clustering.\n",
    "\n",
    "k-means clustering aims to cluster data points such that we minimize the sum of squared distances between each data point and its cluster's centroid. It only applies to continuous variables.\n",
    "\n",
    "k-modes clustering aims to cluster **categorical** data points such that we minimize the number of mismatches between each data point and its cluster's centroid. \n",
    "\n",
    "In k-prototypes clustering, we use k-means clustering for the continuous variables, but we use k-modes clustering for categorical variables. Therefore, we use a combined dissimilarity metric (sum of squared distance for continuous variables, and the mismatch count for the categorical variable to assign each data point to a cluster)"
   ]
  },
  {
   "cell_type": "code",
   "execution_count": 20,
   "metadata": {},
   "outputs": [],
   "source": [
    "import importlib\n",
    "import pandas as pd\n",
    "import utils\n",
    "\n",
    "#include k-means explanation above"
   ]
  },
  {
   "cell_type": "code",
   "execution_count": 21,
   "metadata": {},
   "outputs": [
    {
     "data": {
      "text/plain": [
       "<module 'utils' from '/Users/nicolearitranair/ml-basics/notebook/utils.py'>"
      ]
     },
     "execution_count": 21,
     "metadata": {},
     "output_type": "execute_result"
    }
   ],
   "source": [
    "importlib.reload(utils)"
   ]
  },
  {
   "cell_type": "code",
   "execution_count": 22,
   "metadata": {},
   "outputs": [
    {
     "data": {
      "text/html": [
       "<div>\n",
       "<style scoped>\n",
       "    .dataframe tbody tr th:only-of-type {\n",
       "        vertical-align: middle;\n",
       "    }\n",
       "\n",
       "    .dataframe tbody tr th {\n",
       "        vertical-align: top;\n",
       "    }\n",
       "\n",
       "    .dataframe thead th {\n",
       "        text-align: right;\n",
       "    }\n",
       "</style>\n",
       "<table border=\"1\" class=\"dataframe\">\n",
       "  <thead>\n",
       "    <tr style=\"text-align: right;\">\n",
       "      <th></th>\n",
       "      <th>Customer_ID</th>\n",
       "      <th>Age</th>\n",
       "      <th>Gender</th>\n",
       "      <th>CreditScore</th>\n",
       "      <th>Tenure</th>\n",
       "      <th>Balance</th>\n",
       "      <th>NumOfProducts</th>\n",
       "      <th>Education</th>\n",
       "      <th>HasCrCard</th>\n",
       "      <th>Transaction_Count</th>\n",
       "      <th>Avg_Transaction_Value</th>\n",
       "      <th>EstimatedSalary</th>\n",
       "    </tr>\n",
       "  </thead>\n",
       "  <tbody>\n",
       "    <tr>\n",
       "      <th>2</th>\n",
       "      <td>3</td>\n",
       "      <td>61</td>\n",
       "      <td>M</td>\n",
       "      <td>783</td>\n",
       "      <td>9</td>\n",
       "      <td>199491.201077</td>\n",
       "      <td>5</td>\n",
       "      <td>6</td>\n",
       "      <td>1</td>\n",
       "      <td>4</td>\n",
       "      <td>456.757338</td>\n",
       "      <td>141604.141688</td>\n",
       "    </tr>\n",
       "    <tr>\n",
       "      <th>544</th>\n",
       "      <td>545</td>\n",
       "      <td>69</td>\n",
       "      <td>M</td>\n",
       "      <td>817</td>\n",
       "      <td>9</td>\n",
       "      <td>195704.837129</td>\n",
       "      <td>5</td>\n",
       "      <td>6</td>\n",
       "      <td>1</td>\n",
       "      <td>4</td>\n",
       "      <td>421.792904</td>\n",
       "      <td>146285.764930</td>\n",
       "    </tr>\n",
       "    <tr>\n",
       "      <th>2</th>\n",
       "      <td>3</td>\n",
       "      <td>42</td>\n",
       "      <td>F</td>\n",
       "      <td>844</td>\n",
       "      <td>6</td>\n",
       "      <td>148425.672167</td>\n",
       "      <td>1</td>\n",
       "      <td>5</td>\n",
       "      <td>1</td>\n",
       "      <td>4</td>\n",
       "      <td>112.587853</td>\n",
       "      <td>125037.237781</td>\n",
       "    </tr>\n",
       "    <tr>\n",
       "      <th>414</th>\n",
       "      <td>415</td>\n",
       "      <td>47</td>\n",
       "      <td>F</td>\n",
       "      <td>801</td>\n",
       "      <td>6</td>\n",
       "      <td>124493.943216</td>\n",
       "      <td>1</td>\n",
       "      <td>6</td>\n",
       "      <td>0</td>\n",
       "      <td>4</td>\n",
       "      <td>246.654154</td>\n",
       "      <td>118640.439117</td>\n",
       "    </tr>\n",
       "    <tr>\n",
       "      <th>188</th>\n",
       "      <td>189</td>\n",
       "      <td>66</td>\n",
       "      <td>M</td>\n",
       "      <td>845</td>\n",
       "      <td>9</td>\n",
       "      <td>194538.137261</td>\n",
       "      <td>5</td>\n",
       "      <td>6</td>\n",
       "      <td>1</td>\n",
       "      <td>4</td>\n",
       "      <td>459.739147</td>\n",
       "      <td>146133.017866</td>\n",
       "    </tr>\n",
       "    <tr>\n",
       "      <th>...</th>\n",
       "      <td>...</td>\n",
       "      <td>...</td>\n",
       "      <td>...</td>\n",
       "      <td>...</td>\n",
       "      <td>...</td>\n",
       "      <td>...</td>\n",
       "      <td>...</td>\n",
       "      <td>...</td>\n",
       "      <td>...</td>\n",
       "      <td>...</td>\n",
       "      <td>...</td>\n",
       "      <td>...</td>\n",
       "    </tr>\n",
       "    <tr>\n",
       "      <th>817</th>\n",
       "      <td>818</td>\n",
       "      <td>18</td>\n",
       "      <td>M</td>\n",
       "      <td>354</td>\n",
       "      <td>0</td>\n",
       "      <td>3564.266154</td>\n",
       "      <td>1</td>\n",
       "      <td>2</td>\n",
       "      <td>0</td>\n",
       "      <td>1</td>\n",
       "      <td>49.857074</td>\n",
       "      <td>46305.513004</td>\n",
       "    </tr>\n",
       "    <tr>\n",
       "      <th>546</th>\n",
       "      <td>547</td>\n",
       "      <td>60</td>\n",
       "      <td>M</td>\n",
       "      <td>805</td>\n",
       "      <td>9</td>\n",
       "      <td>197233.837333</td>\n",
       "      <td>5</td>\n",
       "      <td>6</td>\n",
       "      <td>1</td>\n",
       "      <td>4</td>\n",
       "      <td>424.040554</td>\n",
       "      <td>142895.963034</td>\n",
       "    </tr>\n",
       "    <tr>\n",
       "      <th>382</th>\n",
       "      <td>383</td>\n",
       "      <td>64</td>\n",
       "      <td>M</td>\n",
       "      <td>785</td>\n",
       "      <td>9</td>\n",
       "      <td>194796.772163</td>\n",
       "      <td>5</td>\n",
       "      <td>6</td>\n",
       "      <td>1</td>\n",
       "      <td>4</td>\n",
       "      <td>417.931295</td>\n",
       "      <td>141579.432170</td>\n",
       "    </tr>\n",
       "    <tr>\n",
       "      <th>177</th>\n",
       "      <td>178</td>\n",
       "      <td>24</td>\n",
       "      <td>M</td>\n",
       "      <td>372</td>\n",
       "      <td>0</td>\n",
       "      <td>6271.643095</td>\n",
       "      <td>1</td>\n",
       "      <td>2</td>\n",
       "      <td>0</td>\n",
       "      <td>1</td>\n",
       "      <td>31.878611</td>\n",
       "      <td>29621.236118</td>\n",
       "    </tr>\n",
       "    <tr>\n",
       "      <th>482</th>\n",
       "      <td>483</td>\n",
       "      <td>63</td>\n",
       "      <td>M</td>\n",
       "      <td>763</td>\n",
       "      <td>9</td>\n",
       "      <td>197695.844787</td>\n",
       "      <td>6</td>\n",
       "      <td>6</td>\n",
       "      <td>1</td>\n",
       "      <td>4</td>\n",
       "      <td>484.017416</td>\n",
       "      <td>145934.596945</td>\n",
       "    </tr>\n",
       "  </tbody>\n",
       "</table>\n",
       "<p>3000 rows × 12 columns</p>\n",
       "</div>"
      ],
      "text/plain": [
       "     Customer_ID  Age Gender  CreditScore  Tenure        Balance  \\\n",
       "2              3   61      M          783       9  199491.201077   \n",
       "544          545   69      M          817       9  195704.837129   \n",
       "2              3   42      F          844       6  148425.672167   \n",
       "414          415   47      F          801       6  124493.943216   \n",
       "188          189   66      M          845       9  194538.137261   \n",
       "..           ...  ...    ...          ...     ...            ...   \n",
       "817          818   18      M          354       0    3564.266154   \n",
       "546          547   60      M          805       9  197233.837333   \n",
       "382          383   64      M          785       9  194796.772163   \n",
       "177          178   24      M          372       0    6271.643095   \n",
       "482          483   63      M          763       9  197695.844787   \n",
       "\n",
       "     NumOfProducts  Education  HasCrCard  Transaction_Count  \\\n",
       "2                5          6          1                  4   \n",
       "544              5          6          1                  4   \n",
       "2                1          5          1                  4   \n",
       "414              1          6          0                  4   \n",
       "188              5          6          1                  4   \n",
       "..             ...        ...        ...                ...   \n",
       "817              1          2          0                  1   \n",
       "546              5          6          1                  4   \n",
       "382              5          6          1                  4   \n",
       "177              1          2          0                  1   \n",
       "482              6          6          1                  4   \n",
       "\n",
       "     Avg_Transaction_Value  EstimatedSalary  \n",
       "2               456.757338    141604.141688  \n",
       "544             421.792904    146285.764930  \n",
       "2               112.587853    125037.237781  \n",
       "414             246.654154    118640.439117  \n",
       "188             459.739147    146133.017866  \n",
       "..                     ...              ...  \n",
       "817              49.857074     46305.513004  \n",
       "546             424.040554    142895.963034  \n",
       "382             417.931295    141579.432170  \n",
       "177              31.878611     29621.236118  \n",
       "482             484.017416    145934.596945  \n",
       "\n",
       "[3000 rows x 12 columns]"
      ]
     },
     "execution_count": 22,
     "metadata": {},
     "output_type": "execute_result"
    }
   ],
   "source": [
    "import numpy as np\n",
    "\n",
    "df = utils.get_customer_segmentation_data()\n",
    "df"
   ]
  },
  {
   "cell_type": "code",
   "execution_count": 23,
   "metadata": {},
   "outputs": [],
   "source": [
    "df.to_csv(\"output_data/customer-segmentation-data.csv\")"
   ]
  },
  {
   "cell_type": "code",
   "execution_count": 24,
   "metadata": {},
   "outputs": [
    {
     "data": {
      "text/html": [
       "<div>\n",
       "<style scoped>\n",
       "    .dataframe tbody tr th:only-of-type {\n",
       "        vertical-align: middle;\n",
       "    }\n",
       "\n",
       "    .dataframe tbody tr th {\n",
       "        vertical-align: top;\n",
       "    }\n",
       "\n",
       "    .dataframe thead th {\n",
       "        text-align: right;\n",
       "    }\n",
       "</style>\n",
       "<table border=\"1\" class=\"dataframe\">\n",
       "  <thead>\n",
       "    <tr style=\"text-align: right;\">\n",
       "      <th></th>\n",
       "      <th>Customer_ID</th>\n",
       "      <th>Age</th>\n",
       "      <th>Gender</th>\n",
       "      <th>CreditScore</th>\n",
       "      <th>Tenure</th>\n",
       "      <th>Balance</th>\n",
       "      <th>NumOfProducts</th>\n",
       "      <th>Education</th>\n",
       "      <th>HasCrCard</th>\n",
       "      <th>Transaction_Count</th>\n",
       "      <th>Avg_Transaction_Value</th>\n",
       "      <th>EstimatedSalary</th>\n",
       "    </tr>\n",
       "  </thead>\n",
       "  <tbody>\n",
       "    <tr>\n",
       "      <th>2</th>\n",
       "      <td>3</td>\n",
       "      <td>61</td>\n",
       "      <td>M</td>\n",
       "      <td>783</td>\n",
       "      <td>9</td>\n",
       "      <td>199491.201077</td>\n",
       "      <td>5</td>\n",
       "      <td>6</td>\n",
       "      <td>1</td>\n",
       "      <td>4</td>\n",
       "      <td>456.757338</td>\n",
       "      <td>141604.141688</td>\n",
       "    </tr>\n",
       "    <tr>\n",
       "      <th>544</th>\n",
       "      <td>545</td>\n",
       "      <td>69</td>\n",
       "      <td>M</td>\n",
       "      <td>817</td>\n",
       "      <td>9</td>\n",
       "      <td>195704.837129</td>\n",
       "      <td>5</td>\n",
       "      <td>6</td>\n",
       "      <td>1</td>\n",
       "      <td>4</td>\n",
       "      <td>421.792904</td>\n",
       "      <td>146285.764930</td>\n",
       "    </tr>\n",
       "    <tr>\n",
       "      <th>2</th>\n",
       "      <td>3</td>\n",
       "      <td>42</td>\n",
       "      <td>F</td>\n",
       "      <td>844</td>\n",
       "      <td>6</td>\n",
       "      <td>148425.672167</td>\n",
       "      <td>1</td>\n",
       "      <td>5</td>\n",
       "      <td>1</td>\n",
       "      <td>4</td>\n",
       "      <td>112.587853</td>\n",
       "      <td>125037.237781</td>\n",
       "    </tr>\n",
       "    <tr>\n",
       "      <th>414</th>\n",
       "      <td>415</td>\n",
       "      <td>47</td>\n",
       "      <td>F</td>\n",
       "      <td>801</td>\n",
       "      <td>6</td>\n",
       "      <td>124493.943216</td>\n",
       "      <td>1</td>\n",
       "      <td>6</td>\n",
       "      <td>0</td>\n",
       "      <td>4</td>\n",
       "      <td>246.654154</td>\n",
       "      <td>118640.439117</td>\n",
       "    </tr>\n",
       "    <tr>\n",
       "      <th>188</th>\n",
       "      <td>189</td>\n",
       "      <td>66</td>\n",
       "      <td>M</td>\n",
       "      <td>845</td>\n",
       "      <td>9</td>\n",
       "      <td>194538.137261</td>\n",
       "      <td>5</td>\n",
       "      <td>6</td>\n",
       "      <td>1</td>\n",
       "      <td>4</td>\n",
       "      <td>459.739147</td>\n",
       "      <td>146133.017866</td>\n",
       "    </tr>\n",
       "    <tr>\n",
       "      <th>...</th>\n",
       "      <td>...</td>\n",
       "      <td>...</td>\n",
       "      <td>...</td>\n",
       "      <td>...</td>\n",
       "      <td>...</td>\n",
       "      <td>...</td>\n",
       "      <td>...</td>\n",
       "      <td>...</td>\n",
       "      <td>...</td>\n",
       "      <td>...</td>\n",
       "      <td>...</td>\n",
       "      <td>...</td>\n",
       "    </tr>\n",
       "    <tr>\n",
       "      <th>817</th>\n",
       "      <td>818</td>\n",
       "      <td>18</td>\n",
       "      <td>M</td>\n",
       "      <td>354</td>\n",
       "      <td>0</td>\n",
       "      <td>3564.266154</td>\n",
       "      <td>1</td>\n",
       "      <td>2</td>\n",
       "      <td>0</td>\n",
       "      <td>1</td>\n",
       "      <td>49.857074</td>\n",
       "      <td>46305.513004</td>\n",
       "    </tr>\n",
       "    <tr>\n",
       "      <th>546</th>\n",
       "      <td>547</td>\n",
       "      <td>60</td>\n",
       "      <td>M</td>\n",
       "      <td>805</td>\n",
       "      <td>9</td>\n",
       "      <td>197233.837333</td>\n",
       "      <td>5</td>\n",
       "      <td>6</td>\n",
       "      <td>1</td>\n",
       "      <td>4</td>\n",
       "      <td>424.040554</td>\n",
       "      <td>142895.963034</td>\n",
       "    </tr>\n",
       "    <tr>\n",
       "      <th>382</th>\n",
       "      <td>383</td>\n",
       "      <td>64</td>\n",
       "      <td>M</td>\n",
       "      <td>785</td>\n",
       "      <td>9</td>\n",
       "      <td>194796.772163</td>\n",
       "      <td>5</td>\n",
       "      <td>6</td>\n",
       "      <td>1</td>\n",
       "      <td>4</td>\n",
       "      <td>417.931295</td>\n",
       "      <td>141579.432170</td>\n",
       "    </tr>\n",
       "    <tr>\n",
       "      <th>177</th>\n",
       "      <td>178</td>\n",
       "      <td>24</td>\n",
       "      <td>M</td>\n",
       "      <td>372</td>\n",
       "      <td>0</td>\n",
       "      <td>6271.643095</td>\n",
       "      <td>1</td>\n",
       "      <td>2</td>\n",
       "      <td>0</td>\n",
       "      <td>1</td>\n",
       "      <td>31.878611</td>\n",
       "      <td>29621.236118</td>\n",
       "    </tr>\n",
       "    <tr>\n",
       "      <th>482</th>\n",
       "      <td>483</td>\n",
       "      <td>63</td>\n",
       "      <td>M</td>\n",
       "      <td>763</td>\n",
       "      <td>9</td>\n",
       "      <td>197695.844787</td>\n",
       "      <td>6</td>\n",
       "      <td>6</td>\n",
       "      <td>1</td>\n",
       "      <td>4</td>\n",
       "      <td>484.017416</td>\n",
       "      <td>145934.596945</td>\n",
       "    </tr>\n",
       "  </tbody>\n",
       "</table>\n",
       "<p>3000 rows × 12 columns</p>\n",
       "</div>"
      ],
      "text/plain": [
       "     Customer_ID  Age Gender  CreditScore  Tenure        Balance  \\\n",
       "2              3   61      M          783       9  199491.201077   \n",
       "544          545   69      M          817       9  195704.837129   \n",
       "2              3   42      F          844       6  148425.672167   \n",
       "414          415   47      F          801       6  124493.943216   \n",
       "188          189   66      M          845       9  194538.137261   \n",
       "..           ...  ...    ...          ...     ...            ...   \n",
       "817          818   18      M          354       0    3564.266154   \n",
       "546          547   60      M          805       9  197233.837333   \n",
       "382          383   64      M          785       9  194796.772163   \n",
       "177          178   24      M          372       0    6271.643095   \n",
       "482          483   63      M          763       9  197695.844787   \n",
       "\n",
       "     NumOfProducts  Education  HasCrCard  Transaction_Count  \\\n",
       "2                5          6          1                  4   \n",
       "544              5          6          1                  4   \n",
       "2                1          5          1                  4   \n",
       "414              1          6          0                  4   \n",
       "188              5          6          1                  4   \n",
       "..             ...        ...        ...                ...   \n",
       "817              1          2          0                  1   \n",
       "546              5          6          1                  4   \n",
       "382              5          6          1                  4   \n",
       "177              1          2          0                  1   \n",
       "482              6          6          1                  4   \n",
       "\n",
       "     Avg_Transaction_Value  EstimatedSalary  \n",
       "2               456.757338    141604.141688  \n",
       "544             421.792904    146285.764930  \n",
       "2               112.587853    125037.237781  \n",
       "414             246.654154    118640.439117  \n",
       "188             459.739147    146133.017866  \n",
       "..                     ...              ...  \n",
       "817              49.857074     46305.513004  \n",
       "546             424.040554    142895.963034  \n",
       "382             417.931295    141579.432170  \n",
       "177              31.878611     29621.236118  \n",
       "482             484.017416    145934.596945  \n",
       "\n",
       "[3000 rows x 12 columns]"
      ]
     },
     "execution_count": 24,
     "metadata": {},
     "output_type": "execute_result"
    }
   ],
   "source": [
    "df"
   ]
  },
  {
   "cell_type": "markdown",
   "metadata": {},
   "source": [
    "# Normalizing the input data\n",
    "\n",
    "We use min-max normalization on all the continuous features in the input data. \n",
    "\n",
    "The purpose of min-max normalization is to ensure that features with \"larger\" ranges do not dominate the clustering process compared to features with \"smaller\" ranges.\n",
    "\n",
    "For example, \"Balance\" might have a much larger range than \"Age\" so we want to control for this."
   ]
  },
  {
   "cell_type": "code",
   "execution_count": 25,
   "metadata": {},
   "outputs": [
    {
     "name": "stdout",
     "output_type": "stream",
     "text": [
      "Age\n",
      "CreditScore\n",
      "Tenure\n",
      "Balance\n",
      "NumOfProducts\n",
      "Transaction_Count\n",
      "Avg_Transaction_Value\n",
      "EstimatedSalary\n"
     ]
    }
   ],
   "source": [
    "df_to_cluster_normalize  = df.iloc[:,1:].copy()\n",
    "\n",
    "continuous_columns = [\"Age\", \"CreditScore\", \"Tenure\", \"Balance\", \"NumOfProducts\", \"Transaction_Count\", \"Avg_Transaction_Value\", \"EstimatedSalary\"]\n",
    "\n",
    "for col in continuous_columns:\n",
    "    print(col)\n",
    "    #rescale the continuous data\n",
    "    df_to_cluster_normalize[col] = (df_to_cluster_normalize[col]-df_to_cluster_normalize[col].min())/(df_to_cluster_normalize[col].max()-df_to_cluster_normalize[col].min())"
   ]
  },
  {
   "cell_type": "markdown",
   "metadata": {},
   "source": [
    "# Determine an appropriate number of clusters\n",
    "\n",
    "Since we are not sure of how the customers should be segmented, we can first use the Elbow Method to determine an appropriate number of clusters.\n",
    "\n",
    "In the Elbow Method, we will calculate\n",
    "- within-cluster sum of squares (compared to centroid) for continuous variables\n",
    "- total number of category mismatches with centroid for the categorical variables\n",
    "\n",
    "Logically, we will always observe a decrease in the cost, and we want to find the \"elbow\" point in cost reduction that tells us to stop increasing clusters.\n",
    "\n",
    "In the plot below, we can see that it clearly occurs at 3 clusters."
   ]
  },
  {
   "cell_type": "code",
   "execution_count": 26,
   "metadata": {},
   "outputs": [
    {
     "name": "stdout",
     "output_type": "stream",
     "text": [
      "Init: initializing centroids\n",
      "Init: initializing clusters\n",
      "Starting iterations...\n",
      "Run: 1, iteration: 1/100, moves: 0, ncost: 4747.943602978722\n",
      "Init: initializing centroids\n",
      "Init: initializing clusters\n",
      "Starting iterations...\n",
      "Run: 2, iteration: 1/100, moves: 0, ncost: 4747.943602978722\n",
      "Init: initializing centroids\n",
      "Init: initializing clusters\n",
      "Starting iterations...\n",
      "Run: 3, iteration: 1/100, moves: 0, ncost: 4747.943602978722\n",
      "Init: initializing centroids\n",
      "Init: initializing clusters\n",
      "Starting iterations...\n",
      "Run: 4, iteration: 1/100, moves: 0, ncost: 4747.943602978722\n",
      "Init: initializing centroids\n",
      "Init: initializing clusters\n",
      "Starting iterations...\n",
      "Run: 5, iteration: 1/100, moves: 0, ncost: 4747.943602978722\n",
      "Best run was number 1\n",
      "Init: initializing centroids\n",
      "Init: initializing clusters\n",
      "Starting iterations...\n",
      "Run: 1, iteration: 1/100, moves: 214, ncost: 1485.4440804941228\n",
      "Run: 1, iteration: 2/100, moves: 0, ncost: 1485.4440804941228\n",
      "Init: initializing centroids\n",
      "Init: initializing clusters\n",
      "Starting iterations...\n",
      "Run: 2, iteration: 1/100, moves: 49, ncost: 1485.444080494123\n",
      "Run: 2, iteration: 2/100, moves: 0, ncost: 1485.444080494123\n",
      "Init: initializing centroids\n",
      "Init: initializing clusters\n",
      "Starting iterations...\n",
      "Run: 3, iteration: 1/100, moves: 94, ncost: 1485.4440804941225\n",
      "Run: 3, iteration: 2/100, moves: 0, ncost: 1485.4440804941225\n",
      "Init: initializing centroids\n",
      "Init: initializing clusters\n",
      "Starting iterations...\n",
      "Run: 4, iteration: 1/100, moves: 1, ncost: 1485.4440804941225\n",
      "Run: 4, iteration: 2/100, moves: 0, ncost: 1485.4440804941225\n",
      "Init: initializing centroids\n",
      "Init: initializing clusters\n",
      "Starting iterations...\n",
      "Run: 5, iteration: 1/100, moves: 342, ncost: 1485.4440804941225\n",
      "Run: 5, iteration: 2/100, moves: 0, ncost: 1485.4440804941225\n",
      "Best run was number 3\n",
      "Init: initializing centroids\n",
      "Init: initializing clusters\n",
      "Starting iterations...\n",
      "Run: 1, iteration: 1/100, moves: 643, ncost: 572.6163818061658\n",
      "Run: 1, iteration: 2/100, moves: 0, ncost: 572.6163818061658\n",
      "Init: initializing centroids\n",
      "Init: initializing clusters\n",
      "Init: initializing centroids\n",
      "Init: initializing clusters\n",
      "Starting iterations...\n",
      "Run: 2, iteration: 1/100, moves: 178, ncost: 572.6163818061661\n",
      "Run: 2, iteration: 2/100, moves: 0, ncost: 572.6163818061661\n",
      "Init: initializing centroids\n",
      "Init: initializing clusters\n",
      "Starting iterations...\n",
      "Run: 3, iteration: 1/100, moves: 682, ncost: 572.6163818061659\n",
      "Run: 3, iteration: 2/100, moves: 0, ncost: 572.6163818061659\n",
      "Init: initializing centroids\n",
      "Init: initializing clusters\n",
      "Init: initializing centroids\n",
      "Init: initializing clusters\n",
      "Starting iterations...\n",
      "Run: 4, iteration: 1/100, moves: 1761, ncost: 741.9669975471513\n",
      "Run: 4, iteration: 2/100, moves: 329, ncost: 572.6163818061661\n",
      "Run: 4, iteration: 3/100, moves: 0, ncost: 572.6163818061661\n",
      "Init: initializing centroids\n",
      "Init: initializing clusters\n",
      "Starting iterations...\n",
      "Run: 5, iteration: 1/100, moves: 2204, ncost: 918.8889753850146\n",
      "Run: 5, iteration: 2/100, moves: 920, ncost: 572.7295313280607\n",
      "Run: 5, iteration: 3/100, moves: 9, ncost: 572.6163818061658\n",
      "Run: 5, iteration: 4/100, moves: 0, ncost: 572.6163818061658\n",
      "Best run was number 1\n",
      "Init: initializing centroids\n",
      "Init: initializing clusters\n",
      "Starting iterations...\n",
      "Run: 1, iteration: 1/100, moves: 1226, ncost: 475.3089439372575\n",
      "Run: 1, iteration: 2/100, moves: 135, ncost: 475.1129931437689\n",
      "Run: 1, iteration: 3/100, moves: 24, ncost: 475.1021913968677\n",
      "Run: 1, iteration: 4/100, moves: 12, ncost: 475.09932128716656\n",
      "Run: 1, iteration: 5/100, moves: 3, ncost: 475.09892357007334\n",
      "Run: 1, iteration: 6/100, moves: 1, ncost: 475.0988788527327\n",
      "Run: 1, iteration: 7/100, moves: 1, ncost: 475.09883722189574\n",
      "Run: 1, iteration: 8/100, moves: 0, ncost: 475.09883722189574\n",
      "Init: initializing centroids\n",
      "Init: initializing clusters\n",
      "Init: initializing centroids\n",
      "Init: initializing clusters\n",
      "Init: initializing centroids\n",
      "Init: initializing clusters\n",
      "Starting iterations...\n",
      "Run: 2, iteration: 1/100, moves: 1196, ncost: 481.6371846608791\n",
      "Run: 2, iteration: 2/100, moves: 217, ncost: 481.1521997210835\n",
      "Run: 2, iteration: 3/100, moves: 15, ncost: 481.14081387828617\n",
      "Run: 2, iteration: 4/100, moves: 26, ncost: 481.04949388441565\n",
      "Run: 2, iteration: 5/100, moves: 45, ncost: 480.7828227618305\n",
      "Run: 2, iteration: 6/100, moves: 49, ncost: 480.6068298404263\n",
      "Run: 2, iteration: 7/100, moves: 25, ncost: 480.5630366283063\n",
      "Run: 2, iteration: 8/100, moves: 9, ncost: 480.5586847099971\n",
      "Run: 2, iteration: 9/100, moves: 5, ncost: 480.5564802076526\n",
      "Run: 2, iteration: 10/100, moves: 1, ncost: 480.5562456589544\n",
      "Run: 2, iteration: 11/100, moves: 0, ncost: 480.5562456589544\n",
      "Init: initializing centroids\n",
      "Init: initializing clusters\n",
      "Starting iterations...\n",
      "Run: 3, iteration: 1/100, moves: 1050, ncost: 481.3813471952109\n",
      "Run: 3, iteration: 2/100, moves: 148, ncost: 480.6732024800315\n",
      "Run: 3, iteration: 3/100, moves: 41, ncost: 480.57495604946615\n",
      "Run: 3, iteration: 4/100, moves: 14, ncost: 480.5591310520392\n",
      "Run: 3, iteration: 5/100, moves: 4, ncost: 480.5582227154045\n",
      "Run: 3, iteration: 6/100, moves: 3, ncost: 480.55648020765295\n",
      "Run: 3, iteration: 7/100, moves: 1, ncost: 480.5562456589549\n",
      "Run: 3, iteration: 8/100, moves: 0, ncost: 480.5562456589549\n",
      "Init: initializing centroids\n",
      "Init: initializing clusters\n",
      "Init: initializing centroids\n",
      "Init: initializing clusters\n",
      "Starting iterations...\n",
      "Run: 4, iteration: 1/100, moves: 275, ncost: 565.8024363723486\n",
      "Run: 4, iteration: 2/100, moves: 0, ncost: 565.8024363723486\n",
      "Init: initializing centroids\n",
      "Init: initializing clusters\n",
      "Init: initializing centroids\n",
      "Init: initializing clusters\n",
      "Starting iterations...\n",
      "Run: 5, iteration: 1/100, moves: 1359, ncost: 475.3659767041926\n",
      "Run: 5, iteration: 2/100, moves: 116, ncost: 475.11378027036875\n",
      "Run: 5, iteration: 3/100, moves: 31, ncost: 475.1000150707208\n",
      "Run: 5, iteration: 4/100, moves: 7, ncost: 475.0990159667997\n",
      "Run: 5, iteration: 5/100, moves: 1, ncost: 475.0989853961508\n",
      "Run: 5, iteration: 6/100, moves: 3, ncost: 475.0988447188103\n",
      "Run: 5, iteration: 7/100, moves: 0, ncost: 475.0988447188103\n",
      "Best run was number 1\n",
      "Init: initializing centroids\n",
      "Init: initializing clusters\n",
      "Starting iterations...\n",
      "Run: 1, iteration: 1/100, moves: 1217, ncost: 390.7220602837469\n",
      "Run: 1, iteration: 2/100, moves: 274, ncost: 389.83184739668144\n",
      "Run: 1, iteration: 3/100, moves: 59, ncost: 389.7663981905861\n",
      "Run: 1, iteration: 4/100, moves: 13, ncost: 389.76277087120627\n",
      "Run: 1, iteration: 5/100, moves: 7, ncost: 389.76203509220363\n",
      "Run: 1, iteration: 6/100, moves: 0, ncost: 389.76203509220363\n",
      "Init: initializing centroids\n",
      "Init: initializing clusters\n",
      "Init: initializing centroids\n",
      "Init: initializing clusters\n",
      "Init: initializing centroids\n",
      "Init: initializing clusters\n",
      "Init: initializing centroids\n",
      "Init: initializing clusters\n",
      "Init: initializing centroids\n",
      "Init: initializing clusters\n",
      "Init: initializing centroids\n",
      "Init: initializing clusters\n",
      "Starting iterations...\n",
      "Run: 2, iteration: 1/100, moves: 1451, ncost: 418.95275694402375\n",
      "Run: 2, iteration: 2/100, moves: 486, ncost: 374.9567521086557\n",
      "Run: 2, iteration: 3/100, moves: 43, ncost: 374.8455945323767\n",
      "Run: 2, iteration: 4/100, moves: 15, ncost: 374.8313775832062\n",
      "Run: 2, iteration: 5/100, moves: 6, ncost: 374.8263245140488\n",
      "Run: 2, iteration: 6/100, moves: 6, ncost: 374.8217883801781\n",
      "Run: 2, iteration: 7/100, moves: 4, ncost: 374.8197481994794\n",
      "Run: 2, iteration: 8/100, moves: 6, ncost: 374.81576800276423\n",
      "Run: 2, iteration: 9/100, moves: 4, ncost: 374.81340683746447\n",
      "Run: 2, iteration: 10/100, moves: 1, ncost: 374.8127414223168\n",
      "Run: 2, iteration: 11/100, moves: 5, ncost: 374.8100730330165\n",
      "Run: 2, iteration: 12/100, moves: 4, ncost: 374.80847283385384\n",
      "Run: 2, iteration: 13/100, moves: 1, ncost: 374.8082294798635\n",
      "Run: 2, iteration: 14/100, moves: 0, ncost: 374.8082294798635\n",
      "Init: initializing centroids\n",
      "Init: initializing clusters\n",
      "Init: initializing centroids\n",
      "Init: initializing clusters\n",
      "Init: initializing centroids\n",
      "Init: initializing clusters\n",
      "Init: initializing centroids\n",
      "Init: initializing clusters\n",
      "Init: initializing centroids\n",
      "Init: initializing clusters\n",
      "Init: initializing centroids\n",
      "Init: initializing clusters\n",
      "Init: initializing centroids\n",
      "Init: initializing clusters\n",
      "Init: initializing centroids\n",
      "Init: initializing clusters\n",
      "Init: initializing centroids\n",
      "Init: initializing clusters\n",
      "Init: initializing centroids\n",
      "Init: initializing clusters\n",
      "Init: initializing centroids\n",
      "Init: initializing clusters\n",
      "Init: initializing centroids\n",
      "Init: initializing clusters\n",
      "Init: initializing centroids\n",
      "Init: initializing clusters\n",
      "Init: initializing centroids\n",
      "Init: initializing clusters\n",
      "Init: initializing centroids\n",
      "Init: initializing clusters\n",
      "Init: initializing centroids\n",
      "Init: initializing clusters\n",
      "Init: initializing centroids\n",
      "Init: initializing clusters\n",
      "Init: initializing centroids\n",
      "Init: initializing clusters\n",
      "Init: initializing centroids\n",
      "Init: initializing clusters\n",
      "Init: initializing centroids\n",
      "Init: initializing clusters\n",
      "Starting iterations...\n",
      "Run: 3, iteration: 1/100, moves: 1758, ncost: 374.1310354259973\n",
      "Run: 3, iteration: 2/100, moves: 750, ncost: 380.3447731899938\n",
      "Init: initializing centroids\n",
      "Init: initializing clusters\n",
      "Init: initializing centroids\n",
      "Init: initializing clusters\n",
      "Starting iterations...\n",
      "Run: 4, iteration: 1/100, moves: 466, ncost: 390.8878286898799\n",
      "Run: 4, iteration: 2/100, moves: 61, ncost: 390.8267567322608\n",
      "Run: 4, iteration: 3/100, moves: 21, ncost: 390.8089257529871\n",
      "Run: 4, iteration: 4/100, moves: 29, ncost: 390.7532253973162\n",
      "Run: 4, iteration: 5/100, moves: 35, ncost: 390.5570109010355\n",
      "Run: 4, iteration: 6/100, moves: 49, ncost: 390.3987203183114\n",
      "Run: 4, iteration: 7/100, moves: 19, ncost: 390.3723150503598\n",
      "Run: 4, iteration: 8/100, moves: 5, ncost: 390.37051951733406\n",
      "Run: 4, iteration: 9/100, moves: 2, ncost: 390.36955592084877\n",
      "Run: 4, iteration: 10/100, moves: 1, ncost: 390.36943878512375\n",
      "Run: 4, iteration: 11/100, moves: 0, ncost: 390.36943878512375\n",
      "Init: initializing centroids\n",
      "Init: initializing clusters\n",
      "Init: initializing centroids\n",
      "Init: initializing clusters\n",
      "Init: initializing centroids\n",
      "Init: initializing clusters\n",
      "Starting iterations...\n",
      "Run: 5, iteration: 1/100, moves: 1165, ncost: 468.9930953328029\n",
      "Run: 5, iteration: 2/100, moves: 137, ncost: 468.57912051492434\n",
      "Run: 5, iteration: 3/100, moves: 44, ncost: 468.48337327744514\n",
      "Run: 5, iteration: 4/100, moves: 13, ncost: 468.4778119014926\n",
      "Run: 5, iteration: 5/100, moves: 1, ncost: 468.4774845059309\n",
      "Run: 5, iteration: 6/100, moves: 1, ncost: 468.4772720240177\n",
      "Run: 5, iteration: 7/100, moves: 0, ncost: 468.4772720240177\n",
      "Best run was number 2\n",
      "Init: initializing centroids\n",
      "Init: initializing clusters\n",
      "Init: initializing centroids\n",
      "Init: initializing clusters\n",
      "Init: initializing centroids\n",
      "Init: initializing clusters\n",
      "Init: initializing centroids\n",
      "Init: initializing clusters\n",
      "Init: initializing centroids\n",
      "Init: initializing clusters\n",
      "Init: initializing centroids\n",
      "Init: initializing clusters\n",
      "Init: initializing centroids\n",
      "Init: initializing clusters\n",
      "Init: initializing centroids\n",
      "Init: initializing clusters\n",
      "Init: initializing centroids\n",
      "Init: initializing clusters\n",
      "Init: initializing centroids\n",
      "Init: initializing clusters\n",
      "Init: initializing centroids\n",
      "Init: initializing clusters\n",
      "Init: initializing centroids\n",
      "Init: initializing clusters\n",
      "Init: initializing centroids\n",
      "Init: initializing clusters\n",
      "Init: initializing centroids\n",
      "Init: initializing clusters\n",
      "Init: initializing centroids\n",
      "Init: initializing clusters\n",
      "Init: initializing centroids\n",
      "Init: initializing clusters\n",
      "Init: initializing centroids\n",
      "Init: initializing clusters\n",
      "Init: initializing centroids\n",
      "Init: initializing clusters\n",
      "Init: initializing centroids\n",
      "Init: initializing clusters\n",
      "Init: initializing centroids\n",
      "Init: initializing clusters\n",
      "Init: initializing centroids\n",
      "Init: initializing clusters\n",
      "Init: initializing centroids\n",
      "Init: initializing clusters\n",
      "Init: initializing centroids\n",
      "Init: initializing clusters\n",
      "Init: initializing centroids\n",
      "Init: initializing clusters\n",
      "Init: initializing centroids\n",
      "Init: initializing clusters\n",
      "Starting iterations...\n",
      "Run: 1, iteration: 1/100, moves: 1882, ncost: 366.4701154171365\n",
      "Run: 1, iteration: 2/100, moves: 530, ncost: 365.837596753469\n",
      "Run: 1, iteration: 3/100, moves: 70, ncost: 365.6407085506835\n",
      "Run: 1, iteration: 4/100, moves: 215, ncost: 345.9003780821433\n",
      "Run: 1, iteration: 5/100, moves: 70, ncost: 345.7844152809068\n",
      "Run: 1, iteration: 6/100, moves: 22, ncost: 345.7340519500332\n",
      "Run: 1, iteration: 7/100, moves: 37, ncost: 345.6014102862174\n",
      "Run: 1, iteration: 8/100, moves: 26, ncost: 345.5388901363141\n",
      "Run: 1, iteration: 9/100, moves: 21, ncost: 345.50592355472816\n",
      "Run: 1, iteration: 10/100, moves: 6, ncost: 345.50391936709883\n",
      "Run: 1, iteration: 11/100, moves: 0, ncost: 345.50391936709883\n",
      "Init: initializing centroids\n",
      "Init: initializing clusters\n",
      "Starting iterations...\n",
      "Run: 2, iteration: 1/100, moves: 1368, ncost: 371.29668141625723\n",
      "Run: 2, iteration: 2/100, moves: 739, ncost: 363.23189930323036\n",
      "Run: 2, iteration: 3/100, moves: 30, ncost: 363.189335490423\n",
      "Run: 2, iteration: 4/100, moves: 14, ncost: 363.16691140257285\n",
      "Run: 2, iteration: 5/100, moves: 15, ncost: 363.14846952592404\n",
      "Run: 2, iteration: 6/100, moves: 13, ncost: 363.1381794770585\n",
      "Run: 2, iteration: 7/100, moves: 0, ncost: 363.1381794770585\n",
      "Init: initializing centroids\n",
      "Init: initializing clusters\n",
      "Init: initializing centroids\n",
      "Init: initializing clusters\n",
      "Starting iterations...\n",
      "Run: 3, iteration: 1/100, moves: 618, ncost: 442.8254061490674\n",
      "Run: 3, iteration: 2/100, moves: 37, ncost: 442.7640177255961\n",
      "Run: 3, iteration: 3/100, moves: 24, ncost: 442.6372696243764\n",
      "Run: 3, iteration: 4/100, moves: 32, ncost: 442.4546829930442\n",
      "Run: 3, iteration: 5/100, moves: 28, ncost: 442.39296178931\n",
      "Run: 3, iteration: 6/100, moves: 31, ncost: 442.28702834500626\n",
      "Run: 3, iteration: 7/100, moves: 36, ncost: 442.1474334941591\n",
      "Run: 3, iteration: 8/100, moves: 21, ncost: 442.11223879116994\n",
      "Run: 3, iteration: 9/100, moves: 5, ncost: 442.1098908823487\n",
      "Run: 3, iteration: 10/100, moves: 0, ncost: 442.1098908823487\n",
      "Init: initializing centroids\n",
      "Init: initializing clusters\n",
      "Init: initializing centroids\n",
      "Init: initializing clusters\n",
      "Init: initializing centroids\n",
      "Init: initializing clusters\n",
      "Init: initializing centroids\n",
      "Init: initializing clusters\n",
      "Init: initializing centroids\n",
      "Init: initializing clusters\n",
      "Init: initializing centroids\n",
      "Init: initializing clusters\n",
      "Init: initializing centroids\n",
      "Init: initializing clusters\n",
      "Init: initializing centroids\n",
      "Init: initializing clusters\n",
      "Init: initializing centroids\n",
      "Init: initializing clusters\n",
      "Init: initializing centroids\n",
      "Init: initializing clusters\n",
      "Init: initializing centroids\n",
      "Init: initializing clusters\n",
      "Init: initializing centroids\n",
      "Init: initializing clusters\n",
      "Init: initializing centroids\n",
      "Init: initializing clusters\n",
      "Init: initializing centroids\n",
      "Init: initializing clusters\n",
      "Init: initializing centroids\n",
      "Init: initializing clusters\n",
      "Init: initializing centroids\n",
      "Init: initializing clusters\n",
      "Init: initializing centroids\n",
      "Init: initializing clusters\n",
      "Init: initializing centroids\n",
      "Init: initializing clusters\n",
      "Init: initializing centroids\n",
      "Init: initializing clusters\n",
      "Init: initializing centroids\n",
      "Init: initializing clusters\n",
      "Init: initializing centroids\n",
      "Init: initializing clusters\n",
      "Init: initializing centroids\n",
      "Init: initializing clusters\n",
      "Starting iterations...\n",
      "Run: 4, iteration: 1/100, moves: 1379, ncost: 334.27901462976195\n",
      "Run: 4, iteration: 2/100, moves: 502, ncost: 329.00128578291697\n",
      "Run: 4, iteration: 3/100, moves: 76, ncost: 328.91674076302127\n",
      "Run: 4, iteration: 4/100, moves: 18, ncost: 328.90171608552794\n",
      "Run: 4, iteration: 5/100, moves: 11, ncost: 328.88995229127073\n",
      "Run: 4, iteration: 6/100, moves: 3, ncost: 328.88905828316916\n",
      "Run: 4, iteration: 7/100, moves: 2, ncost: 328.8884706203099\n",
      "Run: 4, iteration: 8/100, moves: 0, ncost: 328.8884706203099\n",
      "Init: initializing centroids\n",
      "Init: initializing clusters\n",
      "Init: initializing centroids\n",
      "Init: initializing clusters\n",
      "Init: initializing centroids\n",
      "Init: initializing clusters\n",
      "Init: initializing centroids\n",
      "Init: initializing clusters\n",
      "Init: initializing centroids\n",
      "Init: initializing clusters\n",
      "Init: initializing centroids\n",
      "Init: initializing clusters\n",
      "Init: initializing centroids\n",
      "Init: initializing clusters\n",
      "Init: initializing centroids\n",
      "Init: initializing clusters\n",
      "Init: initializing centroids\n",
      "Init: initializing clusters\n",
      "Init: initializing centroids\n",
      "Init: initializing clusters\n",
      "Init: initializing centroids\n",
      "Init: initializing clusters\n",
      "Init: initializing centroids\n",
      "Init: initializing clusters\n",
      "Init: initializing centroids\n",
      "Init: initializing clusters\n",
      "Init: initializing centroids\n",
      "Init: initializing clusters\n",
      "Init: initializing centroids\n",
      "Init: initializing clusters\n",
      "Init: initializing centroids\n",
      "Init: initializing clusters\n",
      "Init: initializing centroids\n",
      "Init: initializing clusters\n",
      "Init: initializing centroids\n",
      "Init: initializing clusters\n",
      "Init: initializing centroids\n",
      "Init: initializing clusters\n",
      "Init: initializing centroids\n",
      "Init: initializing clusters\n",
      "Init: initializing centroids\n",
      "Init: initializing clusters\n",
      "Starting iterations...\n",
      "Run: 5, iteration: 1/100, moves: 1035, ncost: 435.93690424252827\n",
      "Run: 5, iteration: 2/100, moves: 137, ncost: 435.45051876683715\n",
      "Run: 5, iteration: 3/100, moves: 45, ncost: 435.25952168374215\n",
      "Run: 5, iteration: 4/100, moves: 42, ncost: 435.06836282076745\n",
      "Run: 5, iteration: 5/100, moves: 82, ncost: 434.58001441170893\n",
      "Run: 5, iteration: 6/100, moves: 42, ncost: 434.480330455634\n",
      "Run: 5, iteration: 7/100, moves: 19, ncost: 434.4478155257073\n",
      "Run: 5, iteration: 8/100, moves: 18, ncost: 434.4225172248738\n",
      "Run: 5, iteration: 9/100, moves: 5, ncost: 434.4212643420076\n",
      "Run: 5, iteration: 10/100, moves: 0, ncost: 434.4212643420076\n",
      "Best run was number 4\n",
      "Init: initializing centroids\n",
      "Init: initializing clusters\n",
      "Init: initializing centroids\n",
      "Init: initializing clusters\n",
      "Init: initializing centroids\n",
      "Init: initializing clusters\n",
      "Init: initializing centroids\n",
      "Init: initializing clusters\n",
      "Init: initializing centroids\n",
      "Init: initializing clusters\n",
      "Init: initializing centroids\n",
      "Init: initializing clusters\n",
      "Init: initializing centroids\n",
      "Init: initializing clusters\n",
      "Init: initializing centroids\n",
      "Init: initializing clusters\n",
      "Init: initializing centroids\n",
      "Init: initializing clusters\n",
      "Init: initializing centroids\n",
      "Init: initializing clusters\n",
      "Init: initializing centroids\n",
      "Init: initializing clusters\n",
      "Starting iterations...\n",
      "Run: 1, iteration: 1/100, moves: 1380, ncost: 384.8564571678279\n",
      "Run: 1, iteration: 2/100, moves: 504, ncost: 335.5331846986992\n",
      "Run: 1, iteration: 3/100, moves: 148, ncost: 335.1307502790113\n",
      "Run: 1, iteration: 4/100, moves: 17, ncost: 335.11139846756447\n",
      "Run: 1, iteration: 5/100, moves: 5, ncost: 335.1082664093305\n",
      "Run: 1, iteration: 6/100, moves: 2, ncost: 335.1076675400002\n",
      "Run: 1, iteration: 7/100, moves: 0, ncost: 335.1076675400002\n",
      "Init: initializing centroids\n",
      "Init: initializing clusters\n",
      "Init: initializing centroids\n",
      "Init: initializing clusters\n",
      "Init: initializing centroids\n",
      "Init: initializing clusters\n",
      "Init: initializing centroids\n",
      "Init: initializing clusters\n",
      "Init: initializing centroids\n",
      "Init: initializing clusters\n",
      "Init: initializing centroids\n",
      "Init: initializing clusters\n",
      "Init: initializing centroids\n",
      "Init: initializing clusters\n",
      "Init: initializing centroids\n",
      "Init: initializing clusters\n",
      "Init: initializing centroids\n",
      "Init: initializing clusters\n",
      "Init: initializing centroids\n",
      "Init: initializing clusters\n",
      "Init: initializing centroids\n",
      "Init: initializing clusters\n",
      "Init: initializing centroids\n",
      "Init: initializing clusters\n",
      "Init: initializing centroids\n",
      "Init: initializing clusters\n",
      "Init: initializing centroids\n",
      "Init: initializing clusters\n",
      "Init: initializing centroids\n",
      "Init: initializing clusters\n",
      "Init: initializing centroids\n",
      "Init: initializing clusters\n",
      "Init: initializing centroids\n",
      "Init: initializing clusters\n",
      "Init: initializing centroids\n",
      "Init: initializing clusters\n",
      "Init: initializing centroids\n",
      "Init: initializing clusters\n",
      "Init: initializing centroids\n",
      "Init: initializing clusters\n",
      "Init: initializing centroids\n",
      "Init: initializing clusters\n",
      "Init: initializing centroids\n",
      "Init: initializing clusters\n",
      "Init: initializing centroids\n",
      "Init: initializing clusters\n",
      "Init: initializing centroids\n",
      "Init: initializing clusters\n",
      "Starting iterations...\n",
      "Run: 2, iteration: 1/100, moves: 525, ncost: 441.95229076850904\n",
      "Run: 2, iteration: 2/100, moves: 112, ncost: 441.8422400300414\n",
      "Run: 2, iteration: 3/100, moves: 1, ncost: 441.8418608473887\n",
      "Run: 2, iteration: 4/100, moves: 0, ncost: 441.8418608473887\n",
      "Init: initializing centroids\n",
      "Init: initializing clusters\n",
      "Init: initializing centroids\n",
      "Init: initializing clusters\n",
      "Init: initializing centroids\n",
      "Init: initializing clusters\n",
      "Init: initializing centroids\n",
      "Init: initializing clusters\n",
      "Init: initializing centroids\n",
      "Init: initializing clusters\n",
      "Init: initializing centroids\n",
      "Init: initializing clusters\n",
      "Init: initializing centroids\n",
      "Init: initializing clusters\n",
      "Init: initializing centroids\n",
      "Init: initializing clusters\n",
      "Init: initializing centroids\n",
      "Init: initializing clusters\n",
      "Init: initializing centroids\n",
      "Init: initializing clusters\n",
      "Init: initializing centroids\n",
      "Init: initializing clusters\n",
      "Init: initializing centroids\n",
      "Init: initializing clusters\n",
      "Init: initializing centroids\n",
      "Init: initializing clusters\n",
      "Init: initializing centroids\n",
      "Init: initializing clusters\n",
      "Starting iterations...\n",
      "Run: 3, iteration: 1/100, moves: 1611, ncost: 425.24799488609807\n",
      "Run: 3, iteration: 2/100, moves: 696, ncost: 401.05967896099327\n",
      "Run: 3, iteration: 3/100, moves: 172, ncost: 400.9634903413102\n",
      "Run: 3, iteration: 4/100, moves: 58, ncost: 400.6026360579503\n",
      "Run: 3, iteration: 5/100, moves: 57, ncost: 400.3516613365842\n",
      "Run: 3, iteration: 6/100, moves: 27, ncost: 400.30764206915416\n",
      "Run: 3, iteration: 7/100, moves: 9, ncost: 400.2965127879107\n",
      "Run: 3, iteration: 8/100, moves: 3, ncost: 400.2953685185021\n",
      "Run: 3, iteration: 9/100, moves: 0, ncost: 400.2953685185021\n",
      "Init: initializing centroids\n",
      "Init: initializing clusters\n",
      "Init: initializing centroids\n",
      "Init: initializing clusters\n",
      "Init: initializing centroids\n",
      "Init: initializing clusters\n",
      "Init: initializing centroids\n",
      "Init: initializing clusters\n",
      "Init: initializing centroids\n",
      "Init: initializing clusters\n",
      "Init: initializing centroids\n",
      "Init: initializing clusters\n",
      "Init: initializing centroids\n",
      "Init: initializing clusters\n",
      "Init: initializing centroids\n",
      "Init: initializing clusters\n",
      "Starting iterations...\n",
      "Run: 4, iteration: 1/100, moves: 1225, ncost: 297.18631602952667\n",
      "Run: 4, iteration: 2/100, moves: 485, ncost: 295.0510231581281\n",
      "Run: 4, iteration: 3/100, moves: 95, ncost: 294.7144602932082\n",
      "Run: 4, iteration: 4/100, moves: 31, ncost: 294.68066341520847\n",
      "Run: 4, iteration: 5/100, moves: 15, ncost: 294.6638545663254\n",
      "Run: 4, iteration: 6/100, moves: 17, ncost: 294.6386265585234\n",
      "Run: 4, iteration: 7/100, moves: 23, ncost: 294.5843717271628\n",
      "Run: 4, iteration: 8/100, moves: 42, ncost: 294.4467473177681\n",
      "Run: 4, iteration: 9/100, moves: 26, ncost: 294.40180455898195\n",
      "Run: 4, iteration: 10/100, moves: 11, ncost: 294.3805268779079\n",
      "Run: 4, iteration: 11/100, moves: 17, ncost: 294.3511307576837\n",
      "Run: 4, iteration: 12/100, moves: 11, ncost: 294.3439687734499\n",
      "Run: 4, iteration: 13/100, moves: 2, ncost: 294.34257148535556\n",
      "Run: 4, iteration: 14/100, moves: 1, ncost: 294.3422828903966\n",
      "Run: 4, iteration: 15/100, moves: 2, ncost: 294.3417666040079\n",
      "Run: 4, iteration: 16/100, moves: 1, ncost: 294.34155085084075\n",
      "Run: 4, iteration: 17/100, moves: 0, ncost: 294.34155085084075\n",
      "Init: initializing centroids\n",
      "Init: initializing clusters\n",
      "Init: initializing centroids\n",
      "Init: initializing clusters\n",
      "Starting iterations...\n",
      "Run: 5, iteration: 1/100, moves: 1748, ncost: 349.8345042240153\n",
      "Run: 5, iteration: 2/100, moves: 867, ncost: 340.0568252904751\n",
      "Run: 5, iteration: 3/100, moves: 47, ncost: 340.0131251297383\n",
      "Run: 5, iteration: 4/100, moves: 10, ncost: 340.0023844060568\n",
      "Run: 5, iteration: 5/100, moves: 5, ncost: 339.9994862413243\n",
      "Run: 5, iteration: 6/100, moves: 5, ncost: 339.99536731605133\n",
      "Run: 5, iteration: 7/100, moves: 5, ncost: 339.98795756963943\n",
      "Run: 5, iteration: 8/100, moves: 5, ncost: 339.98596352702697\n",
      "Run: 5, iteration: 9/100, moves: 0, ncost: 339.98596352702697\n",
      "Best run was number 4\n"
     ]
    },
    {
     "data": {
      "image/png": "[encoded data removed]",
      "text/plain": [
       "<Figure size 640x480 with 1 Axes>"
      ]
     },
     "metadata": {},
     "output_type": "display_data"
    }
   ],
   "source": [
    "from kmodes.kprototypes import KPrototypes\n",
    "import matplotlib.pyplot as plt\n",
    "# Elbow curve to find optimal K \n",
    "\n",
    "cost = [] \n",
    "kmode_models = []\n",
    "K = [1, 2, 3, 4, 5, 6, 7]\n",
    "for k in list(K): \n",
    "    kmode = KPrototypes(n_clusters=k, init = \"random\", n_init = 5, verbose=1) \n",
    "    kmode.fit_predict(df_to_cluster_normalize, categorical=[1, 6, 7]) \n",
    "    cost.append(kmode.cost_)\n",
    "    kmode_models.append(kmode)\n",
    "      \n",
    "plt.plot(K, cost, 'x-') \n",
    "plt.xlabel('No. of clusters') \n",
    "plt.ylabel('Cost') \n",
    "plt.title('Elbow Curve') \n",
    "plt.show()"
   ]
  },
  {
   "cell_type": "code",
   "execution_count": 27,
   "metadata": {},
   "outputs": [
    {
     "name": "stdout",
     "output_type": "stream",
     "text": [
      "Init: initializing centroids\n",
      "Init: initializing clusters\n",
      "Init: initializing centroids\n",
      "Init: initializing clusters\n",
      "Init: initializing centroids\n",
      "Init: initializing clusters\n",
      "Starting iterations...\n",
      "Run: 1, iteration: 1/100, moves: 17, ncost: 572.6163818061661\n",
      "Run: 1, iteration: 2/100, moves: 0, ncost: 572.6163818061661\n",
      "Init: initializing centroids\n",
      "Init: initializing clusters\n",
      "Starting iterations...\n",
      "Run: 2, iteration: 1/100, moves: 923, ncost: 580.9344727226974\n",
      "Run: 2, iteration: 2/100, moves: 97, ncost: 572.6163818061659\n",
      "Run: 2, iteration: 3/100, moves: 0, ncost: 572.6163818061659\n",
      "Init: initializing centroids\n",
      "Init: initializing clusters\n",
      "Starting iterations...\n",
      "Run: 3, iteration: 1/100, moves: 789, ncost: 572.6163818061659\n",
      "Run: 3, iteration: 2/100, moves: 0, ncost: 572.6163818061659\n",
      "Init: initializing centroids\n",
      "Init: initializing clusters\n",
      "Init: initializing centroids\n",
      "Init: initializing clusters\n",
      "Starting iterations...\n",
      "Run: 4, iteration: 1/100, moves: 137, ncost: 1463.8740991572256\n",
      "Run: 4, iteration: 2/100, moves: 385, ncost: 1387.994108251835\n",
      "Run: 4, iteration: 3/100, moves: 63, ncost: 1387.9547690984489\n",
      "Run: 4, iteration: 4/100, moves: 0, ncost: 1387.9547690984489\n",
      "Init: initializing centroids\n",
      "Init: initializing clusters\n",
      "Starting iterations...\n",
      "Run: 5, iteration: 1/100, moves: 0, ncost: 572.6163818061661\n",
      "Best run was number 2\n"
     ]
    },
    {
     "data": {
      "text/plain": [
       "array([1, 1, 2, ..., 1, 0, 1], dtype=uint16)"
      ]
     },
     "execution_count": 27,
     "metadata": {},
     "output_type": "execute_result"
    }
   ],
   "source": [
    "from kmodes.kprototypes import KPrototypes\n",
    "\n",
    "kmode = KPrototypes(n_clusters=3, init = \"random\", n_init = 5, verbose=1, random_state=12345) \n",
    "kmode.fit_predict(df_to_cluster_normalize, categorical=[1, 6, 7]) "
   ]
  },
  {
   "cell_type": "code",
   "execution_count": 28,
   "metadata": {},
   "outputs": [],
   "source": [
    "df_to_cluster_normalize[\"Label\"] = kmode.labels_"
   ]
  },
  {
   "cell_type": "code",
   "execution_count": 29,
   "metadata": {},
   "outputs": [
    {
     "data": {
      "text/plain": [
       "array([['0.05868627450980439', '0.08722768670309657',\n",
       "        '0.05111111111111156', '0.02488662538325421', '0.0', '0.0',\n",
       "        '0.030910681203328547', '0.11527076688720035', 'F', '2', '0'],\n",
       "       ['0.9108039215686349', '0.9077978142076508', '0.9999999999999474',\n",
       "        '0.9749570897514573', '0.9003999999999931', '1.0',\n",
       "        '0.8964774119643334', '0.9618598890015831', 'M', '6', '1'],\n",
       "       ['0.5734509803921544', '0.9542841530054633', '0.6123333333333253',\n",
       "        '0.6232384779206038', '9.103828801926283e-17', '1.0',\n",
       "        '0.373866283005761', '0.8041981101578033', 'F', '6', '0']],\n",
       "      dtype='<U32')"
      ]
     },
     "execution_count": 29,
     "metadata": {},
     "output_type": "execute_result"
    }
   ],
   "source": [
    "kmode.cluster_centroids_"
   ]
  },
  {
   "cell_type": "markdown",
   "metadata": {},
   "source": [
    "# Analyzing the customer segments\n",
    "\n",
    "First, let's look at the categorical variables.\n",
    "\n",
    "We can see that cluster 0 is made of a femal majority, with a medium level of education and who tend to not have credit cards. \n",
    "\n",
    "Cluster 1 is made up of a male majority, with a low level of education and who tend to not have credit cards.\n",
    "\n",
    "Cluster 2 is made up of a highly educated male majority who tend to have credit cards."
   ]
  },
  {
   "cell_type": "code",
   "execution_count": 30,
   "metadata": {},
   "outputs": [
    {
     "data": {
      "text/html": [
       "<div>\n",
       "<style scoped>\n",
       "    .dataframe tbody tr th:only-of-type {\n",
       "        vertical-align: middle;\n",
       "    }\n",
       "\n",
       "    .dataframe tbody tr th {\n",
       "        vertical-align: top;\n",
       "    }\n",
       "\n",
       "    .dataframe thead th {\n",
       "        text-align: right;\n",
       "    }\n",
       "</style>\n",
       "<table border=\"1\" class=\"dataframe\">\n",
       "  <thead>\n",
       "    <tr style=\"text-align: right;\">\n",
       "      <th></th>\n",
       "      <th>Gender</th>\n",
       "      <th>Education</th>\n",
       "      <th>HasCrCard</th>\n",
       "    </tr>\n",
       "  </thead>\n",
       "  <tbody>\n",
       "    <tr>\n",
       "      <th>0</th>\n",
       "      <td>F</td>\n",
       "      <td>2</td>\n",
       "      <td>0</td>\n",
       "    </tr>\n",
       "    <tr>\n",
       "      <th>1</th>\n",
       "      <td>M</td>\n",
       "      <td>6</td>\n",
       "      <td>1</td>\n",
       "    </tr>\n",
       "    <tr>\n",
       "      <th>2</th>\n",
       "      <td>F</td>\n",
       "      <td>6</td>\n",
       "      <td>0</td>\n",
       "    </tr>\n",
       "  </tbody>\n",
       "</table>\n",
       "</div>"
      ],
      "text/plain": [
       "  Gender Education HasCrCard\n",
       "0      F         2         0\n",
       "1      M         6         1\n",
       "2      F         6         0"
      ]
     },
     "execution_count": 30,
     "metadata": {},
     "output_type": "execute_result"
    }
   ],
   "source": [
    "pd.DataFrame(kmode.cluster_centroids_).iloc[:,-3:].rename(columns={8:\"Gender\", 9:\"Education\", 10:\"HasCrCard\"})"
   ]
  },
  {
   "cell_type": "markdown",
   "metadata": {},
   "source": [
    "Let's look in more detail at the frequency distribution of the categorical variables within these 3 clusters."
   ]
  },
  {
   "cell_type": "code",
   "execution_count": 31,
   "metadata": {},
   "outputs": [
    {
     "data": {
      "image/png": "[encoded data removed]",
      "text/plain": [
       "<Figure size 1000x600 with 1 Axes>"
      ]
     },
     "metadata": {},
     "output_type": "display_data"
    },
    {
     "data": {
      "image/png": "[encoded data removed]",
      "text/plain": [
       "<Figure size 1000x600 with 1 Axes>"
      ]
     },
     "metadata": {},
     "output_type": "display_data"
    },
    {
     "data": {
      "image/png": "[encoded data removed]",
      "text/plain": [
       "<Figure size 1000x600 with 1 Axes>"
      ]
     },
     "metadata": {},
     "output_type": "display_data"
    }
   ],
   "source": [
    "gender_vc = df_to_cluster_normalize[df_to_cluster_normalize[\"Label\"]==0][\"Gender\"].value_counts()\n",
    "education_vc = df_to_cluster_normalize[df_to_cluster_normalize[\"Label\"]==0][\"Education\"].value_counts()\n",
    "has_cc_vc = df_to_cluster_normalize[df_to_cluster_normalize[\"Label\"]==0][\"HasCrCard\"].value_counts()\n",
    "\n",
    "plt.figure(figsize=(10,6))\n",
    "plt.bar(gender_vc.index, gender_vc)\n",
    "plt.show()\n",
    "\n",
    "plt.figure(figsize=(10,6))\n",
    "plt.bar(education_vc.index, education_vc)\n",
    "plt.show()\n",
    "\n",
    "plt.figure(figsize=(10,6))\n",
    "plt.bar(has_cc_vc.index, has_cc_vc)\n",
    "plt.show()"
   ]
  },
  {
   "cell_type": "code",
   "execution_count": 32,
   "metadata": {},
   "outputs": [
    {
     "data": {
      "image/png": "[encoded data removed]",
      "text/plain": [
       "<Figure size 1000x600 with 1 Axes>"
      ]
     },
     "metadata": {},
     "output_type": "display_data"
    },
    {
     "data": {
      "image/png": "[encoded data removed]",
      "text/plain": [
       "<Figure size 1000x600 with 1 Axes>"
      ]
     },
     "metadata": {},
     "output_type": "display_data"
    },
    {
     "data": {
      "image/png": "[encoded data removed]",
      "text/plain": [
       "<Figure size 1000x600 with 1 Axes>"
      ]
     },
     "metadata": {},
     "output_type": "display_data"
    }
   ],
   "source": [
    "gender_vc = df_to_cluster_normalize[df_to_cluster_normalize[\"Label\"]==1][\"Gender\"].value_counts()\n",
    "education_vc = df_to_cluster_normalize[df_to_cluster_normalize[\"Label\"]==1][\"Education\"].value_counts()\n",
    "has_cc_vc = df_to_cluster_normalize[df_to_cluster_normalize[\"Label\"]==1][\"HasCrCard\"].value_counts()\n",
    "\n",
    "plt.figure(figsize=(10,6))\n",
    "plt.bar(gender_vc.index, gender_vc)\n",
    "plt.show()\n",
    "\n",
    "plt.figure(figsize=(10,6))\n",
    "plt.bar(education_vc.index, education_vc)\n",
    "plt.show()\n",
    "\n",
    "plt.figure(figsize=(10,6))\n",
    "plt.bar(has_cc_vc.index, has_cc_vc)\n",
    "plt.show()"
   ]
  },
  {
   "cell_type": "code",
   "execution_count": 33,
   "metadata": {},
   "outputs": [
    {
     "data": {
      "image/png": "[encoded data removed]",
      "text/plain": [
       "<Figure size 1000x600 with 1 Axes>"
      ]
     },
     "metadata": {},
     "output_type": "display_data"
    },
    {
     "data": {
      "image/png": "[encoded data removed]",
      "text/plain": [
       "<Figure size 1000x600 with 1 Axes>"
      ]
     },
     "metadata": {},
     "output_type": "display_data"
    },
    {
     "data": {
      "image/png": "[encoded data removed]",
      "text/plain": [
       "<Figure size 1000x600 with 1 Axes>"
      ]
     },
     "metadata": {},
     "output_type": "display_data"
    }
   ],
   "source": [
    "gender_vc = df_to_cluster_normalize[df_to_cluster_normalize[\"Label\"]==2][\"Gender\"].value_counts()\n",
    "education_vc = df_to_cluster_normalize[df_to_cluster_normalize[\"Label\"]==2][\"Education\"].value_counts()\n",
    "has_cc_vc = df_to_cluster_normalize[df_to_cluster_normalize[\"Label\"]==2][\"HasCrCard\"].value_counts()\n",
    "\n",
    "plt.figure(figsize=(10,6))\n",
    "plt.bar(gender_vc.index, gender_vc)\n",
    "plt.show()\n",
    "\n",
    "plt.figure(figsize=(10,6))\n",
    "plt.bar(education_vc.index, education_vc)\n",
    "plt.show()\n",
    "\n",
    "plt.figure(figsize=(10,6))\n",
    "plt.bar(has_cc_vc.index, has_cc_vc)\n",
    "plt.show()"
   ]
  },
  {
   "cell_type": "markdown",
   "metadata": {},
   "source": [
    "From the plots above, we can see that \n",
    "- the gender disparity in cluster 2 & 1 are much more pronounced than in cluster 0 and in that there are many more males in cluster 1, and many more females in cluster 2.\n",
    "- the credit card disparity in cluster 0 and 1 are much more pronounced in that most people in cluster 0 do not have a credit card and most people in cluster 1 have a credit card.\n",
    "- customers in cluster 1 are much more educated, customers in cluster 0 have a low education level, and customers in cluster 2 have a medium education level. Education seems to be a clear distinction between the clusters.\n",
    "\n",
    "Before we look at the characteristics of the clusters overall, let's take a look at the continuous features as well:"
   ]
  },
  {
   "cell_type": "code",
   "execution_count": 35,
   "metadata": {},
   "outputs": [
    {
     "data": {
      "application/vnd.plotly.v1+json": {
       "config": {
        "plotlyServerURL": "https://plot.ly"
       },
       "data": [
        {
         "fill": "toself",
         "name": "Cluster 0",
         "opacity": 1,
         "r": [
          0.058686274509803925,
          0.08722768670309654,
          0.05111111111111112,
          0.024886625383254223,
          0,
          0,
          0.03091068120332852,
          0.11527076688720055
         ],
         "theta": [
          "Age",
          "CreditScore",
          "Tenure",
          "Balance",
          "NumOfProducts",
          "Transaction_Count",
          "Avg_Transaction_Value",
          "EstimatedSalary"
         ],
         "type": "scatterpolar"
        },
        {
         "fill": "toself",
         "name": "Cluster 1",
         "opacity": 1,
         "r": [
          0.9108039215686277,
          0.9077978142076503,
          1,
          0.9749570897514592,
          0.9004000000000001,
          1,
          0.8964774119643344,
          0.9618598890015868
         ],
         "theta": [
          "Age",
          "CreditScore",
          "Tenure",
          "Balance",
          "NumOfProducts",
          "Transaction_Count",
          "Avg_Transaction_Value",
          "EstimatedSalary"
         ],
         "type": "scatterpolar"
        },
        {
         "fill": "toself",
         "name": "Cluster 2",
         "opacity": 1,
         "r": [
          0.5734509803921569,
          0.9542841530054645,
          0.6123333333333333,
          0.623238477920603,
          0,
          1,
          0.3738662830057609,
          0.8041981101578033
         ],
         "theta": [
          "Age",
          "CreditScore",
          "Tenure",
          "Balance",
          "NumOfProducts",
          "Transaction_Count",
          "Avg_Transaction_Value",
          "EstimatedSalary"
         ],
         "type": "scatterpolar"
        }
       ],
       "layout": {
        "polar": {
         "radialaxis": {
          "visible": true
         }
        },
        "showlegend": true,
        "template": {
         "data": {
          "bar": [
           {
            "error_x": {
             "color": "#2a3f5f"
            },
            "error_y": {
             "color": "#2a3f5f"
            },
            "marker": {
             "line": {
              "color": "#E5ECF6",
              "width": 0.5
             },
             "pattern": {
              "fillmode": "overlay",
              "size": 10,
              "solidity": 0.2
             }
            },
            "type": "bar"
           }
          ],
          "barpolar": [
           {
            "marker": {
             "line": {
              "color": "#E5ECF6",
              "width": 0.5
             },
             "pattern": {
              "fillmode": "overlay",
              "size": 10,
              "solidity": 0.2
             }
            },
            "type": "barpolar"
           }
          ],
          "carpet": [
           {
            "aaxis": {
             "endlinecolor": "#2a3f5f",
             "gridcolor": "white",
             "linecolor": "white",
             "minorgridcolor": "white",
             "startlinecolor": "#2a3f5f"
            },
            "baxis": {
             "endlinecolor": "#2a3f5f",
             "gridcolor": "white",
             "linecolor": "white",
             "minorgridcolor": "white",
             "startlinecolor": "#2a3f5f"
            },
            "type": "carpet"
           }
          ],
          "choropleth": [
           {
            "colorbar": {
             "outlinewidth": 0,
             "ticks": ""
            },
            "type": "choropleth"
           }
          ],
          "contour": [
           {
            "colorbar": {
             "outlinewidth": 0,
             "ticks": ""
            },
            "colorscale": [
             [
              0,
              "#0d0887"
             ],
             [
              0.1111111111111111,
              "#46039f"
             ],
             [
              0.2222222222222222,
              "#7201a8"
             ],
             [
              0.3333333333333333,
              "#9c179e"
             ],
             [
              0.4444444444444444,
              "#bd3786"
             ],
             [
              0.5555555555555556,
              "#d8576b"
             ],
             [
              0.6666666666666666,
              "#ed7953"
             ],
             [
              0.7777777777777778,
              "#fb9f3a"
             ],
             [
              0.8888888888888888,
              "#fdca26"
             ],
             [
              1,
              "#f0f921"
             ]
            ],
            "type": "contour"
           }
          ],
          "contourcarpet": [
           {
            "colorbar": {
             "outlinewidth": 0,
             "ticks": ""
            },
            "type": "contourcarpet"
           }
          ],
          "heatmap": [
           {
            "colorbar": {
             "outlinewidth": 0,
             "ticks": ""
            },
            "colorscale": [
             [
              0,
              "#0d0887"
             ],
             [
              0.1111111111111111,
              "#46039f"
             ],
             [
              0.2222222222222222,
              "#7201a8"
             ],
             [
              0.3333333333333333,
              "#9c179e"
             ],
             [
              0.4444444444444444,
              "#bd3786"
             ],
             [
              0.5555555555555556,
              "#d8576b"
             ],
             [
              0.6666666666666666,
              "#ed7953"
             ],
             [
              0.7777777777777778,
              "#fb9f3a"
             ],
             [
              0.8888888888888888,
              "#fdca26"
             ],
             [
              1,
              "#f0f921"
             ]
            ],
            "type": "heatmap"
           }
          ],
          "heatmapgl": [
           {
            "colorbar": {
             "outlinewidth": 0,
             "ticks": ""
            },
            "colorscale": [
             [
              0,
              "#0d0887"
             ],
             [
              0.1111111111111111,
              "#46039f"
             ],
             [
              0.2222222222222222,
              "#7201a8"
             ],
             [
              0.3333333333333333,
              "#9c179e"
             ],
             [
              0.4444444444444444,
              "#bd3786"
             ],
             [
              0.5555555555555556,
              "#d8576b"
             ],
             [
              0.6666666666666666,
              "#ed7953"
             ],
             [
              0.7777777777777778,
              "#fb9f3a"
             ],
             [
              0.8888888888888888,
              "#fdca26"
             ],
             [
              1,
              "#f0f921"
             ]
            ],
            "type": "heatmapgl"
           }
          ],
          "histogram": [
           {
            "marker": {
             "pattern": {
              "fillmode": "overlay",
              "size": 10,
              "solidity": 0.2
             }
            },
            "type": "histogram"
           }
          ],
          "histogram2d": [
           {
            "colorbar": {
             "outlinewidth": 0,
             "ticks": ""
            },
            "colorscale": [
             [
              0,
              "#0d0887"
             ],
             [
              0.1111111111111111,
              "#46039f"
             ],
             [
              0.2222222222222222,
              "#7201a8"
             ],
             [
              0.3333333333333333,
              "#9c179e"
             ],
             [
              0.4444444444444444,
              "#bd3786"
             ],
             [
              0.5555555555555556,
              "#d8576b"
             ],
             [
              0.6666666666666666,
              "#ed7953"
             ],
             [
              0.7777777777777778,
              "#fb9f3a"
             ],
             [
              0.8888888888888888,
              "#fdca26"
             ],
             [
              1,
              "#f0f921"
             ]
            ],
            "type": "histogram2d"
           }
          ],
          "histogram2dcontour": [
           {
            "colorbar": {
             "outlinewidth": 0,
             "ticks": ""
            },
            "colorscale": [
             [
              0,
              "#0d0887"
             ],
             [
              0.1111111111111111,
              "#46039f"
             ],
             [
              0.2222222222222222,
              "#7201a8"
             ],
             [
              0.3333333333333333,
              "#9c179e"
             ],
             [
              0.4444444444444444,
              "#bd3786"
             ],
             [
              0.5555555555555556,
              "#d8576b"
             ],
             [
              0.6666666666666666,
              "#ed7953"
             ],
             [
              0.7777777777777778,
              "#fb9f3a"
             ],
             [
              0.8888888888888888,
              "#fdca26"
             ],
             [
              1,
              "#f0f921"
             ]
            ],
            "type": "histogram2dcontour"
           }
          ],
          "mesh3d": [
           {
            "colorbar": {
             "outlinewidth": 0,
             "ticks": ""
            },
            "type": "mesh3d"
           }
          ],
          "parcoords": [
           {
            "line": {
             "colorbar": {
              "outlinewidth": 0,
              "ticks": ""
             }
            },
            "type": "parcoords"
           }
          ],
          "pie": [
           {
            "automargin": true,
            "type": "pie"
           }
          ],
          "scatter": [
           {
            "fillpattern": {
             "fillmode": "overlay",
             "size": 10,
             "solidity": 0.2
            },
            "type": "scatter"
           }
          ],
          "scatter3d": [
           {
            "line": {
             "colorbar": {
              "outlinewidth": 0,
              "ticks": ""
             }
            },
            "marker": {
             "colorbar": {
              "outlinewidth": 0,
              "ticks": ""
             }
            },
            "type": "scatter3d"
           }
          ],
          "scattercarpet": [
           {
            "marker": {
             "colorbar": {
              "outlinewidth": 0,
              "ticks": ""
             }
            },
            "type": "scattercarpet"
           }
          ],
          "scattergeo": [
           {
            "marker": {
             "colorbar": {
              "outlinewidth": 0,
              "ticks": ""
             }
            },
            "type": "scattergeo"
           }
          ],
          "scattergl": [
           {
            "marker": {
             "colorbar": {
              "outlinewidth": 0,
              "ticks": ""
             }
            },
            "type": "scattergl"
           }
          ],
          "scattermapbox": [
           {
            "marker": {
             "colorbar": {
              "outlinewidth": 0,
              "ticks": ""
             }
            },
            "type": "scattermapbox"
           }
          ],
          "scatterpolar": [
           {
            "marker": {
             "colorbar": {
              "outlinewidth": 0,
              "ticks": ""
             }
            },
            "type": "scatterpolar"
           }
          ],
          "scatterpolargl": [
           {
            "marker": {
             "colorbar": {
              "outlinewidth": 0,
              "ticks": ""
             }
            },
            "type": "scatterpolargl"
           }
          ],
          "scatterternary": [
           {
            "marker": {
             "colorbar": {
              "outlinewidth": 0,
              "ticks": ""
             }
            },
            "type": "scatterternary"
           }
          ],
          "surface": [
           {
            "colorbar": {
             "outlinewidth": 0,
             "ticks": ""
            },
            "colorscale": [
             [
              0,
              "#0d0887"
             ],
             [
              0.1111111111111111,
              "#46039f"
             ],
             [
              0.2222222222222222,
              "#7201a8"
             ],
             [
              0.3333333333333333,
              "#9c179e"
             ],
             [
              0.4444444444444444,
              "#bd3786"
             ],
             [
              0.5555555555555556,
              "#d8576b"
             ],
             [
              0.6666666666666666,
              "#ed7953"
             ],
             [
              0.7777777777777778,
              "#fb9f3a"
             ],
             [
              0.8888888888888888,
              "#fdca26"
             ],
             [
              1,
              "#f0f921"
             ]
            ],
            "type": "surface"
           }
          ],
          "table": [
           {
            "cells": {
             "fill": {
              "color": "#EBF0F8"
             },
             "line": {
              "color": "white"
             }
            },
            "header": {
             "fill": {
              "color": "#C8D4E3"
             },
             "line": {
              "color": "white"
             }
            },
            "type": "table"
           }
          ]
         },
         "layout": {
          "annotationdefaults": {
           "arrowcolor": "#2a3f5f",
           "arrowhead": 0,
           "arrowwidth": 1
          },
          "autotypenumbers": "strict",
          "coloraxis": {
           "colorbar": {
            "outlinewidth": 0,
            "ticks": ""
           }
          },
          "colorscale": {
           "diverging": [
            [
             0,
             "#8e0152"
            ],
            [
             0.1,
             "#c51b7d"
            ],
            [
             0.2,
             "#de77ae"
            ],
            [
             0.3,
             "#f1b6da"
            ],
            [
             0.4,
             "#fde0ef"
            ],
            [
             0.5,
             "#f7f7f7"
            ],
            [
             0.6,
             "#e6f5d0"
            ],
            [
             0.7,
             "#b8e186"
            ],
            [
             0.8,
             "#7fbc41"
            ],
            [
             0.9,
             "#4d9221"
            ],
            [
             1,
             "#276419"
            ]
           ],
           "sequential": [
            [
             0,
             "#0d0887"
            ],
            [
             0.1111111111111111,
             "#46039f"
            ],
            [
             0.2222222222222222,
             "#7201a8"
            ],
            [
             0.3333333333333333,
             "#9c179e"
            ],
            [
             0.4444444444444444,
             "#bd3786"
            ],
            [
             0.5555555555555556,
             "#d8576b"
            ],
            [
             0.6666666666666666,
             "#ed7953"
            ],
            [
             0.7777777777777778,
             "#fb9f3a"
            ],
            [
             0.8888888888888888,
             "#fdca26"
            ],
            [
             1,
             "#f0f921"
            ]
           ],
           "sequentialminus": [
            [
             0,
             "#0d0887"
            ],
            [
             0.1111111111111111,
             "#46039f"
            ],
            [
             0.2222222222222222,
             "#7201a8"
            ],
            [
             0.3333333333333333,
             "#9c179e"
            ],
            [
             0.4444444444444444,
             "#bd3786"
            ],
            [
             0.5555555555555556,
             "#d8576b"
            ],
            [
             0.6666666666666666,
             "#ed7953"
            ],
            [
             0.7777777777777778,
             "#fb9f3a"
            ],
            [
             0.8888888888888888,
             "#fdca26"
            ],
            [
             1,
             "#f0f921"
            ]
           ]
          },
          "colorway": [
           "#636efa",
           "#EF553B",
           "#00cc96",
           "#ab63fa",
           "#FFA15A",
           "#19d3f3",
           "#FF6692",
           "#B6E880",
           "#FF97FF",
           "#FECB52"
          ],
          "font": {
           "color": "#2a3f5f"
          },
          "geo": {
           "bgcolor": "white",
           "lakecolor": "white",
           "landcolor": "#E5ECF6",
           "showlakes": true,
           "showland": true,
           "subunitcolor": "white"
          },
          "hoverlabel": {
           "align": "left"
          },
          "hovermode": "closest",
          "mapbox": {
           "style": "light"
          },
          "paper_bgcolor": "white",
          "plot_bgcolor": "#E5ECF6",
          "polar": {
           "angularaxis": {
            "gridcolor": "white",
            "linecolor": "white",
            "ticks": ""
           },
           "bgcolor": "#E5ECF6",
           "radialaxis": {
            "gridcolor": "white",
            "linecolor": "white",
            "ticks": ""
           }
          },
          "scene": {
           "xaxis": {
            "backgroundcolor": "#E5ECF6",
            "gridcolor": "white",
            "gridwidth": 2,
            "linecolor": "white",
            "showbackground": true,
            "ticks": "",
            "zerolinecolor": "white"
           },
           "yaxis": {
            "backgroundcolor": "#E5ECF6",
            "gridcolor": "white",
            "gridwidth": 2,
            "linecolor": "white",
            "showbackground": true,
            "ticks": "",
            "zerolinecolor": "white"
           },
           "zaxis": {
            "backgroundcolor": "#E5ECF6",
            "gridcolor": "white",
            "gridwidth": 2,
            "linecolor": "white",
            "showbackground": true,
            "ticks": "",
            "zerolinecolor": "white"
           }
          },
          "shapedefaults": {
           "line": {
            "color": "#2a3f5f"
           }
          },
          "ternary": {
           "aaxis": {
            "gridcolor": "white",
            "linecolor": "white",
            "ticks": ""
           },
           "baxis": {
            "gridcolor": "white",
            "linecolor": "white",
            "ticks": ""
           },
           "bgcolor": "#E5ECF6",
           "caxis": {
            "gridcolor": "white",
            "linecolor": "white",
            "ticks": ""
           }
          },
          "title": {
           "x": 0.05
          },
          "xaxis": {
           "automargin": true,
           "gridcolor": "white",
           "linecolor": "white",
           "ticks": "",
           "title": {
            "standoff": 15
           },
           "zerolinecolor": "white",
           "zerolinewidth": 2
          },
          "yaxis": {
           "automargin": true,
           "gridcolor": "white",
           "linecolor": "white",
           "ticks": "",
           "title": {
            "standoff": 15
           },
           "zerolinecolor": "white",
           "zerolinewidth": 2
          }
         }
        },
        "title": {
         "text": "Radar plot - Cluster attributes (Normalized Values)"
        }
       }
      }
     },
     "metadata": {},
     "output_type": "display_data"
    }
   ],
   "source": [
    "import plotly.express as px\n",
    "import plotly.graph_objects as go\n",
    "\n",
    "n_clust = 3\n",
    "attributes = [x for x in df_to_cluster_normalize.columns[:-1] if x in continuous_columns]\n",
    "colors=['purple','yellow','red']#,'magenta','orange', 'green', 'pink'\n",
    "cluster=[f'Cluster {i}' for i in range(n_clust)]\n",
    "\n",
    "fig = go.Figure()\n",
    "for index in range(0,n_clust):\n",
    "    fig.add_trace(go.Scatterpolar(r=df_to_cluster_normalize.loc[df_to_cluster_normalize.Label == index, attributes].mean(),\n",
    "                                  theta=attributes,\n",
    "                                  fill='toself',\n",
    "#                                   fillcolor=colors[index],\n",
    "                                  opacity=1,\n",
    "                                  name=cluster[index]))\n",
    "    \n",
    "fig.update_layout(polar=dict(radialaxis=dict(visible=True)),showlegend=True,\n",
    "                  title=\"Radar plot - Cluster attributes (Normalized Values)\")\n",
    "fig.show()"
   ]
  },
  {
   "cell_type": "markdown",
   "metadata": {},
   "source": [
    "# Overall Analysis\n",
    "\n",
    "Looking at both the categorical & continuous features, a picture begins to emerge:\n",
    "- Cluster 0 seems to be made up of lower income, lower educated men and women. They tend to have less in their bank accounts, and to spend less. \n",
    "- Cluster 1 seems to be made up high income, highly educated men, who already use the most number of products. Nevertheless, due to their great spending power, it may be important to continuously market towards them.\n",
    "- Cluster 2 seems to be made up of middle income, medium educated women, middle aged women. They tend to have excellent credit scores, and medium salaries & account balances. They are subscribed to very few products and this may be a good demographic to market new products towards.\n"
   ]
  },
  {
   "cell_type": "markdown",
   "metadata": {},
   "source": []
  }
 ],
 "metadata": {
  "kernelspec": {
   "display_name": "env",
   "language": "python",
   "name": "python3"
  },
  "language_info": {
   "codemirror_mode": {
    "name": "ipython",
    "version": 3
   },
   "file_extension": ".py",
   "mimetype": "text/x-python",
   "name": "python",
   "nbconvert_exporter": "python",
   "pygments_lexer": "ipython3",
   "version": "3.10.13"
  }
 },
 "nbformat": 4,
 "nbformat_minor": 2
}
